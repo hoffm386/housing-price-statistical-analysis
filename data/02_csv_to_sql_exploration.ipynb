{
 "cells": [
  {
   "cell_type": "code",
   "execution_count": 1,
   "metadata": {},
   "outputs": [],
   "source": [
    "import psycopg2"
   ]
  },
  {
   "cell_type": "code",
   "execution_count": 2,
   "metadata": {},
   "outputs": [
    {
     "ename": "TypeError",
     "evalue": "missing dsn and no parameters",
     "output_type": "error",
     "traceback": [
      "\u001b[0;31m---------------------------------------------------------------------------\u001b[0m",
      "\u001b[0;31mTypeError\u001b[0m                                 Traceback (most recent call last)",
      "\u001b[0;32m<ipython-input-2-801421b51f2c>\u001b[0m in \u001b[0;36m<module>\u001b[0;34m\u001b[0m\n\u001b[1;32m      1\u001b[0m \u001b[0;31m# attempting to connect with no credentials\u001b[0m\u001b[0;34m\u001b[0m\u001b[0;34m\u001b[0m\u001b[0;34m\u001b[0m\u001b[0m\n\u001b[0;32m----> 2\u001b[0;31m \u001b[0mconn\u001b[0m \u001b[0;34m=\u001b[0m \u001b[0mpsycopg2\u001b[0m\u001b[0;34m.\u001b[0m\u001b[0mconnect\u001b[0m\u001b[0;34m(\u001b[0m\u001b[0;34m)\u001b[0m\u001b[0;34m\u001b[0m\u001b[0;34m\u001b[0m\u001b[0m\n\u001b[0m",
      "\u001b[0;32m//anaconda3/envs/mod2-project-env/lib/python3.8/site-packages/psycopg2/__init__.py\u001b[0m in \u001b[0;36mconnect\u001b[0;34m(dsn, connection_factory, cursor_factory, **kwargs)\u001b[0m\n\u001b[1;32m    121\u001b[0m \u001b[0;34m\u001b[0m\u001b[0m\n\u001b[1;32m    122\u001b[0m     \u001b[0;32mif\u001b[0m \u001b[0mdsn\u001b[0m \u001b[0;32mis\u001b[0m \u001b[0;32mNone\u001b[0m \u001b[0;32mand\u001b[0m \u001b[0;32mnot\u001b[0m \u001b[0mkwargs\u001b[0m\u001b[0;34m:\u001b[0m\u001b[0;34m\u001b[0m\u001b[0;34m\u001b[0m\u001b[0m\n\u001b[0;32m--> 123\u001b[0;31m         \u001b[0;32mraise\u001b[0m \u001b[0mTypeError\u001b[0m\u001b[0;34m(\u001b[0m\u001b[0;34m'missing dsn and no parameters'\u001b[0m\u001b[0;34m)\u001b[0m\u001b[0;34m\u001b[0m\u001b[0;34m\u001b[0m\u001b[0m\n\u001b[0m\u001b[1;32m    124\u001b[0m \u001b[0;34m\u001b[0m\u001b[0m\n\u001b[1;32m    125\u001b[0m     \u001b[0mdsn\u001b[0m \u001b[0;34m=\u001b[0m \u001b[0m_ext\u001b[0m\u001b[0;34m.\u001b[0m\u001b[0mmake_dsn\u001b[0m\u001b[0;34m(\u001b[0m\u001b[0mdsn\u001b[0m\u001b[0;34m,\u001b[0m \u001b[0;34m**\u001b[0m\u001b[0mkwargs\u001b[0m\u001b[0;34m)\u001b[0m\u001b[0;34m\u001b[0m\u001b[0;34m\u001b[0m\u001b[0m\n",
      "\u001b[0;31mTypeError\u001b[0m: missing dsn and no parameters"
     ]
    }
   ],
   "source": [
    "# attempting to connect with no credentials\n",
    "conn = psycopg2.connect()"
   ]
  },
  {
   "cell_type": "code",
   "execution_count": 3,
   "metadata": {},
   "outputs": [],
   "source": [
    "# attempting to connect to the main postres db, then create a new one from there\n",
    "conn = psycopg2.connect(dbname=\"postgres\")"
   ]
  },
  {
   "cell_type": "code",
   "execution_count": 4,
   "metadata": {},
   "outputs": [],
   "source": [
    "conn.autocommit = True"
   ]
  },
  {
   "cell_type": "code",
   "execution_count": 5,
   "metadata": {},
   "outputs": [],
   "source": [
    "cursor = conn.cursor()"
   ]
  },
  {
   "cell_type": "code",
   "execution_count": 6,
   "metadata": {},
   "outputs": [],
   "source": [
    "CREATE_DATABASE_QUERY = \"CREATE DATABASE housing_data;\""
   ]
  },
  {
   "cell_type": "code",
   "execution_count": 7,
   "metadata": {},
   "outputs": [],
   "source": [
    "cursor.execute(CREATE_DATABASE_QUERY)"
   ]
  },
  {
   "cell_type": "code",
   "execution_count": 8,
   "metadata": {},
   "outputs": [],
   "source": [
    "conn.close()"
   ]
  },
  {
   "cell_type": "code",
   "execution_count": 9,
   "metadata": {},
   "outputs": [],
   "source": [
    "# that all seemed to work, moving on to making a schema for the sales info\n",
    "\n",
    "# actually it seems tedious/slow to insert each row individually.  and it seems like I can avoid that if I\n",
    "# am willing to use ALL of the columns, rather than making a bespoke schema for my purposes"
   ]
  },
  {
   "cell_type": "code",
   "execution_count": 10,
   "metadata": {},
   "outputs": [],
   "source": [
    "conn = psycopg2.connect(dbname=\"housing_data\")"
   ]
  },
  {
   "cell_type": "code",
   "execution_count": 11,
   "metadata": {},
   "outputs": [],
   "source": [
    "cursor = conn.cursor()"
   ]
  },
  {
   "cell_type": "code",
   "execution_count": 12,
   "metadata": {},
   "outputs": [],
   "source": [
    "COPY_SALES_QUERY = \"\"\"COPY sales FROM STDIN WITH (FORMAT CSV)\"\"\""
   ]
  },
  {
   "cell_type": "code",
   "execution_count": 13,
   "metadata": {},
   "outputs": [
    {
     "ename": "NameError",
     "evalue": "name 'collect_sales_data' is not defined",
     "output_type": "error",
     "traceback": [
      "\u001b[0;31m---------------------------------------------------------------------------\u001b[0m",
      "\u001b[0;31mNameError\u001b[0m                                 Traceback (most recent call last)",
      "\u001b[0;32m<ipython-input-13-4100bd4f033e>\u001b[0m in \u001b[0;36m<module>\u001b[0;34m\u001b[0m\n\u001b[0;32m----> 1\u001b[0;31m \u001b[0msales_zip_file\u001b[0m\u001b[0;34m,\u001b[0m \u001b[0msales_csv_file\u001b[0m \u001b[0;34m=\u001b[0m \u001b[0mcollect_sales_data\u001b[0m\u001b[0;34m(\u001b[0m\u001b[0;34m)\u001b[0m\u001b[0;34m\u001b[0m\u001b[0;34m\u001b[0m\u001b[0m\n\u001b[0m",
      "\u001b[0;31mNameError\u001b[0m: name 'collect_sales_data' is not defined"
     ]
    }
   ],
   "source": [
    "sales_zip_file, sales_csv_file = collect_sales_data()"
   ]
  },
  {
   "cell_type": "code",
   "execution_count": 14,
   "metadata": {},
   "outputs": [],
   "source": [
    "from data_collection import collect_sales_data"
   ]
  },
  {
   "cell_type": "code",
   "execution_count": 24,
   "metadata": {},
   "outputs": [],
   "source": [
    "sales_zip_file, sales_csv_file = collect_sales_data()"
   ]
  },
  {
   "cell_type": "code",
   "execution_count": 16,
   "metadata": {},
   "outputs": [
    {
     "ename": "UndefinedTable",
     "evalue": "relation \"sales\" does not exist\n",
     "output_type": "error",
     "traceback": [
      "\u001b[0;31m---------------------------------------------------------------------------\u001b[0m",
      "\u001b[0;31mUndefinedTable\u001b[0m                            Traceback (most recent call last)",
      "\u001b[0;32m<ipython-input-16-bf48c67bc0a0>\u001b[0m in \u001b[0;36m<module>\u001b[0;34m\u001b[0m\n\u001b[0;32m----> 1\u001b[0;31m \u001b[0mcursor\u001b[0m\u001b[0;34m.\u001b[0m\u001b[0mcopy_expert\u001b[0m\u001b[0;34m(\u001b[0m\u001b[0mCOPY_SALES_QUERY\u001b[0m\u001b[0;34m,\u001b[0m \u001b[0msales_csv_file\u001b[0m\u001b[0;34m)\u001b[0m\u001b[0;34m\u001b[0m\u001b[0;34m\u001b[0m\u001b[0m\n\u001b[0m",
      "\u001b[0;31mUndefinedTable\u001b[0m: relation \"sales\" does not exist\n"
     ]
    }
   ],
   "source": [
    "cursor.copy_expert(COPY_SALES_QUERY, sales_csv_file)"
   ]
  },
  {
   "cell_type": "code",
   "execution_count": 17,
   "metadata": {},
   "outputs": [],
   "source": [
    "# ok, annoying, none of the docs indicate that you have to make the table before copying the CSV"
   ]
  },
  {
   "cell_type": "code",
   "execution_count": 18,
   "metadata": {},
   "outputs": [],
   "source": [
    "CREATE_SALES_TABLE_QUERY = \"\"\"\n",
    "DROP TABLE IF EXISTS sales;\n",
    "CREATE TABLE sales (\n",
    "  id                 SERIAL PRIMARY KEY,\n",
    "  ExciseTaxNbr       INT,\n",
    "  Major              CHAR(6),\n",
    "  Minor              CHAR(4),\n",
    "  DocumentDate       DATE,\n",
    "  SalePrice          INT,\n",
    "  RecordingNbr       CHAR(14),\n",
    "  Volume             CHAR(3),\n",
    "  Page               CHAR(3),\n",
    "  PlatNbr            CHAR(6),\n",
    "  PlatType           CHAR(1),\n",
    "  PlatLot            CHAR(14),\n",
    "  PlatBlock          CHAR(7),\n",
    "  SellerName         TEXT,\n",
    "  BuyerName          TEXT,\n",
    "  PropertyType       INT,\n",
    "  PrincipalUse       INT,\n",
    "  SaleInstrument     INT,\n",
    "  AFForestLand       CHAR(1),\n",
    "  AFCurrentUseLand   CHAR(1),\n",
    "  AFNonProfitUse     CHAR(1),\n",
    "  AFHistoricProperty CHAR(1),\n",
    "  SaleReason         INT,\n",
    "  PropertyClass      INT,\n",
    "  SaleWarning        TEXT\n",
    ");\n",
    "\"\"\""
   ]
  },
  {
   "cell_type": "code",
   "execution_count": 19,
   "metadata": {},
   "outputs": [
    {
     "ename": "InFailedSqlTransaction",
     "evalue": "current transaction is aborted, commands ignored until end of transaction block\n",
     "output_type": "error",
     "traceback": [
      "\u001b[0;31m---------------------------------------------------------------------------\u001b[0m",
      "\u001b[0;31mInFailedSqlTransaction\u001b[0m                    Traceback (most recent call last)",
      "\u001b[0;32m<ipython-input-19-c7c0be83e01d>\u001b[0m in \u001b[0;36m<module>\u001b[0;34m\u001b[0m\n\u001b[0;32m----> 1\u001b[0;31m \u001b[0mcursor\u001b[0m\u001b[0;34m.\u001b[0m\u001b[0mexecute\u001b[0m\u001b[0;34m(\u001b[0m\u001b[0mCREATE_SALES_TABLE_QUERY\u001b[0m\u001b[0;34m)\u001b[0m\u001b[0;34m\u001b[0m\u001b[0;34m\u001b[0m\u001b[0m\n\u001b[0m",
      "\u001b[0;31mInFailedSqlTransaction\u001b[0m: current transaction is aborted, commands ignored until end of transaction block\n"
     ]
    }
   ],
   "source": [
    "cursor.execute(CREATE_SALES_TABLE_QUERY)"
   ]
  },
  {
   "cell_type": "code",
   "execution_count": 20,
   "metadata": {},
   "outputs": [],
   "source": [
    "conn.close()"
   ]
  },
  {
   "cell_type": "code",
   "execution_count": 21,
   "metadata": {},
   "outputs": [],
   "source": [
    "conn = psycopg2.connect(dbname=\"housing_data\")"
   ]
  },
  {
   "cell_type": "code",
   "execution_count": 22,
   "metadata": {},
   "outputs": [],
   "source": [
    "cursor = conn.cursor()"
   ]
  },
  {
   "cell_type": "code",
   "execution_count": 23,
   "metadata": {},
   "outputs": [],
   "source": [
    "cursor.execute(CREATE_SALES_TABLE_QUERY)"
   ]
  },
  {
   "cell_type": "code",
   "execution_count": 25,
   "metadata": {},
   "outputs": [
    {
     "ename": "InvalidTextRepresentation",
     "evalue": "invalid input syntax for integer: \"ExciseTaxNbr\"\nCONTEXT:  COPY sales, line 1, column id: \"ExciseTaxNbr\"\n",
     "output_type": "error",
     "traceback": [
      "\u001b[0;31m---------------------------------------------------------------------------\u001b[0m",
      "\u001b[0;31mInvalidTextRepresentation\u001b[0m                 Traceback (most recent call last)",
      "\u001b[0;32m<ipython-input-25-bf48c67bc0a0>\u001b[0m in \u001b[0;36m<module>\u001b[0;34m\u001b[0m\n\u001b[0;32m----> 1\u001b[0;31m \u001b[0mcursor\u001b[0m\u001b[0;34m.\u001b[0m\u001b[0mcopy_expert\u001b[0m\u001b[0;34m(\u001b[0m\u001b[0mCOPY_SALES_QUERY\u001b[0m\u001b[0;34m,\u001b[0m \u001b[0msales_csv_file\u001b[0m\u001b[0;34m)\u001b[0m\u001b[0;34m\u001b[0m\u001b[0;34m\u001b[0m\u001b[0m\n\u001b[0m",
      "\u001b[0;31mInvalidTextRepresentation\u001b[0m: invalid input syntax for integer: \"ExciseTaxNbr\"\nCONTEXT:  COPY sales, line 1, column id: \"ExciseTaxNbr\"\n"
     ]
    }
   ],
   "source": [
    "cursor.copy_expert(COPY_SALES_QUERY, sales_csv_file)"
   ]
  },
  {
   "cell_type": "code",
   "execution_count": 26,
   "metadata": {},
   "outputs": [],
   "source": [
    "sales_zip_file, sales_csv_file = collect_sales_data()"
   ]
  },
  {
   "cell_type": "code",
   "execution_count": 27,
   "metadata": {},
   "outputs": [
    {
     "data": {
      "text/plain": [
       "'\"ExciseTaxNbr\",\"Major\",\"Minor\",\"DocumentDate\",\"SalePrice\",\"RecordingNbr\",\"Volume\",\"Page\",\"PlatNbr\",\"PlatType\",\"PlatLot\",\"PlatBlock\",\"SellerName\",\"BuyerName\",\"PropertyType\",\"PrincipalUse\",\"SaleInstrument\",\"AFForestLand\",\"AFCurrentUseLand\",\"AFNonProfitUse\",\"AFHistoricProperty\",\"SaleReason\",\"PropertyClass\",\"SaleWarning\"\\n'"
      ]
     },
     "execution_count": 27,
     "metadata": {},
     "output_type": "execute_result"
    }
   ],
   "source": [
    "next(sales_csv_file) # Skip the header row"
   ]
  },
  {
   "cell_type": "code",
   "execution_count": 28,
   "metadata": {},
   "outputs": [
    {
     "ename": "InFailedSqlTransaction",
     "evalue": "current transaction is aborted, commands ignored until end of transaction block\n",
     "output_type": "error",
     "traceback": [
      "\u001b[0;31m---------------------------------------------------------------------------\u001b[0m",
      "\u001b[0;31mInFailedSqlTransaction\u001b[0m                    Traceback (most recent call last)",
      "\u001b[0;32m<ipython-input-28-bf48c67bc0a0>\u001b[0m in \u001b[0;36m<module>\u001b[0;34m\u001b[0m\n\u001b[0;32m----> 1\u001b[0;31m \u001b[0mcursor\u001b[0m\u001b[0;34m.\u001b[0m\u001b[0mcopy_expert\u001b[0m\u001b[0;34m(\u001b[0m\u001b[0mCOPY_SALES_QUERY\u001b[0m\u001b[0;34m,\u001b[0m \u001b[0msales_csv_file\u001b[0m\u001b[0;34m)\u001b[0m\u001b[0;34m\u001b[0m\u001b[0;34m\u001b[0m\u001b[0m\n\u001b[0m",
      "\u001b[0;31mInFailedSqlTransaction\u001b[0m: current transaction is aborted, commands ignored until end of transaction block\n"
     ]
    }
   ],
   "source": [
    "cursor.copy_expert(COPY_SALES_QUERY, sales_csv_file)"
   ]
  },
  {
   "cell_type": "code",
   "execution_count": 29,
   "metadata": {},
   "outputs": [],
   "source": [
    "conn.close()\n",
    "conn = psycopg2.connect(dbname=\"housing_data\")\n",
    "cursor = conn.cursor()"
   ]
  },
  {
   "cell_type": "code",
   "execution_count": 30,
   "metadata": {},
   "outputs": [
    {
     "ename": "UndefinedTable",
     "evalue": "relation \"sales\" does not exist\n",
     "output_type": "error",
     "traceback": [
      "\u001b[0;31m---------------------------------------------------------------------------\u001b[0m",
      "\u001b[0;31mUndefinedTable\u001b[0m                            Traceback (most recent call last)",
      "\u001b[0;32m<ipython-input-30-bf48c67bc0a0>\u001b[0m in \u001b[0;36m<module>\u001b[0;34m\u001b[0m\n\u001b[0;32m----> 1\u001b[0;31m \u001b[0mcursor\u001b[0m\u001b[0;34m.\u001b[0m\u001b[0mcopy_expert\u001b[0m\u001b[0;34m(\u001b[0m\u001b[0mCOPY_SALES_QUERY\u001b[0m\u001b[0;34m,\u001b[0m \u001b[0msales_csv_file\u001b[0m\u001b[0;34m)\u001b[0m\u001b[0;34m\u001b[0m\u001b[0;34m\u001b[0m\u001b[0m\n\u001b[0m",
      "\u001b[0;31mUndefinedTable\u001b[0m: relation \"sales\" does not exist\n"
     ]
    }
   ],
   "source": [
    "cursor.copy_expert(COPY_SALES_QUERY, sales_csv_file)"
   ]
  },
  {
   "cell_type": "code",
   "execution_count": 31,
   "metadata": {},
   "outputs": [
    {
     "ename": "InFailedSqlTransaction",
     "evalue": "current transaction is aborted, commands ignored until end of transaction block\n",
     "output_type": "error",
     "traceback": [
      "\u001b[0;31m---------------------------------------------------------------------------\u001b[0m",
      "\u001b[0;31mInFailedSqlTransaction\u001b[0m                    Traceback (most recent call last)",
      "\u001b[0;32m<ipython-input-31-c7c0be83e01d>\u001b[0m in \u001b[0;36m<module>\u001b[0;34m\u001b[0m\n\u001b[0;32m----> 1\u001b[0;31m \u001b[0mcursor\u001b[0m\u001b[0;34m.\u001b[0m\u001b[0mexecute\u001b[0m\u001b[0;34m(\u001b[0m\u001b[0mCREATE_SALES_TABLE_QUERY\u001b[0m\u001b[0;34m)\u001b[0m\u001b[0;34m\u001b[0m\u001b[0;34m\u001b[0m\u001b[0m\n\u001b[0m",
      "\u001b[0;31mInFailedSqlTransaction\u001b[0m: current transaction is aborted, commands ignored until end of transaction block\n"
     ]
    }
   ],
   "source": [
    "cursor.execute(CREATE_SALES_TABLE_QUERY)"
   ]
  },
  {
   "cell_type": "code",
   "execution_count": 32,
   "metadata": {},
   "outputs": [],
   "source": [
    "conn.close()\n",
    "conn = psycopg2.connect(dbname=\"housing_data\")\n",
    "cursor = conn.cursor()"
   ]
  },
  {
   "cell_type": "code",
   "execution_count": 33,
   "metadata": {},
   "outputs": [],
   "source": [
    "cursor.execute(CREATE_SALES_TABLE_QUERY)"
   ]
  },
  {
   "cell_type": "code",
   "execution_count": 34,
   "metadata": {},
   "outputs": [
    {
     "ename": "StringDataRightTruncation",
     "evalue": "value too long for type character(4)\nCONTEXT:  COPY sales, line 1, column minor: \"03/19/1998\"\n",
     "output_type": "error",
     "traceback": [
      "\u001b[0;31m---------------------------------------------------------------------------\u001b[0m",
      "\u001b[0;31mStringDataRightTruncation\u001b[0m                 Traceback (most recent call last)",
      "\u001b[0;32m<ipython-input-34-bf48c67bc0a0>\u001b[0m in \u001b[0;36m<module>\u001b[0;34m\u001b[0m\n\u001b[0;32m----> 1\u001b[0;31m \u001b[0mcursor\u001b[0m\u001b[0;34m.\u001b[0m\u001b[0mcopy_expert\u001b[0m\u001b[0;34m(\u001b[0m\u001b[0mCOPY_SALES_QUERY\u001b[0m\u001b[0;34m,\u001b[0m \u001b[0msales_csv_file\u001b[0m\u001b[0;34m)\u001b[0m\u001b[0;34m\u001b[0m\u001b[0;34m\u001b[0m\u001b[0m\n\u001b[0m",
      "\u001b[0;31mStringDataRightTruncation\u001b[0m: value too long for type character(4)\nCONTEXT:  COPY sales, line 1, column minor: \"03/19/1998\"\n"
     ]
    }
   ],
   "source": [
    "cursor.copy_expert(COPY_SALES_QUERY, sales_csv_file)"
   ]
  },
  {
   "cell_type": "code",
   "execution_count": 35,
   "metadata": {},
   "outputs": [
    {
     "ename": "StopIteration",
     "evalue": "",
     "output_type": "error",
     "traceback": [
      "\u001b[0;31m---------------------------------------------------------------------------\u001b[0m",
      "\u001b[0;31mStopIteration\u001b[0m                             Traceback (most recent call last)",
      "\u001b[0;32m<ipython-input-35-823b1b4f0d01>\u001b[0m in \u001b[0;36m<module>\u001b[0;34m\u001b[0m\n\u001b[0;32m----> 1\u001b[0;31m \u001b[0mnext\u001b[0m\u001b[0;34m(\u001b[0m\u001b[0msales_csv_file\u001b[0m\u001b[0;34m)\u001b[0m\u001b[0;34m\u001b[0m\u001b[0;34m\u001b[0m\u001b[0m\n\u001b[0m",
      "\u001b[0;31mStopIteration\u001b[0m: "
     ]
    }
   ],
   "source": [
    "next(sales_csv_file)"
   ]
  },
  {
   "cell_type": "code",
   "execution_count": 37,
   "metadata": {},
   "outputs": [],
   "source": [
    "# huh, looks like I can't have an id column"
   ]
  },
  {
   "cell_type": "code",
   "execution_count": 38,
   "metadata": {},
   "outputs": [],
   "source": [
    "CREATE_SALES_TABLE_QUERY = \"\"\"\n",
    "DROP TABLE IF EXISTS sales;\n",
    "CREATE TABLE sales (\n",
    "  ExciseTaxNbr       INT,\n",
    "  Major              CHAR(6),\n",
    "  Minor              CHAR(4),\n",
    "  DocumentDate       DATE,\n",
    "  SalePrice          INT,\n",
    "  RecordingNbr       CHAR(14),\n",
    "  Volume             CHAR(3),\n",
    "  Page               CHAR(3),\n",
    "  PlatNbr            CHAR(6),\n",
    "  PlatType           CHAR(1),\n",
    "  PlatLot            CHAR(14),\n",
    "  PlatBlock          CHAR(7),\n",
    "  SellerName         TEXT,\n",
    "  BuyerName          TEXT,\n",
    "  PropertyType       INT,\n",
    "  PrincipalUse       INT,\n",
    "  SaleInstrument     INT,\n",
    "  AFForestLand       CHAR(1),\n",
    "  AFCurrentUseLand   CHAR(1),\n",
    "  AFNonProfitUse     CHAR(1),\n",
    "  AFHistoricProperty CHAR(1),\n",
    "  SaleReason         INT,\n",
    "  PropertyClass      INT,\n",
    "  SaleWarning        TEXT\n",
    ");\n",
    "\"\"\""
   ]
  },
  {
   "cell_type": "code",
   "execution_count": 39,
   "metadata": {},
   "outputs": [],
   "source": [
    "conn.close()\n",
    "conn = psycopg2.connect(dbname=\"housing_data\")\n",
    "cursor = conn.cursor()"
   ]
  },
  {
   "cell_type": "code",
   "execution_count": 40,
   "metadata": {},
   "outputs": [],
   "source": [
    "cursor.execute(CREATE_SALES_TABLE_QUERY)"
   ]
  },
  {
   "cell_type": "code",
   "execution_count": 41,
   "metadata": {},
   "outputs": [
    {
     "data": {
      "text/plain": [
       "'\"ExciseTaxNbr\",\"Major\",\"Minor\",\"DocumentDate\",\"SalePrice\",\"RecordingNbr\",\"Volume\",\"Page\",\"PlatNbr\",\"PlatType\",\"PlatLot\",\"PlatBlock\",\"SellerName\",\"BuyerName\",\"PropertyType\",\"PrincipalUse\",\"SaleInstrument\",\"AFForestLand\",\"AFCurrentUseLand\",\"AFNonProfitUse\",\"AFHistoricProperty\",\"SaleReason\",\"PropertyClass\",\"SaleWarning\"\\n'"
      ]
     },
     "execution_count": 41,
     "metadata": {},
     "output_type": "execute_result"
    }
   ],
   "source": [
    "sales_zip_file, sales_csv_file = collect_sales_data()\n",
    "next(sales_csv_file) # Skip the header row"
   ]
  },
  {
   "cell_type": "code",
   "execution_count": 42,
   "metadata": {},
   "outputs": [],
   "source": [
    "cursor.copy_expert(COPY_SALES_QUERY, sales_csv_file)"
   ]
  },
  {
   "cell_type": "code",
   "execution_count": 43,
   "metadata": {},
   "outputs": [],
   "source": [
    "conn.commit()"
   ]
  },
  {
   "cell_type": "code",
   "execution_count": 44,
   "metadata": {},
   "outputs": [],
   "source": [
    "# run through everything beginning to end\n",
    "from data_collection import collect_sales_data\n",
    "sales_zip_file, sales_csv_file = collect_sales_data()"
   ]
  },
  {
   "cell_type": "code",
   "execution_count": 45,
   "metadata": {},
   "outputs": [
    {
     "ename": "ActiveSqlTransaction",
     "evalue": "DROP DATABASE cannot run inside a transaction block\n",
     "output_type": "error",
     "traceback": [
      "\u001b[0;31m---------------------------------------------------------------------------\u001b[0m",
      "\u001b[0;31mActiveSqlTransaction\u001b[0m                      Traceback (most recent call last)",
      "\u001b[0;32m<ipython-input-45-6bfb4fa4e32a>\u001b[0m in \u001b[0;36m<module>\u001b[0;34m\u001b[0m\n\u001b[1;32m      1\u001b[0m \u001b[0;32mfrom\u001b[0m \u001b[0msql_utils\u001b[0m \u001b[0;32mimport\u001b[0m \u001b[0mcreate_database\u001b[0m\u001b[0;34m,\u001b[0m \u001b[0mcreate_sales_table\u001b[0m\u001b[0;34m,\u001b[0m \u001b[0mcopy_csv_to_sales_table\u001b[0m\u001b[0;34m\u001b[0m\u001b[0;34m\u001b[0m\u001b[0m\n\u001b[0;32m----> 2\u001b[0;31m \u001b[0mcreate_database\u001b[0m\u001b[0;34m(\u001b[0m\u001b[0;34m)\u001b[0m\u001b[0;34m\u001b[0m\u001b[0;34m\u001b[0m\u001b[0m\n\u001b[0m",
      "\u001b[0;32m~/Development/DS/housing-price-statistical-analysis/data/sql_utils.py\u001b[0m in \u001b[0;36mcreate_database\u001b[0;34m()\u001b[0m\n\u001b[1;32m     14\u001b[0m         \u001b[0mCREATE\u001b[0m \u001b[0mDATABASE\u001b[0m \u001b[0mhousing_data\u001b[0m\u001b[0;34m;\u001b[0m\u001b[0;34m\u001b[0m\u001b[0;34m\u001b[0m\u001b[0m\n\u001b[1;32m     15\u001b[0m     \"\"\"\n\u001b[0;32m---> 16\u001b[0;31m     \u001b[0mcursor\u001b[0m\u001b[0;34m.\u001b[0m\u001b[0mexecute\u001b[0m\u001b[0;34m(\u001b[0m\u001b[0mCREATE_DATABASE_QUERY\u001b[0m\u001b[0;34m)\u001b[0m\u001b[0;34m\u001b[0m\u001b[0;34m\u001b[0m\u001b[0m\n\u001b[0m\u001b[1;32m     17\u001b[0m     \u001b[0mconn\u001b[0m\u001b[0;34m.\u001b[0m\u001b[0mclose\u001b[0m\u001b[0;34m(\u001b[0m\u001b[0;34m)\u001b[0m\u001b[0;34m\u001b[0m\u001b[0;34m\u001b[0m\u001b[0m\n\u001b[1;32m     18\u001b[0m \u001b[0;34m\u001b[0m\u001b[0m\n",
      "\u001b[0;31mActiveSqlTransaction\u001b[0m: DROP DATABASE cannot run inside a transaction block\n"
     ]
    }
   ],
   "source": [
    "from sql_utils import create_database, create_sales_table, copy_csv_to_sales_table\n",
    "create_database()"
   ]
  },
  {
   "cell_type": "code",
   "execution_count": 46,
   "metadata": {},
   "outputs": [],
   "source": [
    "%load_ext autoreload"
   ]
  },
  {
   "cell_type": "code",
   "execution_count": 47,
   "metadata": {},
   "outputs": [],
   "source": [
    "%autoreload 2"
   ]
  },
  {
   "cell_type": "code",
   "execution_count": 48,
   "metadata": {},
   "outputs": [
    {
     "ename": "ActiveSqlTransaction",
     "evalue": "DROP DATABASE cannot run inside a transaction block\n",
     "output_type": "error",
     "traceback": [
      "\u001b[0;31m---------------------------------------------------------------------------\u001b[0m",
      "\u001b[0;31mActiveSqlTransaction\u001b[0m                      Traceback (most recent call last)",
      "\u001b[0;32m<ipython-input-48-c8fc28652882>\u001b[0m in \u001b[0;36m<module>\u001b[0;34m\u001b[0m\n\u001b[0;32m----> 1\u001b[0;31m \u001b[0mcreate_database\u001b[0m\u001b[0;34m(\u001b[0m\u001b[0;34m)\u001b[0m\u001b[0;34m\u001b[0m\u001b[0;34m\u001b[0m\u001b[0m\n\u001b[0m",
      "\u001b[0;32m~/Development/DS/housing-price-statistical-analysis/data/sql_utils.py\u001b[0m in \u001b[0;36mcreate_database\u001b[0;34m()\u001b[0m\n\u001b[1;32m     14\u001b[0m     \u001b[0mCREATE_DATABASE_QUERY\u001b[0m \u001b[0;34m=\u001b[0m \u001b[0;34m\"CREATE DATABASE housing_data;\"\u001b[0m\u001b[0;34m\u001b[0m\u001b[0;34m\u001b[0m\u001b[0m\n\u001b[1;32m     15\u001b[0m     \u001b[0mcursor\u001b[0m\u001b[0;34m.\u001b[0m\u001b[0mexecute\u001b[0m\u001b[0;34m(\u001b[0m\u001b[0mCREATE_DATABASE_QUERY\u001b[0m\u001b[0;34m)\u001b[0m\u001b[0;34m\u001b[0m\u001b[0;34m\u001b[0m\u001b[0m\n\u001b[0;32m---> 16\u001b[0;31m     \u001b[0mconn\u001b[0m\u001b[0;34m.\u001b[0m\u001b[0mclose\u001b[0m\u001b[0;34m(\u001b[0m\u001b[0;34m)\u001b[0m\u001b[0;34m\u001b[0m\u001b[0;34m\u001b[0m\u001b[0m\n\u001b[0m\u001b[1;32m     17\u001b[0m \u001b[0;34m\u001b[0m\u001b[0m\n\u001b[1;32m     18\u001b[0m \u001b[0;32mdef\u001b[0m \u001b[0mcreate_sales_table\u001b[0m\u001b[0;34m(\u001b[0m\u001b[0mconn\u001b[0m\u001b[0;34m)\u001b[0m\u001b[0;34m:\u001b[0m\u001b[0;34m\u001b[0m\u001b[0;34m\u001b[0m\u001b[0m\n",
      "\u001b[0;31mActiveSqlTransaction\u001b[0m: DROP DATABASE cannot run inside a transaction block\n"
     ]
    }
   ],
   "source": [
    "create_database()"
   ]
  },
  {
   "cell_type": "code",
   "execution_count": 49,
   "metadata": {},
   "outputs": [
    {
     "ename": "ObjectInUse",
     "evalue": "database \"housing_data\" is being accessed by other users\nDETAIL:  There is 1 other session using the database.\n",
     "output_type": "error",
     "traceback": [
      "\u001b[0;31m---------------------------------------------------------------------------\u001b[0m",
      "\u001b[0;31mObjectInUse\u001b[0m                               Traceback (most recent call last)",
      "\u001b[0;32m<ipython-input-49-c8fc28652882>\u001b[0m in \u001b[0;36m<module>\u001b[0;34m\u001b[0m\n\u001b[0;32m----> 1\u001b[0;31m \u001b[0mcreate_database\u001b[0m\u001b[0;34m(\u001b[0m\u001b[0;34m)\u001b[0m\u001b[0;34m\u001b[0m\u001b[0;34m\u001b[0m\u001b[0m\n\u001b[0m",
      "\u001b[0;32m~/Development/DS/housing-price-statistical-analysis/data/sql_utils.py\u001b[0m in \u001b[0;36mcreate_database\u001b[0;34m()\u001b[0m\n\u001b[1;32m     12\u001b[0m     \u001b[0mcursor\u001b[0m \u001b[0;34m=\u001b[0m \u001b[0mconn\u001b[0m\u001b[0;34m.\u001b[0m\u001b[0mcursor\u001b[0m\u001b[0;34m(\u001b[0m\u001b[0;34m)\u001b[0m\u001b[0;34m\u001b[0m\u001b[0;34m\u001b[0m\u001b[0m\n\u001b[1;32m     13\u001b[0m     \u001b[0mDROP_OLD_DATABASE_QUERY\u001b[0m \u001b[0;34m=\u001b[0m \u001b[0;34m\"DROP DATABASE housing_data;\"\u001b[0m\u001b[0;34m\u001b[0m\u001b[0;34m\u001b[0m\u001b[0m\n\u001b[0;32m---> 14\u001b[0;31m     \u001b[0mcursor\u001b[0m\u001b[0;34m.\u001b[0m\u001b[0mexecute\u001b[0m\u001b[0;34m(\u001b[0m\u001b[0mDROP_OLD_DATABASE_QUERY\u001b[0m\u001b[0;34m)\u001b[0m\u001b[0;34m\u001b[0m\u001b[0;34m\u001b[0m\u001b[0m\n\u001b[0m\u001b[1;32m     15\u001b[0m     \u001b[0mCREATE_DATABASE_QUERY\u001b[0m \u001b[0;34m=\u001b[0m \u001b[0;34m\"CREATE DATABASE housing_data;\"\u001b[0m\u001b[0;34m\u001b[0m\u001b[0;34m\u001b[0m\u001b[0m\n\u001b[1;32m     16\u001b[0m     \u001b[0mcursor\u001b[0m\u001b[0;34m.\u001b[0m\u001b[0mexecute\u001b[0m\u001b[0;34m(\u001b[0m\u001b[0mCREATE_DATABASE_QUERY\u001b[0m\u001b[0;34m)\u001b[0m\u001b[0;34m\u001b[0m\u001b[0;34m\u001b[0m\u001b[0m\n",
      "\u001b[0;31mObjectInUse\u001b[0m: database \"housing_data\" is being accessed by other users\nDETAIL:  There is 1 other session using the database.\n"
     ]
    }
   ],
   "source": [
    "create_database()"
   ]
  },
  {
   "cell_type": "code",
   "execution_count": 50,
   "metadata": {},
   "outputs": [],
   "source": [
    "conn.close()"
   ]
  },
  {
   "cell_type": "code",
   "execution_count": 51,
   "metadata": {},
   "outputs": [],
   "source": [
    "create_database()"
   ]
  },
  {
   "cell_type": "code",
   "execution_count": 52,
   "metadata": {},
   "outputs": [],
   "source": [
    "# try again to run everything end-to-end"
   ]
  },
  {
   "cell_type": "code",
   "execution_count": 53,
   "metadata": {},
   "outputs": [],
   "source": [
    "from data_collection import collect_sales_data\n",
    "sales_zip_file, sales_csv_file = collect_sales_data()"
   ]
  },
  {
   "cell_type": "code",
   "execution_count": 54,
   "metadata": {},
   "outputs": [],
   "source": [
    "from sql_utils import create_database, create_sales_table, copy_csv_to_sales_table\n",
    "create_database()"
   ]
  },
  {
   "cell_type": "code",
   "execution_count": 55,
   "metadata": {},
   "outputs": [],
   "source": [
    "conn = psycopg2.connect(dbname=\"housing_data\")"
   ]
  },
  {
   "cell_type": "code",
   "execution_count": 56,
   "metadata": {},
   "outputs": [],
   "source": [
    "create_sales_table(conn)"
   ]
  },
  {
   "cell_type": "code",
   "execution_count": 57,
   "metadata": {},
   "outputs": [],
   "source": [
    "copy_csv_to_sales_table(conn, sales_csv_file)"
   ]
  },
  {
   "cell_type": "code",
   "execution_count": 58,
   "metadata": {},
   "outputs": [],
   "source": [
    "sales_zip_file.close()\n",
    "sales_csv_file.close()\n",
    "conn.close()"
   ]
  },
  {
   "cell_type": "code",
   "execution_count": 59,
   "metadata": {},
   "outputs": [],
   "source": [
    "# okay, that all ran, let's see if we can read stuff!\n",
    "conn = psycopg2.connect(dbname=\"housing_data\")"
   ]
  },
  {
   "cell_type": "code",
   "execution_count": 60,
   "metadata": {},
   "outputs": [],
   "source": [
    "import pandas as pd"
   ]
  },
  {
   "cell_type": "code",
   "execution_count": 61,
   "metadata": {},
   "outputs": [
    {
     "data": {
      "text/html": [
       "<div>\n",
       "<style scoped>\n",
       "    .dataframe tbody tr th:only-of-type {\n",
       "        vertical-align: middle;\n",
       "    }\n",
       "\n",
       "    .dataframe tbody tr th {\n",
       "        vertical-align: top;\n",
       "    }\n",
       "\n",
       "    .dataframe thead th {\n",
       "        text-align: right;\n",
       "    }\n",
       "</style>\n",
       "<table border=\"1\" class=\"dataframe\">\n",
       "  <thead>\n",
       "    <tr style=\"text-align: right;\">\n",
       "      <th></th>\n",
       "      <th>excisetaxnbr</th>\n",
       "      <th>major</th>\n",
       "      <th>minor</th>\n",
       "      <th>documentdate</th>\n",
       "      <th>saleprice</th>\n",
       "      <th>recordingnbr</th>\n",
       "      <th>volume</th>\n",
       "      <th>page</th>\n",
       "      <th>platnbr</th>\n",
       "      <th>plattype</th>\n",
       "      <th>...</th>\n",
       "      <th>propertytype</th>\n",
       "      <th>principaluse</th>\n",
       "      <th>saleinstrument</th>\n",
       "      <th>afforestland</th>\n",
       "      <th>afcurrentuseland</th>\n",
       "      <th>afnonprofituse</th>\n",
       "      <th>afhistoricproperty</th>\n",
       "      <th>salereason</th>\n",
       "      <th>propertyclass</th>\n",
       "      <th>salewarning</th>\n",
       "    </tr>\n",
       "  </thead>\n",
       "  <tbody>\n",
       "    <tr>\n",
       "      <th>0</th>\n",
       "      <td>1600768</td>\n",
       "      <td>330405</td>\n",
       "      <td>0100</td>\n",
       "      <td>1998-03-19</td>\n",
       "      <td>215000</td>\n",
       "      <td>199803251689</td>\n",
       "      <td>145</td>\n",
       "      <td>039</td>\n",
       "      <td>330405</td>\n",
       "      <td>C</td>\n",
       "      <td>...</td>\n",
       "      <td>2</td>\n",
       "      <td>2</td>\n",
       "      <td>3</td>\n",
       "      <td>N</td>\n",
       "      <td>N</td>\n",
       "      <td>N</td>\n",
       "      <td>N</td>\n",
       "      <td>1</td>\n",
       "      <td>3</td>\n",
       "      <td></td>\n",
       "    </tr>\n",
       "    <tr>\n",
       "      <th>1</th>\n",
       "      <td>2413752</td>\n",
       "      <td>868146</td>\n",
       "      <td>0030</td>\n",
       "      <td>2009-09-11</td>\n",
       "      <td>0</td>\n",
       "      <td>20091022001461</td>\n",
       "      <td></td>\n",
       "      <td></td>\n",
       "      <td></td>\n",
       "      <td></td>\n",
       "      <td>...</td>\n",
       "      <td>3</td>\n",
       "      <td>2</td>\n",
       "      <td>15</td>\n",
       "      <td>N</td>\n",
       "      <td>N</td>\n",
       "      <td>N</td>\n",
       "      <td>N</td>\n",
       "      <td>11</td>\n",
       "      <td>3</td>\n",
       "      <td>18 31 38</td>\n",
       "    </tr>\n",
       "    <tr>\n",
       "      <th>2</th>\n",
       "      <td>1939480</td>\n",
       "      <td>258190</td>\n",
       "      <td>0265</td>\n",
       "      <td>2003-02-06</td>\n",
       "      <td>0</td>\n",
       "      <td>20030214003390</td>\n",
       "      <td></td>\n",
       "      <td></td>\n",
       "      <td></td>\n",
       "      <td></td>\n",
       "      <td>...</td>\n",
       "      <td>3</td>\n",
       "      <td>6</td>\n",
       "      <td>15</td>\n",
       "      <td>N</td>\n",
       "      <td>N</td>\n",
       "      <td>N</td>\n",
       "      <td>N</td>\n",
       "      <td>10</td>\n",
       "      <td>8</td>\n",
       "      <td>31 51</td>\n",
       "    </tr>\n",
       "    <tr>\n",
       "      <th>3</th>\n",
       "      <td>2999169</td>\n",
       "      <td>919715</td>\n",
       "      <td>0200</td>\n",
       "      <td>2019-07-08</td>\n",
       "      <td>192000</td>\n",
       "      <td>20190712001080</td>\n",
       "      <td></td>\n",
       "      <td></td>\n",
       "      <td></td>\n",
       "      <td></td>\n",
       "      <td>...</td>\n",
       "      <td>3</td>\n",
       "      <td>2</td>\n",
       "      <td>3</td>\n",
       "      <td>N</td>\n",
       "      <td>N</td>\n",
       "      <td>N</td>\n",
       "      <td>N</td>\n",
       "      <td>1</td>\n",
       "      <td>3</td>\n",
       "      <td></td>\n",
       "    </tr>\n",
       "    <tr>\n",
       "      <th>4</th>\n",
       "      <td>2220242</td>\n",
       "      <td>334330</td>\n",
       "      <td>1343</td>\n",
       "      <td>2006-05-30</td>\n",
       "      <td>0</td>\n",
       "      <td>20060706002163</td>\n",
       "      <td></td>\n",
       "      <td></td>\n",
       "      <td></td>\n",
       "      <td></td>\n",
       "      <td>...</td>\n",
       "      <td>1</td>\n",
       "      <td>6</td>\n",
       "      <td>3</td>\n",
       "      <td>N</td>\n",
       "      <td>N</td>\n",
       "      <td>N</td>\n",
       "      <td>N</td>\n",
       "      <td>18</td>\n",
       "      <td>7</td>\n",
       "      <td>11 31</td>\n",
       "    </tr>\n",
       "  </tbody>\n",
       "</table>\n",
       "<p>5 rows × 24 columns</p>\n",
       "</div>"
      ],
      "text/plain": [
       "   excisetaxnbr   major minor documentdate  saleprice    recordingnbr volume  \\\n",
       "0       1600768  330405  0100   1998-03-19     215000  199803251689      145   \n",
       "1       2413752  868146  0030   2009-09-11          0  20091022001461          \n",
       "2       1939480  258190  0265   2003-02-06          0  20030214003390          \n",
       "3       2999169  919715  0200   2019-07-08     192000  20190712001080          \n",
       "4       2220242  334330  1343   2006-05-30          0  20060706002163          \n",
       "\n",
       "  page platnbr plattype  ... propertytype principaluse saleinstrument  \\\n",
       "0  039  330405        C  ...            2            2              3   \n",
       "1                        ...            3            2             15   \n",
       "2                        ...            3            6             15   \n",
       "3                        ...            3            2              3   \n",
       "4                        ...            1            6              3   \n",
       "\n",
       "  afforestland  afcurrentuseland  afnonprofituse  afhistoricproperty  \\\n",
       "0            N                 N               N                   N   \n",
       "1            N                 N               N                   N   \n",
       "2            N                 N               N                   N   \n",
       "3            N                 N               N                   N   \n",
       "4            N                 N               N                   N   \n",
       "\n",
       "  salereason propertyclass salewarning  \n",
       "0          1             3              \n",
       "1         11             3    18 31 38  \n",
       "2         10             8       31 51  \n",
       "3          1             3              \n",
       "4         18             7       11 31  \n",
       "\n",
       "[5 rows x 24 columns]"
      ]
     },
     "execution_count": 61,
     "metadata": {},
     "output_type": "execute_result"
    }
   ],
   "source": [
    "pd.read_sql_query(\"SELECT * FROM sales LIMIT 5;\", conn)"
   ]
  },
  {
   "cell_type": "code",
   "execution_count": 62,
   "metadata": {},
   "outputs": [
    {
     "data": {
      "text/html": [
       "<div>\n",
       "<style scoped>\n",
       "    .dataframe tbody tr th:only-of-type {\n",
       "        vertical-align: middle;\n",
       "    }\n",
       "\n",
       "    .dataframe tbody tr th {\n",
       "        vertical-align: top;\n",
       "    }\n",
       "\n",
       "    .dataframe thead th {\n",
       "        text-align: right;\n",
       "    }\n",
       "</style>\n",
       "<table border=\"1\" class=\"dataframe\">\n",
       "  <thead>\n",
       "    <tr style=\"text-align: right;\">\n",
       "      <th></th>\n",
       "      <th>excisetaxnbr</th>\n",
       "      <th>major</th>\n",
       "      <th>minor</th>\n",
       "      <th>documentdate</th>\n",
       "      <th>saleprice</th>\n",
       "      <th>recordingnbr</th>\n",
       "      <th>volume</th>\n",
       "      <th>page</th>\n",
       "      <th>platnbr</th>\n",
       "      <th>plattype</th>\n",
       "      <th>...</th>\n",
       "      <th>propertytype</th>\n",
       "      <th>principaluse</th>\n",
       "      <th>saleinstrument</th>\n",
       "      <th>afforestland</th>\n",
       "      <th>afcurrentuseland</th>\n",
       "      <th>afnonprofituse</th>\n",
       "      <th>afhistoricproperty</th>\n",
       "      <th>salereason</th>\n",
       "      <th>propertyclass</th>\n",
       "      <th>salewarning</th>\n",
       "    </tr>\n",
       "  </thead>\n",
       "  <tbody>\n",
       "    <tr>\n",
       "      <th>0</th>\n",
       "      <td>2947815</td>\n",
       "      <td>683782</td>\n",
       "      <td>0300</td>\n",
       "      <td>2018-07-23</td>\n",
       "      <td>280001</td>\n",
       "      <td>20180816000825</td>\n",
       "      <td></td>\n",
       "      <td></td>\n",
       "      <td></td>\n",
       "      <td></td>\n",
       "      <td>...</td>\n",
       "      <td>0</td>\n",
       "      <td>6</td>\n",
       "      <td>21</td>\n",
       "      <td>N</td>\n",
       "      <td>N</td>\n",
       "      <td>N</td>\n",
       "      <td>N</td>\n",
       "      <td>1</td>\n",
       "      <td>8</td>\n",
       "      <td>14 31</td>\n",
       "    </tr>\n",
       "    <tr>\n",
       "      <th>1</th>\n",
       "      <td>2937935</td>\n",
       "      <td>873178</td>\n",
       "      <td>0100</td>\n",
       "      <td>2018-06-20</td>\n",
       "      <td>185000</td>\n",
       "      <td>20180625000560</td>\n",
       "      <td></td>\n",
       "      <td></td>\n",
       "      <td></td>\n",
       "      <td></td>\n",
       "      <td>...</td>\n",
       "      <td>14</td>\n",
       "      <td>2</td>\n",
       "      <td>3</td>\n",
       "      <td>N</td>\n",
       "      <td>N</td>\n",
       "      <td>N</td>\n",
       "      <td>N</td>\n",
       "      <td>1</td>\n",
       "      <td>3</td>\n",
       "      <td></td>\n",
       "    </tr>\n",
       "    <tr>\n",
       "      <th>2</th>\n",
       "      <td>2912844</td>\n",
       "      <td>387610</td>\n",
       "      <td>0640</td>\n",
       "      <td>2018-01-24</td>\n",
       "      <td>0</td>\n",
       "      <td></td>\n",
       "      <td></td>\n",
       "      <td></td>\n",
       "      <td></td>\n",
       "      <td></td>\n",
       "      <td>...</td>\n",
       "      <td>3</td>\n",
       "      <td>6</td>\n",
       "      <td>15</td>\n",
       "      <td>N</td>\n",
       "      <td>N</td>\n",
       "      <td>N</td>\n",
       "      <td>N</td>\n",
       "      <td>5</td>\n",
       "      <td>8</td>\n",
       "      <td>12 18 31</td>\n",
       "    </tr>\n",
       "    <tr>\n",
       "      <th>3</th>\n",
       "      <td>2952652</td>\n",
       "      <td>281809</td>\n",
       "      <td>0020</td>\n",
       "      <td>2018-09-13</td>\n",
       "      <td>165000</td>\n",
       "      <td>20180914001119</td>\n",
       "      <td></td>\n",
       "      <td></td>\n",
       "      <td></td>\n",
       "      <td></td>\n",
       "      <td>...</td>\n",
       "      <td>3</td>\n",
       "      <td>2</td>\n",
       "      <td>3</td>\n",
       "      <td>N</td>\n",
       "      <td>N</td>\n",
       "      <td>N</td>\n",
       "      <td>N</td>\n",
       "      <td>1</td>\n",
       "      <td>3</td>\n",
       "      <td>15</td>\n",
       "    </tr>\n",
       "    <tr>\n",
       "      <th>4</th>\n",
       "      <td>2936365</td>\n",
       "      <td>260779</td>\n",
       "      <td>0010</td>\n",
       "      <td>2018-06-07</td>\n",
       "      <td>650000</td>\n",
       "      <td>20180615001343</td>\n",
       "      <td></td>\n",
       "      <td></td>\n",
       "      <td></td>\n",
       "      <td></td>\n",
       "      <td>...</td>\n",
       "      <td>3</td>\n",
       "      <td>2</td>\n",
       "      <td>3</td>\n",
       "      <td>N</td>\n",
       "      <td>N</td>\n",
       "      <td>N</td>\n",
       "      <td>N</td>\n",
       "      <td>1</td>\n",
       "      <td>3</td>\n",
       "      <td></td>\n",
       "    </tr>\n",
       "  </tbody>\n",
       "</table>\n",
       "<p>5 rows × 24 columns</p>\n",
       "</div>"
      ],
      "text/plain": [
       "   excisetaxnbr   major minor documentdate  saleprice    recordingnbr volume  \\\n",
       "0       2947815  683782  0300   2018-07-23     280001  20180816000825          \n",
       "1       2937935  873178  0100   2018-06-20     185000  20180625000560          \n",
       "2       2912844  387610  0640   2018-01-24          0                          \n",
       "3       2952652  281809  0020   2018-09-13     165000  20180914001119          \n",
       "4       2936365  260779  0010   2018-06-07     650000  20180615001343          \n",
       "\n",
       "  page platnbr plattype  ... propertytype principaluse saleinstrument  \\\n",
       "0                        ...            0            6             21   \n",
       "1                        ...           14            2              3   \n",
       "2                        ...            3            6             15   \n",
       "3                        ...            3            2              3   \n",
       "4                        ...            3            2              3   \n",
       "\n",
       "  afforestland  afcurrentuseland  afnonprofituse  afhistoricproperty  \\\n",
       "0            N                 N               N                   N   \n",
       "1            N                 N               N                   N   \n",
       "2            N                 N               N                   N   \n",
       "3            N                 N               N                   N   \n",
       "4            N                 N               N                   N   \n",
       "\n",
       "  salereason propertyclass salewarning  \n",
       "0          1             8       14 31  \n",
       "1          1             3              \n",
       "2          5             8    12 18 31  \n",
       "3          1             3          15  \n",
       "4          1             3              \n",
       "\n",
       "[5 rows x 24 columns]"
      ]
     },
     "execution_count": 62,
     "metadata": {},
     "output_type": "execute_result"
    }
   ],
   "source": [
    "pd.read_sql_query(\"SELECT * FROM sales WHERE date_part('year', DocumentDate) = 2018 LIMIT 5;\", conn)"
   ]
  },
  {
   "cell_type": "code",
   "execution_count": 63,
   "metadata": {},
   "outputs": [],
   "source": [
    "# ok, this is working, let's make another commit"
   ]
  },
  {
   "cell_type": "code",
   "execution_count": 64,
   "metadata": {},
   "outputs": [],
   "source": [
    "# time for buildings and parcels!"
   ]
  },
  {
   "cell_type": "code",
   "execution_count": 65,
   "metadata": {},
   "outputs": [],
   "source": [
    "CREATE_BUILDINGS_TABLE_QUERY = \"\"\"\n",
    "    DROP TABLE IF EXISTS buildings;\n",
    "    CREATE TABLE BUILDINGS (\n",
    "        Major              CHAR(6),\n",
    "        Minor              CHAR(4),\n",
    "        BldgNbr            INT,\n",
    "        NbrLivingUnits     INT,\n",
    "        Address            TEXT,\n",
    "        BuildingNumber     CHAR(5),\n",
    "        Fraction           CHAR(3),\n",
    "        DirectionPrefix    CHAR(2),\n",
    "        StreetName         CHAR(25),\n",
    "        StreetType         CHAR(6),\n",
    "        DirectionSuffix    CHAR(2),\n",
    "        ZipCode            CHAR(10),\n",
    "        Stories            INT,\n",
    "        BldgGrade          INT,\n",
    "        BldgGradeVar       INT,\n",
    "        SqFt1stFloor       INT,\n",
    "        SqFtHalfFloor      INT,\n",
    "        SqFt2ndFloor       INT,\n",
    "        SqFtUpperFloor     INT,\n",
    "        SqFtUnfinFull      INT,\n",
    "        SqFtUnfinHalf      INT,\n",
    "        SqFtTotLiving      INT,\n",
    "        SqFtTotBasement    INT,\n",
    "        SqFtFinBasement    INT,\n",
    "        FinBasementGrade   INT,\n",
    "        SqFtGarageBasement INT,\n",
    "        SqFtGarageAttached INT,\n",
    "        DaylightBasement   CHAR(1),\n",
    "        SqFtOpenPorch      INT,\n",
    "        SqFtEnclosedPorch  INT,\n",
    "        SqFtDeck           INT,\n",
    "        HeatSystem         INT,\n",
    "        HeatSource         INT,\n",
    "        BrickStone         INT,\n",
    "        ViewUtilization    CHAR(1),\n",
    "        Bedrooms           INT,\n",
    "        BathHalfCount      INT,\n",
    "        Bath3qtrCount      INT,\n",
    "        BathFullCount      INT,\n",
    "        FpSingleStory      INT,\n",
    "        FpMultiStory       INT,\n",
    "        FpFreestanding     INT,\n",
    "        FpAdditional       INT,\n",
    "        YrBuilt            INT,\n",
    "        YrRenovated        INT,\n",
    "        PcntComplete       INT,\n",
    "        Obsolescence       INT,\n",
    "        PcntNetCondition   INT,\n",
    "        Condition          INT,\n",
    "        AddnlCost          INT\n",
    "    );\n",
    "\"\"\""
   ]
  },
  {
   "cell_type": "code",
   "execution_count": 66,
   "metadata": {},
   "outputs": [],
   "source": [
    "cursor = conn.cursor()"
   ]
  },
  {
   "cell_type": "code",
   "execution_count": 67,
   "metadata": {},
   "outputs": [],
   "source": [
    "cursor.execute(CREATE_BUILDINGS_TABLE_QUERY)"
   ]
  },
  {
   "cell_type": "code",
   "execution_count": 68,
   "metadata": {},
   "outputs": [],
   "source": [
    "from data_collection import collect_building_data\n",
    "buildings_zip_file, buildings_csv_file = collect_building_data()"
   ]
  },
  {
   "cell_type": "code",
   "execution_count": 69,
   "metadata": {},
   "outputs": [
    {
     "data": {
      "text/plain": [
       "'\"Major\",\"Minor\",\"BldgNbr\",\"NbrLivingUnits\",\"Address\",\"BuildingNumber\",\"Fraction\",\"DirectionPrefix\",\"StreetName\",\"StreetType\",\"DirectionSuffix\",\"ZipCode\",\"Stories\",\"BldgGrade\",\"BldgGradeVar\",\"SqFt1stFloor\",\"SqFtHalfFloor\",\"SqFt2ndFloor\",\"SqFtUpperFloor\",\"SqFtUnfinFull\",\"SqFtUnfinHalf\",\"SqFtTotLiving\",\"SqFtTotBasement\",\"SqFtFinBasement\",\"FinBasementGrade\",\"SqFtGarageBasement\",\"SqFtGarageAttached\",\"DaylightBasement\",\"SqFtOpenPorch\",\"SqFtEnclosedPorch\",\"SqFtDeck\",\"HeatSystem\",\"HeatSource\",\"BrickStone\",\"ViewUtilization\",\"Bedrooms\",\"BathHalfCount\",\"Bath3qtrCount\",\"BathFullCount\",\"FpSingleStory\",\"FpMultiStory\",\"FpFreestanding\",\"FpAdditional\",\"YrBuilt\",\"YrRenovated\",\"PcntComplete\",\"Obsolescence\",\"PcntNetCondition\",\"Condition\",\"AddnlCost\"\\n'"
      ]
     },
     "execution_count": 69,
     "metadata": {},
     "output_type": "execute_result"
    }
   ],
   "source": [
    "next(buildings_csv_file)"
   ]
  },
  {
   "cell_type": "code",
   "execution_count": 70,
   "metadata": {},
   "outputs": [],
   "source": [
    "COPY_BUILDINGS_QUERY = \"\"\"COPY buildings FROM STDIN WITH (FORMAT CSV)\"\"\""
   ]
  },
  {
   "cell_type": "code",
   "execution_count": 71,
   "metadata": {},
   "outputs": [
    {
     "ename": "InvalidTextRepresentation",
     "evalue": "invalid input syntax for integer: \"1.5\"\nCONTEXT:  COPY buildings, line 2, column stories: \"1.5\"\n",
     "output_type": "error",
     "traceback": [
      "\u001b[0;31m---------------------------------------------------------------------------\u001b[0m",
      "\u001b[0;31mInvalidTextRepresentation\u001b[0m                 Traceback (most recent call last)",
      "\u001b[0;32m<ipython-input-71-daf5426c64a4>\u001b[0m in \u001b[0;36m<module>\u001b[0;34m\u001b[0m\n\u001b[0;32m----> 1\u001b[0;31m \u001b[0mcursor\u001b[0m\u001b[0;34m.\u001b[0m\u001b[0mcopy_expert\u001b[0m\u001b[0;34m(\u001b[0m\u001b[0mCOPY_BUILDINGS_QUERY\u001b[0m\u001b[0;34m,\u001b[0m \u001b[0mbuildings_csv_file\u001b[0m\u001b[0;34m)\u001b[0m\u001b[0;34m\u001b[0m\u001b[0;34m\u001b[0m\u001b[0m\n\u001b[0m",
      "\u001b[0;31mInvalidTextRepresentation\u001b[0m: invalid input syntax for integer: \"1.5\"\nCONTEXT:  COPY buildings, line 2, column stories: \"1.5\"\n"
     ]
    }
   ],
   "source": [
    "cursor.copy_expert(COPY_BUILDINGS_QUERY, buildings_csv_file)"
   ]
  },
  {
   "cell_type": "code",
   "execution_count": 72,
   "metadata": {},
   "outputs": [],
   "source": [
    "# ok, looks like we are going to have to deal with different types of \"numbers\""
   ]
  },
  {
   "cell_type": "code",
   "execution_count": 73,
   "metadata": {},
   "outputs": [],
   "source": [
    "CREATE_BUILDINGS_TABLE_QUERY = \"\"\"\n",
    "    DROP TABLE IF EXISTS buildings;\n",
    "    CREATE TABLE BUILDINGS (\n",
    "        Major              CHAR(6),\n",
    "        Minor              CHAR(4),\n",
    "        BldgNbr            INT,\n",
    "        NbrLivingUnits     INT,\n",
    "        Address            TEXT,\n",
    "        BuildingNumber     CHAR(5),\n",
    "        Fraction           CHAR(3),\n",
    "        DirectionPrefix    CHAR(2),\n",
    "        StreetName         CHAR(25),\n",
    "        StreetType         CHAR(6),\n",
    "        DirectionSuffix    CHAR(2),\n",
    "        ZipCode            CHAR(10),\n",
    "        Stories            REAL,\n",
    "        BldgGrade          INT,\n",
    "        BldgGradeVar       INT,\n",
    "        SqFt1stFloor       INT,\n",
    "        SqFtHalfFloor      INT,\n",
    "        SqFt2ndFloor       INT,\n",
    "        SqFtUpperFloor     INT,\n",
    "        SqFtUnfinFull      INT,\n",
    "        SqFtUnfinHalf      INT,\n",
    "        SqFtTotLiving      INT,\n",
    "        SqFtTotBasement    INT,\n",
    "        SqFtFinBasement    INT,\n",
    "        FinBasementGrade   INT,\n",
    "        SqFtGarageBasement INT,\n",
    "        SqFtGarageAttached INT,\n",
    "        DaylightBasement   CHAR(1),\n",
    "        SqFtOpenPorch      INT,\n",
    "        SqFtEnclosedPorch  INT,\n",
    "        SqFtDeck           INT,\n",
    "        HeatSystem         INT,\n",
    "        HeatSource         INT,\n",
    "        BrickStone         INT,\n",
    "        ViewUtilization    CHAR(1),\n",
    "        Bedrooms           INT,\n",
    "        BathHalfCount      INT,\n",
    "        Bath3qtrCount      INT,\n",
    "        BathFullCount      INT,\n",
    "        FpSingleStory      INT,\n",
    "        FpMultiStory       INT,\n",
    "        FpFreestanding     INT,\n",
    "        FpAdditional       INT,\n",
    "        YrBuilt            INT,\n",
    "        YrRenovated        INT,\n",
    "        PcntComplete       INT,\n",
    "        Obsolescence       INT,\n",
    "        PcntNetCondition   INT,\n",
    "        Condition          INT,\n",
    "        AddnlCost          INT\n",
    "    );\n",
    "\"\"\""
   ]
  },
  {
   "cell_type": "code",
   "execution_count": 74,
   "metadata": {},
   "outputs": [],
   "source": [
    "conn.close()"
   ]
  },
  {
   "cell_type": "code",
   "execution_count": 75,
   "metadata": {},
   "outputs": [],
   "source": [
    "conn = psycopg2.connect(dbname=\"housing_data\")\n",
    "cursor = conn.cursor()\n",
    "cursor.execute(CREATE_BUILDINGS_TABLE_QUERY)"
   ]
  },
  {
   "cell_type": "code",
   "execution_count": 76,
   "metadata": {},
   "outputs": [
    {
     "data": {
      "text/plain": [
       "'\"Major\",\"Minor\",\"BldgNbr\",\"NbrLivingUnits\",\"Address\",\"BuildingNumber\",\"Fraction\",\"DirectionPrefix\",\"StreetName\",\"StreetType\",\"DirectionSuffix\",\"ZipCode\",\"Stories\",\"BldgGrade\",\"BldgGradeVar\",\"SqFt1stFloor\",\"SqFtHalfFloor\",\"SqFt2ndFloor\",\"SqFtUpperFloor\",\"SqFtUnfinFull\",\"SqFtUnfinHalf\",\"SqFtTotLiving\",\"SqFtTotBasement\",\"SqFtFinBasement\",\"FinBasementGrade\",\"SqFtGarageBasement\",\"SqFtGarageAttached\",\"DaylightBasement\",\"SqFtOpenPorch\",\"SqFtEnclosedPorch\",\"SqFtDeck\",\"HeatSystem\",\"HeatSource\",\"BrickStone\",\"ViewUtilization\",\"Bedrooms\",\"BathHalfCount\",\"Bath3qtrCount\",\"BathFullCount\",\"FpSingleStory\",\"FpMultiStory\",\"FpFreestanding\",\"FpAdditional\",\"YrBuilt\",\"YrRenovated\",\"PcntComplete\",\"Obsolescence\",\"PcntNetCondition\",\"Condition\",\"AddnlCost\"\\n'"
      ]
     },
     "execution_count": 76,
     "metadata": {},
     "output_type": "execute_result"
    }
   ],
   "source": [
    "buildings_zip_file, buildings_csv_file = collect_building_data()\n",
    "next(buildings_csv_file)"
   ]
  },
  {
   "cell_type": "code",
   "execution_count": 77,
   "metadata": {},
   "outputs": [],
   "source": [
    "cursor.copy_expert(COPY_BUILDINGS_QUERY, buildings_csv_file)"
   ]
  },
  {
   "cell_type": "code",
   "execution_count": 78,
   "metadata": {},
   "outputs": [],
   "source": [
    "conn.commit()"
   ]
  },
  {
   "cell_type": "code",
   "execution_count": 79,
   "metadata": {},
   "outputs": [
    {
     "data": {
      "text/html": [
       "<div>\n",
       "<style scoped>\n",
       "    .dataframe tbody tr th:only-of-type {\n",
       "        vertical-align: middle;\n",
       "    }\n",
       "\n",
       "    .dataframe tbody tr th {\n",
       "        vertical-align: top;\n",
       "    }\n",
       "\n",
       "    .dataframe thead th {\n",
       "        text-align: right;\n",
       "    }\n",
       "</style>\n",
       "<table border=\"1\" class=\"dataframe\">\n",
       "  <thead>\n",
       "    <tr style=\"text-align: right;\">\n",
       "      <th></th>\n",
       "      <th>major</th>\n",
       "      <th>minor</th>\n",
       "      <th>bldgnbr</th>\n",
       "      <th>nbrlivingunits</th>\n",
       "      <th>address</th>\n",
       "      <th>buildingnumber</th>\n",
       "      <th>fraction</th>\n",
       "      <th>directionprefix</th>\n",
       "      <th>streetname</th>\n",
       "      <th>streettype</th>\n",
       "      <th>...</th>\n",
       "      <th>fpmultistory</th>\n",
       "      <th>fpfreestanding</th>\n",
       "      <th>fpadditional</th>\n",
       "      <th>yrbuilt</th>\n",
       "      <th>yrrenovated</th>\n",
       "      <th>pcntcomplete</th>\n",
       "      <th>obsolescence</th>\n",
       "      <th>pcntnetcondition</th>\n",
       "      <th>condition</th>\n",
       "      <th>addnlcost</th>\n",
       "    </tr>\n",
       "  </thead>\n",
       "  <tbody>\n",
       "    <tr>\n",
       "      <th>0</th>\n",
       "      <td>012000</td>\n",
       "      <td>0032</td>\n",
       "      <td>1</td>\n",
       "      <td>1</td>\n",
       "      <td>830   8TH AVE S  98033</td>\n",
       "      <td>830</td>\n",
       "      <td></td>\n",
       "      <td></td>\n",
       "      <td>8TH</td>\n",
       "      <td>AVE</td>\n",
       "      <td>...</td>\n",
       "      <td>0</td>\n",
       "      <td>0</td>\n",
       "      <td>0</td>\n",
       "      <td>1981</td>\n",
       "      <td>0</td>\n",
       "      <td>0</td>\n",
       "      <td>0</td>\n",
       "      <td>0</td>\n",
       "      <td>3</td>\n",
       "      <td>0</td>\n",
       "    </tr>\n",
       "    <tr>\n",
       "      <th>1</th>\n",
       "      <td>012000</td>\n",
       "      <td>0260</td>\n",
       "      <td>1</td>\n",
       "      <td>1</td>\n",
       "      <td>341   8TH ST S  98033</td>\n",
       "      <td>341</td>\n",
       "      <td></td>\n",
       "      <td></td>\n",
       "      <td>8TH</td>\n",
       "      <td>ST</td>\n",
       "      <td>...</td>\n",
       "      <td>0</td>\n",
       "      <td>0</td>\n",
       "      <td>0</td>\n",
       "      <td>1928</td>\n",
       "      <td>2007</td>\n",
       "      <td>0</td>\n",
       "      <td>0</td>\n",
       "      <td>0</td>\n",
       "      <td>3</td>\n",
       "      <td>0</td>\n",
       "    </tr>\n",
       "    <tr>\n",
       "      <th>2</th>\n",
       "      <td>012000</td>\n",
       "      <td>0262</td>\n",
       "      <td>1</td>\n",
       "      <td>1</td>\n",
       "      <td>712   5TH AVE S  98033</td>\n",
       "      <td>712</td>\n",
       "      <td></td>\n",
       "      <td></td>\n",
       "      <td>5TH</td>\n",
       "      <td>AVE</td>\n",
       "      <td>...</td>\n",
       "      <td>0</td>\n",
       "      <td>0</td>\n",
       "      <td>0</td>\n",
       "      <td>2010</td>\n",
       "      <td>0</td>\n",
       "      <td>0</td>\n",
       "      <td>0</td>\n",
       "      <td>0</td>\n",
       "      <td>3</td>\n",
       "      <td>0</td>\n",
       "    </tr>\n",
       "    <tr>\n",
       "      <th>3</th>\n",
       "      <td>012005</td>\n",
       "      <td>9035</td>\n",
       "      <td>1</td>\n",
       "      <td>1</td>\n",
       "      <td>39525   AUBURN-ENUMCLAW RD SE  98092</td>\n",
       "      <td>39525</td>\n",
       "      <td></td>\n",
       "      <td></td>\n",
       "      <td>AUBURN-ENUMCLAW</td>\n",
       "      <td>RD</td>\n",
       "      <td>...</td>\n",
       "      <td>0</td>\n",
       "      <td>0</td>\n",
       "      <td>0</td>\n",
       "      <td>1917</td>\n",
       "      <td>0</td>\n",
       "      <td>0</td>\n",
       "      <td>0</td>\n",
       "      <td>0</td>\n",
       "      <td>1</td>\n",
       "      <td>0</td>\n",
       "    </tr>\n",
       "    <tr>\n",
       "      <th>4</th>\n",
       "      <td>012006</td>\n",
       "      <td>9079</td>\n",
       "      <td>1</td>\n",
       "      <td>1</td>\n",
       "      <td>39007   272ND AVE SE  98022</td>\n",
       "      <td>39007</td>\n",
       "      <td></td>\n",
       "      <td></td>\n",
       "      <td>272ND</td>\n",
       "      <td>AVE</td>\n",
       "      <td>...</td>\n",
       "      <td>0</td>\n",
       "      <td>0</td>\n",
       "      <td>0</td>\n",
       "      <td>1990</td>\n",
       "      <td>0</td>\n",
       "      <td>0</td>\n",
       "      <td>0</td>\n",
       "      <td>0</td>\n",
       "      <td>4</td>\n",
       "      <td>0</td>\n",
       "    </tr>\n",
       "  </tbody>\n",
       "</table>\n",
       "<p>5 rows × 50 columns</p>\n",
       "</div>"
      ],
      "text/plain": [
       "    major minor  bldgnbr  nbrlivingunits  \\\n",
       "0  012000  0032        1               1   \n",
       "1  012000  0260        1               1   \n",
       "2  012000  0262        1               1   \n",
       "3  012005  9035        1               1   \n",
       "4  012006  9079        1               1   \n",
       "\n",
       "                                address buildingnumber fraction  \\\n",
       "0                830   8TH AVE S  98033          830              \n",
       "1                 341   8TH ST S  98033          341              \n",
       "2                712   5TH AVE S  98033          712              \n",
       "3  39525   AUBURN-ENUMCLAW RD SE  98092          39525            \n",
       "4           39007   272ND AVE SE  98022          39007            \n",
       "\n",
       "  directionprefix                 streetname streettype  ... fpmultistory  \\\n",
       "0                  8TH                           AVE     ...            0   \n",
       "1                  8TH                           ST      ...            0   \n",
       "2                  5TH                           AVE     ...            0   \n",
       "3                  AUBURN-ENUMCLAW               RD      ...            0   \n",
       "4                  272ND                         AVE     ...            0   \n",
       "\n",
       "  fpfreestanding  fpadditional  yrbuilt  yrrenovated  pcntcomplete  \\\n",
       "0              0             0     1981            0             0   \n",
       "1              0             0     1928         2007             0   \n",
       "2              0             0     2010            0             0   \n",
       "3              0             0     1917            0             0   \n",
       "4              0             0     1990            0             0   \n",
       "\n",
       "   obsolescence  pcntnetcondition  condition  addnlcost  \n",
       "0             0                 0          3          0  \n",
       "1             0                 0          3          0  \n",
       "2             0                 0          3          0  \n",
       "3             0                 0          1          0  \n",
       "4             0                 0          4          0  \n",
       "\n",
       "[5 rows x 50 columns]"
      ]
     },
     "execution_count": 79,
     "metadata": {},
     "output_type": "execute_result"
    }
   ],
   "source": [
    "pd.read_sql_query(\"SELECT * FROM buildings LIMIT 5;\", conn)"
   ]
  },
  {
   "cell_type": "code",
   "execution_count": 80,
   "metadata": {},
   "outputs": [],
   "source": [
    "conn.close()"
   ]
  },
  {
   "cell_type": "code",
   "execution_count": 81,
   "metadata": {},
   "outputs": [],
   "source": [
    "# run through the whole buildings flow\n",
    "from data_collection import collect_building_data\n",
    "buildings_zip_file, buildings_csv_file = collect_building_data()"
   ]
  },
  {
   "cell_type": "code",
   "execution_count": 82,
   "metadata": {},
   "outputs": [],
   "source": [
    "from sql_utils import create_database, create_buildings_table, copy_csv_to_buildings_table\n",
    "create_database()"
   ]
  },
  {
   "cell_type": "code",
   "execution_count": 83,
   "metadata": {},
   "outputs": [],
   "source": [
    "conn = psycopg2.connect(dbname=\"housing_data\")"
   ]
  },
  {
   "cell_type": "code",
   "execution_count": 84,
   "metadata": {},
   "outputs": [],
   "source": [
    "create_buildings_table(conn)"
   ]
  },
  {
   "cell_type": "code",
   "execution_count": 85,
   "metadata": {},
   "outputs": [],
   "source": [
    "copy_csv_to_buildings_table(conn, buildings_csv_file)"
   ]
  },
  {
   "cell_type": "code",
   "execution_count": 86,
   "metadata": {},
   "outputs": [],
   "source": [
    "buildings_zip_file.close()\n",
    "buildings_csv_file.close()\n",
    "conn.close()"
   ]
  },
  {
   "cell_type": "code",
   "execution_count": 87,
   "metadata": {},
   "outputs": [
    {
     "data": {
      "text/html": [
       "<div>\n",
       "<style scoped>\n",
       "    .dataframe tbody tr th:only-of-type {\n",
       "        vertical-align: middle;\n",
       "    }\n",
       "\n",
       "    .dataframe tbody tr th {\n",
       "        vertical-align: top;\n",
       "    }\n",
       "\n",
       "    .dataframe thead th {\n",
       "        text-align: right;\n",
       "    }\n",
       "</style>\n",
       "<table border=\"1\" class=\"dataframe\">\n",
       "  <thead>\n",
       "    <tr style=\"text-align: right;\">\n",
       "      <th></th>\n",
       "      <th>major</th>\n",
       "      <th>minor</th>\n",
       "      <th>bldgnbr</th>\n",
       "      <th>nbrlivingunits</th>\n",
       "      <th>address</th>\n",
       "      <th>buildingnumber</th>\n",
       "      <th>fraction</th>\n",
       "      <th>directionprefix</th>\n",
       "      <th>streetname</th>\n",
       "      <th>streettype</th>\n",
       "      <th>...</th>\n",
       "      <th>fpmultistory</th>\n",
       "      <th>fpfreestanding</th>\n",
       "      <th>fpadditional</th>\n",
       "      <th>yrbuilt</th>\n",
       "      <th>yrrenovated</th>\n",
       "      <th>pcntcomplete</th>\n",
       "      <th>obsolescence</th>\n",
       "      <th>pcntnetcondition</th>\n",
       "      <th>condition</th>\n",
       "      <th>addnlcost</th>\n",
       "    </tr>\n",
       "  </thead>\n",
       "  <tbody>\n",
       "    <tr>\n",
       "      <th>0</th>\n",
       "      <td>012000</td>\n",
       "      <td>0032</td>\n",
       "      <td>1</td>\n",
       "      <td>1</td>\n",
       "      <td>830   8TH AVE S  98033</td>\n",
       "      <td>830</td>\n",
       "      <td></td>\n",
       "      <td></td>\n",
       "      <td>8TH</td>\n",
       "      <td>AVE</td>\n",
       "      <td>...</td>\n",
       "      <td>0</td>\n",
       "      <td>0</td>\n",
       "      <td>0</td>\n",
       "      <td>1981</td>\n",
       "      <td>0</td>\n",
       "      <td>0</td>\n",
       "      <td>0</td>\n",
       "      <td>0</td>\n",
       "      <td>3</td>\n",
       "      <td>0</td>\n",
       "    </tr>\n",
       "    <tr>\n",
       "      <th>1</th>\n",
       "      <td>012000</td>\n",
       "      <td>0260</td>\n",
       "      <td>1</td>\n",
       "      <td>1</td>\n",
       "      <td>341   8TH ST S  98033</td>\n",
       "      <td>341</td>\n",
       "      <td></td>\n",
       "      <td></td>\n",
       "      <td>8TH</td>\n",
       "      <td>ST</td>\n",
       "      <td>...</td>\n",
       "      <td>0</td>\n",
       "      <td>0</td>\n",
       "      <td>0</td>\n",
       "      <td>1928</td>\n",
       "      <td>2007</td>\n",
       "      <td>0</td>\n",
       "      <td>0</td>\n",
       "      <td>0</td>\n",
       "      <td>3</td>\n",
       "      <td>0</td>\n",
       "    </tr>\n",
       "    <tr>\n",
       "      <th>2</th>\n",
       "      <td>012000</td>\n",
       "      <td>0262</td>\n",
       "      <td>1</td>\n",
       "      <td>1</td>\n",
       "      <td>712   5TH AVE S  98033</td>\n",
       "      <td>712</td>\n",
       "      <td></td>\n",
       "      <td></td>\n",
       "      <td>5TH</td>\n",
       "      <td>AVE</td>\n",
       "      <td>...</td>\n",
       "      <td>0</td>\n",
       "      <td>0</td>\n",
       "      <td>0</td>\n",
       "      <td>2010</td>\n",
       "      <td>0</td>\n",
       "      <td>0</td>\n",
       "      <td>0</td>\n",
       "      <td>0</td>\n",
       "      <td>3</td>\n",
       "      <td>0</td>\n",
       "    </tr>\n",
       "    <tr>\n",
       "      <th>3</th>\n",
       "      <td>012005</td>\n",
       "      <td>9035</td>\n",
       "      <td>1</td>\n",
       "      <td>1</td>\n",
       "      <td>39525   AUBURN-ENUMCLAW RD SE  98092</td>\n",
       "      <td>39525</td>\n",
       "      <td></td>\n",
       "      <td></td>\n",
       "      <td>AUBURN-ENUMCLAW</td>\n",
       "      <td>RD</td>\n",
       "      <td>...</td>\n",
       "      <td>0</td>\n",
       "      <td>0</td>\n",
       "      <td>0</td>\n",
       "      <td>1917</td>\n",
       "      <td>0</td>\n",
       "      <td>0</td>\n",
       "      <td>0</td>\n",
       "      <td>0</td>\n",
       "      <td>1</td>\n",
       "      <td>0</td>\n",
       "    </tr>\n",
       "    <tr>\n",
       "      <th>4</th>\n",
       "      <td>012006</td>\n",
       "      <td>9079</td>\n",
       "      <td>1</td>\n",
       "      <td>1</td>\n",
       "      <td>39007   272ND AVE SE  98022</td>\n",
       "      <td>39007</td>\n",
       "      <td></td>\n",
       "      <td></td>\n",
       "      <td>272ND</td>\n",
       "      <td>AVE</td>\n",
       "      <td>...</td>\n",
       "      <td>0</td>\n",
       "      <td>0</td>\n",
       "      <td>0</td>\n",
       "      <td>1990</td>\n",
       "      <td>0</td>\n",
       "      <td>0</td>\n",
       "      <td>0</td>\n",
       "      <td>0</td>\n",
       "      <td>4</td>\n",
       "      <td>0</td>\n",
       "    </tr>\n",
       "  </tbody>\n",
       "</table>\n",
       "<p>5 rows × 50 columns</p>\n",
       "</div>"
      ],
      "text/plain": [
       "    major minor  bldgnbr  nbrlivingunits  \\\n",
       "0  012000  0032        1               1   \n",
       "1  012000  0260        1               1   \n",
       "2  012000  0262        1               1   \n",
       "3  012005  9035        1               1   \n",
       "4  012006  9079        1               1   \n",
       "\n",
       "                                address buildingnumber fraction  \\\n",
       "0                830   8TH AVE S  98033          830              \n",
       "1                 341   8TH ST S  98033          341              \n",
       "2                712   5TH AVE S  98033          712              \n",
       "3  39525   AUBURN-ENUMCLAW RD SE  98092          39525            \n",
       "4           39007   272ND AVE SE  98022          39007            \n",
       "\n",
       "  directionprefix                 streetname streettype  ... fpmultistory  \\\n",
       "0                  8TH                           AVE     ...            0   \n",
       "1                  8TH                           ST      ...            0   \n",
       "2                  5TH                           AVE     ...            0   \n",
       "3                  AUBURN-ENUMCLAW               RD      ...            0   \n",
       "4                  272ND                         AVE     ...            0   \n",
       "\n",
       "  fpfreestanding  fpadditional  yrbuilt  yrrenovated  pcntcomplete  \\\n",
       "0              0             0     1981            0             0   \n",
       "1              0             0     1928         2007             0   \n",
       "2              0             0     2010            0             0   \n",
       "3              0             0     1917            0             0   \n",
       "4              0             0     1990            0             0   \n",
       "\n",
       "   obsolescence  pcntnetcondition  condition  addnlcost  \n",
       "0             0                 0          3          0  \n",
       "1             0                 0          3          0  \n",
       "2             0                 0          3          0  \n",
       "3             0                 0          1          0  \n",
       "4             0                 0          4          0  \n",
       "\n",
       "[5 rows x 50 columns]"
      ]
     },
     "execution_count": 87,
     "metadata": {},
     "output_type": "execute_result"
    }
   ],
   "source": [
    "# test whether it worked\n",
    "conn = psycopg2.connect(dbname=\"housing_data\")\n",
    "pd.read_sql_query(\"SELECT * FROM buildings LIMIT 5;\", conn)"
   ]
  },
  {
   "cell_type": "code",
   "execution_count": null,
   "metadata": {},
   "outputs": [],
   "source": []
  }
 ],
 "metadata": {
  "kernelspec": {
   "display_name": "Python 3",
   "language": "python",
   "name": "python3"
  },
  "language_info": {
   "codemirror_mode": {
    "name": "ipython",
    "version": 3
   },
   "file_extension": ".py",
   "mimetype": "text/x-python",
   "name": "python",
   "nbconvert_exporter": "python",
   "pygments_lexer": "ipython3",
   "version": "3.8.0"
  }
 },
 "nbformat": 4,
 "nbformat_minor": 4
}
