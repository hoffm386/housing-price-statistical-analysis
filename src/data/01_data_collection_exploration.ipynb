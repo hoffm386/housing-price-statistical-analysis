{
 "cells": [
  {
   "cell_type": "code",
   "execution_count": 1,
   "metadata": {},
   "outputs": [],
   "source": [
    "from io import BytesIO\n",
    "from zipfile import ZipFile\n",
    "import requests"
   ]
  },
  {
   "cell_type": "code",
   "execution_count": 2,
   "metadata": {},
   "outputs": [],
   "source": [
    "REAL_PROPERTY_SALES_URL = \"https://aqua.kingcounty.gov/extranet/assessor/Real%20Property%20Sales.zip\"\n",
    "RESIDENTIAL_BUILDING_URL = \"https://aqua.kingcounty.gov/extranet/assessor/Residential%20Building.zip\"\n",
    "PARCEL_URL = \"https://aqua.kingcounty.gov/extranet/assessor/Parcel.zip\""
   ]
  },
  {
   "cell_type": "code",
   "execution_count": 5,
   "metadata": {},
   "outputs": [],
   "source": [
    "# parcels has low to medium number of rows according to the doc, so let's try it first\n",
    "parcel_response = requests.get(PARCEL_URL)"
   ]
  },
  {
   "cell_type": "code",
   "execution_count": 6,
   "metadata": {},
   "outputs": [
    {
     "data": {
      "text/plain": [
       "b'PK\\x03\\x04\\x14\\x00\\x00\\x00\\x08\\x00\\xab\\x89vO\\xa6\\xa6\\xb0\\xc2\\xa7Z\\xd8\\x01\\xd0\\xfak\\x0e\\x0f\\x00\\x00\\x00EXTR_Parcel.csv\\xec]\\xdds\\xe28\\xb6\\x7f\\xbfU\\xf7\\x7fp\\xf9\\xa1\\xefn\\xd50+\\xc9\\xdf\\x8f\\x0e8\\xc1\\x1dcgl\\x92l\\xe6\\x8dI\\x9cnv\\x08d\\x81\\xccl\\xef_\\x7fu\\x8e,\\xc96\\x98@OO'"
      ]
     },
     "execution_count": 6,
     "metadata": {},
     "output_type": "execute_result"
    }
   ],
   "source": [
    "# okay, that took about 10 seconds, so far so good\n",
    "parcel_response.content[:100]"
   ]
  },
  {
   "cell_type": "code",
   "execution_count": 7,
   "metadata": {},
   "outputs": [],
   "source": [
    "# looks like bytes to me!\n",
    "parcel_file = BytesIO(parcel_response.content)"
   ]
  },
  {
   "cell_type": "code",
   "execution_count": 8,
   "metadata": {},
   "outputs": [],
   "source": [
    "parcel_zipfile = ZipFile(parcel_file)"
   ]
  },
  {
   "cell_type": "code",
   "execution_count": 9,
   "metadata": {},
   "outputs": [
    {
     "data": {
      "text/plain": [
       "[<ZipInfo filename='EXTR_Parcel.csv' compress_type=deflate external_attr=0x20 file_size=241957584 compress_size=30956199>]"
      ]
     },
     "execution_count": 9,
     "metadata": {},
     "output_type": "execute_result"
    }
   ],
   "source": [
    "# what files are in this zip?\n",
    "parcel_zipfile.filelist"
   ]
  },
  {
   "cell_type": "code",
   "execution_count": 10,
   "metadata": {},
   "outputs": [],
   "source": [
    "parcel_csv = parcel_zipfile.open('EXTR_Parcel.csv')"
   ]
  },
  {
   "cell_type": "code",
   "execution_count": 11,
   "metadata": {},
   "outputs": [
    {
     "data": {
      "text/plain": [
       "b'\"Major\",\"Minor\",\"PropName\",\"PlatName\",\"PlatLot\",\"PlatBlock\",\"Range\",\"Township\",\"Section\",\"QuarterSection\",\"PropType\",\"Area\",\"SubArea\",\"SpecArea\",\"SpecSubArea\",\"DistrictName\",\"LevyCode\",\"CurrentZoning\",\"HBUAsIfVacant\",\"HBUAsImproved\",\"PresentUse\",\"SqFtLot\",\"WaterSystem\",\"SewerSystem\",\"Access\",\"Topography\",\"StreetSurface\",\"RestrictiveSzShape\",\"InadequateParking\",\"PcntUnusable\",\"Unbuildable\",\"MtRainier\",\"Olympics\",\"Cascades\",\"Territorial\",\"SeattleSkyline\",\"PugetSound\",\"LakeWashington\",\"LakeSammamish\",\"SmallLak'"
      ]
     },
     "execution_count": 11,
     "metadata": {},
     "output_type": "execute_result"
    }
   ],
   "source": [
    "parcel_csv.peek()"
   ]
  },
  {
   "cell_type": "code",
   "execution_count": 12,
   "metadata": {},
   "outputs": [],
   "source": [
    "# :happydance: that looks like the first row of a CSV that matches the doc!"
   ]
  },
  {
   "cell_type": "code",
   "execution_count": 14,
   "metadata": {},
   "outputs": [],
   "source": [
    "from csv import DictReader"
   ]
  },
  {
   "cell_type": "code",
   "execution_count": 15,
   "metadata": {},
   "outputs": [],
   "source": [
    "parcel_reader = DictReader(parcel_csv)"
   ]
  },
  {
   "cell_type": "code",
   "execution_count": 16,
   "metadata": {},
   "outputs": [
    {
     "ename": "Error",
     "evalue": "iterator should return strings, not bytes (did you open the file in text mode?)",
     "output_type": "error",
     "traceback": [
      "\u001b[0;31m---------------------------------------------------------------------------\u001b[0m",
      "\u001b[0;31mError\u001b[0m                                     Traceback (most recent call last)",
      "\u001b[0;32m<ipython-input-16-e4fba888742b>\u001b[0m in \u001b[0;36m<module>\u001b[0;34m\u001b[0m\n\u001b[0;32m----> 1\u001b[0;31m \u001b[0mparcel_reader\u001b[0m\u001b[0;34m.\u001b[0m\u001b[0mfieldnames\u001b[0m\u001b[0;34m\u001b[0m\u001b[0;34m\u001b[0m\u001b[0m\n\u001b[0m",
      "\u001b[0;32m//anaconda3/envs/mod2-project-env/lib/python3.8/csv.py\u001b[0m in \u001b[0;36mfieldnames\u001b[0;34m(self)\u001b[0m\n\u001b[1;32m     95\u001b[0m         \u001b[0;32mif\u001b[0m \u001b[0mself\u001b[0m\u001b[0;34m.\u001b[0m\u001b[0m_fieldnames\u001b[0m \u001b[0;32mis\u001b[0m \u001b[0;32mNone\u001b[0m\u001b[0;34m:\u001b[0m\u001b[0;34m\u001b[0m\u001b[0;34m\u001b[0m\u001b[0m\n\u001b[1;32m     96\u001b[0m             \u001b[0;32mtry\u001b[0m\u001b[0;34m:\u001b[0m\u001b[0;34m\u001b[0m\u001b[0;34m\u001b[0m\u001b[0m\n\u001b[0;32m---> 97\u001b[0;31m                 \u001b[0mself\u001b[0m\u001b[0;34m.\u001b[0m\u001b[0m_fieldnames\u001b[0m \u001b[0;34m=\u001b[0m \u001b[0mnext\u001b[0m\u001b[0;34m(\u001b[0m\u001b[0mself\u001b[0m\u001b[0;34m.\u001b[0m\u001b[0mreader\u001b[0m\u001b[0;34m)\u001b[0m\u001b[0;34m\u001b[0m\u001b[0;34m\u001b[0m\u001b[0m\n\u001b[0m\u001b[1;32m     98\u001b[0m             \u001b[0;32mexcept\u001b[0m \u001b[0mStopIteration\u001b[0m\u001b[0;34m:\u001b[0m\u001b[0;34m\u001b[0m\u001b[0;34m\u001b[0m\u001b[0m\n\u001b[1;32m     99\u001b[0m                 \u001b[0;32mpass\u001b[0m\u001b[0;34m\u001b[0m\u001b[0;34m\u001b[0m\u001b[0m\n",
      "\u001b[0;31mError\u001b[0m: iterator should return strings, not bytes (did you open the file in text mode?)"
     ]
    }
   ],
   "source": [
    "parcel_reader.fieldnames"
   ]
  },
  {
   "cell_type": "code",
   "execution_count": 17,
   "metadata": {},
   "outputs": [
    {
     "ename": "ValueError",
     "evalue": "open() requires mode \"r\" or \"w\"",
     "output_type": "error",
     "traceback": [
      "\u001b[0;31m---------------------------------------------------------------------------\u001b[0m",
      "\u001b[0;31mValueError\u001b[0m                                Traceback (most recent call last)",
      "\u001b[0;32m<ipython-input-17-fdeef46ff66f>\u001b[0m in \u001b[0;36m<module>\u001b[0;34m\u001b[0m\n\u001b[1;32m      1\u001b[0m \u001b[0;31m# ok, it's not happy about the format\u001b[0m\u001b[0;34m\u001b[0m\u001b[0;34m\u001b[0m\u001b[0;34m\u001b[0m\u001b[0m\n\u001b[0;32m----> 2\u001b[0;31m \u001b[0mparcel_csv_decoded\u001b[0m \u001b[0;34m=\u001b[0m \u001b[0mparcel_zipfile\u001b[0m\u001b[0;34m.\u001b[0m\u001b[0mopen\u001b[0m\u001b[0;34m(\u001b[0m\u001b[0;34m'EXTR_Parcel.csv'\u001b[0m\u001b[0;34m,\u001b[0m \u001b[0;34m\"rt\"\u001b[0m\u001b[0;34m)\u001b[0m\u001b[0;34m\u001b[0m\u001b[0;34m\u001b[0m\u001b[0m\n\u001b[0m",
      "\u001b[0;32m//anaconda3/envs/mod2-project-env/lib/python3.8/zipfile.py\u001b[0m in \u001b[0;36mopen\u001b[0;34m(self, name, mode, pwd, force_zip64)\u001b[0m\n\u001b[1;32m   1458\u001b[0m         \"\"\"\n\u001b[1;32m   1459\u001b[0m         \u001b[0;32mif\u001b[0m \u001b[0mmode\u001b[0m \u001b[0;32mnot\u001b[0m \u001b[0;32min\u001b[0m \u001b[0;34m{\u001b[0m\u001b[0;34m\"r\"\u001b[0m\u001b[0;34m,\u001b[0m \u001b[0;34m\"w\"\u001b[0m\u001b[0;34m}\u001b[0m\u001b[0;34m:\u001b[0m\u001b[0;34m\u001b[0m\u001b[0;34m\u001b[0m\u001b[0m\n\u001b[0;32m-> 1460\u001b[0;31m             \u001b[0;32mraise\u001b[0m \u001b[0mValueError\u001b[0m\u001b[0;34m(\u001b[0m\u001b[0;34m'open() requires mode \"r\" or \"w\"'\u001b[0m\u001b[0;34m)\u001b[0m\u001b[0;34m\u001b[0m\u001b[0;34m\u001b[0m\u001b[0m\n\u001b[0m\u001b[1;32m   1461\u001b[0m         \u001b[0;32mif\u001b[0m \u001b[0mpwd\u001b[0m \u001b[0;32mand\u001b[0m \u001b[0;32mnot\u001b[0m \u001b[0misinstance\u001b[0m\u001b[0;34m(\u001b[0m\u001b[0mpwd\u001b[0m\u001b[0;34m,\u001b[0m \u001b[0mbytes\u001b[0m\u001b[0;34m)\u001b[0m\u001b[0;34m:\u001b[0m\u001b[0;34m\u001b[0m\u001b[0;34m\u001b[0m\u001b[0m\n\u001b[1;32m   1462\u001b[0m             \u001b[0;32mraise\u001b[0m \u001b[0mTypeError\u001b[0m\u001b[0;34m(\u001b[0m\u001b[0;34m\"pwd: expected bytes, got %s\"\u001b[0m \u001b[0;34m%\u001b[0m \u001b[0mtype\u001b[0m\u001b[0;34m(\u001b[0m\u001b[0mpwd\u001b[0m\u001b[0;34m)\u001b[0m\u001b[0;34m.\u001b[0m\u001b[0m__name__\u001b[0m\u001b[0;34m)\u001b[0m\u001b[0;34m\u001b[0m\u001b[0;34m\u001b[0m\u001b[0m\n",
      "\u001b[0;31mValueError\u001b[0m: open() requires mode \"r\" or \"w\""
     ]
    }
   ],
   "source": [
    "# ok, it's not happy about the format\n",
    "parcel_csv_decoded = parcel_zipfile.open('EXTR_Parcel.csv', \"rt\")"
   ]
  },
  {
   "cell_type": "code",
   "execution_count": 21,
   "metadata": {},
   "outputs": [
    {
     "ename": "AttributeError",
     "evalue": "'bytes' object has no attribute 'readable'",
     "output_type": "error",
     "traceback": [
      "\u001b[0;31m---------------------------------------------------------------------------\u001b[0m",
      "\u001b[0;31mAttributeError\u001b[0m                            Traceback (most recent call last)",
      "\u001b[0;32m<ipython-input-21-52a97b4d5f6d>\u001b[0m in \u001b[0;36m<module>\u001b[0;34m\u001b[0m\n\u001b[1;32m      2\u001b[0m \u001b[0;31m# maybe I can back up and make this a TextIO instead of BytesIO?\u001b[0m\u001b[0;34m\u001b[0m\u001b[0;34m\u001b[0m\u001b[0;34m\u001b[0m\u001b[0m\n\u001b[1;32m      3\u001b[0m \u001b[0;32mfrom\u001b[0m \u001b[0mio\u001b[0m \u001b[0;32mimport\u001b[0m \u001b[0mTextIOWrapper\u001b[0m\u001b[0;34m\u001b[0m\u001b[0;34m\u001b[0m\u001b[0m\n\u001b[0;32m----> 4\u001b[0;31m \u001b[0mparcel_text_file\u001b[0m \u001b[0;34m=\u001b[0m \u001b[0mTextIOWrapper\u001b[0m\u001b[0;34m(\u001b[0m\u001b[0mparcel_response\u001b[0m\u001b[0;34m.\u001b[0m\u001b[0mcontent\u001b[0m\u001b[0;34m)\u001b[0m\u001b[0;34m\u001b[0m\u001b[0;34m\u001b[0m\u001b[0m\n\u001b[0m",
      "\u001b[0;31mAttributeError\u001b[0m: 'bytes' object has no attribute 'readable'"
     ]
    }
   ],
   "source": [
    "# huh, zipfile \"open\" doesn't accept a flag to tell it to open as text.\n",
    "# maybe I can back up and make this a TextIO instead of BytesIO?\n",
    "from io import TextIOWrapper\n",
    "parcel_text_file = TextIOWrapper(parcel_response.content)"
   ]
  },
  {
   "cell_type": "code",
   "execution_count": 23,
   "metadata": {},
   "outputs": [],
   "source": [
    "# no, trying one other technique of opening\n",
    "parcel_text_file = TextIOWrapper(parcel_file)"
   ]
  },
  {
   "cell_type": "code",
   "execution_count": 24,
   "metadata": {},
   "outputs": [
    {
     "ename": "BadZipFile",
     "evalue": "File is not a zip file",
     "output_type": "error",
     "traceback": [
      "\u001b[0;31m---------------------------------------------------------------------------\u001b[0m",
      "\u001b[0;31mBadZipFile\u001b[0m                                Traceback (most recent call last)",
      "\u001b[0;32m<ipython-input-24-a01cb9be35b2>\u001b[0m in \u001b[0;36m<module>\u001b[0;34m\u001b[0m\n\u001b[0;32m----> 1\u001b[0;31m \u001b[0mparcel_text_zipfile\u001b[0m \u001b[0;34m=\u001b[0m \u001b[0mZipFile\u001b[0m\u001b[0;34m(\u001b[0m\u001b[0mparcel_text_file\u001b[0m\u001b[0;34m)\u001b[0m\u001b[0;34m\u001b[0m\u001b[0;34m\u001b[0m\u001b[0m\n\u001b[0m",
      "\u001b[0;32m//anaconda3/envs/mod2-project-env/lib/python3.8/zipfile.py\u001b[0m in \u001b[0;36m__init__\u001b[0;34m(self, file, mode, compression, allowZip64, compresslevel, strict_timestamps)\u001b[0m\n\u001b[1;32m   1232\u001b[0m         \u001b[0;32mtry\u001b[0m\u001b[0;34m:\u001b[0m\u001b[0;34m\u001b[0m\u001b[0;34m\u001b[0m\u001b[0m\n\u001b[1;32m   1233\u001b[0m             \u001b[0;32mif\u001b[0m \u001b[0mmode\u001b[0m \u001b[0;34m==\u001b[0m \u001b[0;34m'r'\u001b[0m\u001b[0;34m:\u001b[0m\u001b[0;34m\u001b[0m\u001b[0;34m\u001b[0m\u001b[0m\n\u001b[0;32m-> 1234\u001b[0;31m                 \u001b[0mself\u001b[0m\u001b[0;34m.\u001b[0m\u001b[0m_RealGetContents\u001b[0m\u001b[0;34m(\u001b[0m\u001b[0;34m)\u001b[0m\u001b[0;34m\u001b[0m\u001b[0;34m\u001b[0m\u001b[0m\n\u001b[0m\u001b[1;32m   1235\u001b[0m             \u001b[0;32melif\u001b[0m \u001b[0mmode\u001b[0m \u001b[0;32min\u001b[0m \u001b[0;34m(\u001b[0m\u001b[0;34m'w'\u001b[0m\u001b[0;34m,\u001b[0m \u001b[0;34m'x'\u001b[0m\u001b[0;34m)\u001b[0m\u001b[0;34m:\u001b[0m\u001b[0;34m\u001b[0m\u001b[0;34m\u001b[0m\u001b[0m\n\u001b[1;32m   1236\u001b[0m                 \u001b[0;31m# set the modified flag so central directory gets written\u001b[0m\u001b[0;34m\u001b[0m\u001b[0;34m\u001b[0m\u001b[0;34m\u001b[0m\u001b[0m\n",
      "\u001b[0;32m//anaconda3/envs/mod2-project-env/lib/python3.8/zipfile.py\u001b[0m in \u001b[0;36m_RealGetContents\u001b[0;34m(self)\u001b[0m\n\u001b[1;32m   1299\u001b[0m             \u001b[0;32mraise\u001b[0m \u001b[0mBadZipFile\u001b[0m\u001b[0;34m(\u001b[0m\u001b[0;34m\"File is not a zip file\"\u001b[0m\u001b[0;34m)\u001b[0m\u001b[0;34m\u001b[0m\u001b[0;34m\u001b[0m\u001b[0m\n\u001b[1;32m   1300\u001b[0m         \u001b[0;32mif\u001b[0m \u001b[0;32mnot\u001b[0m \u001b[0mendrec\u001b[0m\u001b[0;34m:\u001b[0m\u001b[0;34m\u001b[0m\u001b[0;34m\u001b[0m\u001b[0m\n\u001b[0;32m-> 1301\u001b[0;31m             \u001b[0;32mraise\u001b[0m \u001b[0mBadZipFile\u001b[0m\u001b[0;34m(\u001b[0m\u001b[0;34m\"File is not a zip file\"\u001b[0m\u001b[0;34m)\u001b[0m\u001b[0;34m\u001b[0m\u001b[0;34m\u001b[0m\u001b[0m\n\u001b[0m\u001b[1;32m   1302\u001b[0m         \u001b[0;32mif\u001b[0m \u001b[0mself\u001b[0m\u001b[0;34m.\u001b[0m\u001b[0mdebug\u001b[0m \u001b[0;34m>\u001b[0m \u001b[0;36m1\u001b[0m\u001b[0;34m:\u001b[0m\u001b[0;34m\u001b[0m\u001b[0;34m\u001b[0m\u001b[0m\n\u001b[1;32m   1303\u001b[0m             \u001b[0mprint\u001b[0m\u001b[0;34m(\u001b[0m\u001b[0mendrec\u001b[0m\u001b[0;34m)\u001b[0m\u001b[0;34m\u001b[0m\u001b[0;34m\u001b[0m\u001b[0m\n",
      "\u001b[0;31mBadZipFile\u001b[0m: File is not a zip file"
     ]
    }
   ],
   "source": [
    "parcel_text_zipfile = ZipFile(parcel_text_file)"
   ]
  },
  {
   "cell_type": "code",
   "execution_count": 25,
   "metadata": {},
   "outputs": [
    {
     "data": {
      "text/plain": [
       "\u001b[0;31mType:\u001b[0m        TextIOWrapper\n",
       "\u001b[0;31mString form:\u001b[0m <_io.TextIOWrapper encoding='UTF-8'>\n",
       "\u001b[0;31mDocstring:\u001b[0m  \n",
       "Character and line based layer over a BufferedIOBase object, buffer.\n",
       "\n",
       "encoding gives the name of the encoding that the stream will be\n",
       "decoded or encoded with. It defaults to locale.getpreferredencoding(False).\n",
       "\n",
       "errors determines the strictness of encoding and decoding (see\n",
       "help(codecs.Codec) or the documentation for codecs.register) and\n",
       "defaults to \"strict\".\n",
       "\n",
       "newline controls how line endings are handled. It can be None, '',\n",
       "'\\n', '\\r', and '\\r\\n'.  It works as follows:\n",
       "\n",
       "* On input, if newline is None, universal newlines mode is\n",
       "  enabled. Lines in the input can end in '\\n', '\\r', or '\\r\\n', and\n",
       "  these are translated into '\\n' before being returned to the\n",
       "  caller. If it is '', universal newline mode is enabled, but line\n",
       "  endings are returned to the caller untranslated. If it has any of\n",
       "  the other legal values, input lines are only terminated by the given\n",
       "  string, and the line ending is returned to the caller untranslated.\n",
       "\n",
       "* On output, if newline is None, any '\\n' characters written are\n",
       "  translated to the system default line separator, os.linesep. If\n",
       "  newline is '' or '\\n', no translation takes place. If newline is any\n",
       "  of the other legal values, any '\\n' characters written are translated\n",
       "  to the given string.\n",
       "\n",
       "If line_buffering is True, a call to flush is implied when a call to\n",
       "write contains a newline character.\n"
      ]
     },
     "metadata": {},
     "output_type": "display_data"
    }
   ],
   "source": [
    "parcel_text_file?"
   ]
  },
  {
   "cell_type": "code",
   "execution_count": 26,
   "metadata": {},
   "outputs": [],
   "source": [
    "parcel_csv_text_file = TextIOWrapper(parcel_csv)"
   ]
  },
  {
   "cell_type": "code",
   "execution_count": 27,
   "metadata": {},
   "outputs": [
    {
     "data": {
      "text/plain": [
       "\u001b[0;31mType:\u001b[0m        TextIOWrapper\n",
       "\u001b[0;31mString form:\u001b[0m <_io.TextIOWrapper name='EXTR_Parcel.csv' encoding='UTF-8'>\n",
       "\u001b[0;31mDocstring:\u001b[0m  \n",
       "Character and line based layer over a BufferedIOBase object, buffer.\n",
       "\n",
       "encoding gives the name of the encoding that the stream will be\n",
       "decoded or encoded with. It defaults to locale.getpreferredencoding(False).\n",
       "\n",
       "errors determines the strictness of encoding and decoding (see\n",
       "help(codecs.Codec) or the documentation for codecs.register) and\n",
       "defaults to \"strict\".\n",
       "\n",
       "newline controls how line endings are handled. It can be None, '',\n",
       "'\\n', '\\r', and '\\r\\n'.  It works as follows:\n",
       "\n",
       "* On input, if newline is None, universal newlines mode is\n",
       "  enabled. Lines in the input can end in '\\n', '\\r', or '\\r\\n', and\n",
       "  these are translated into '\\n' before being returned to the\n",
       "  caller. If it is '', universal newline mode is enabled, but line\n",
       "  endings are returned to the caller untranslated. If it has any of\n",
       "  the other legal values, input lines are only terminated by the given\n",
       "  string, and the line ending is returned to the caller untranslated.\n",
       "\n",
       "* On output, if newline is None, any '\\n' characters written are\n",
       "  translated to the system default line separator, os.linesep. If\n",
       "  newline is '' or '\\n', no translation takes place. If newline is any\n",
       "  of the other legal values, any '\\n' characters written are translated\n",
       "  to the given string.\n",
       "\n",
       "If line_buffering is True, a call to flush is implied when a call to\n",
       "write contains a newline character.\n"
      ]
     },
     "metadata": {},
     "output_type": "display_data"
    }
   ],
   "source": [
    "parcel_csv_text_file?"
   ]
  },
  {
   "cell_type": "code",
   "execution_count": 28,
   "metadata": {},
   "outputs": [],
   "source": [
    "parcel_text_reader = DictReader(parcel_csv_text_file)"
   ]
  },
  {
   "cell_type": "code",
   "execution_count": 29,
   "metadata": {},
   "outputs": [
    {
     "data": {
      "text/plain": [
       "['245000',\n",
       " '0086',\n",
       " ' ',\n",
       " 'FAILORS ENATAI GARDENS ADD',\n",
       " '17            ',\n",
       " '1      ',\n",
       " '0',\n",
       " '0',\n",
       " '0',\n",
       " '  ',\n",
       " 'X',\n",
       " '0',\n",
       " '0',\n",
       " '',\n",
       " '',\n",
       " 'BELLEVUE',\n",
       " '0330',\n",
       " ' ',\n",
       " '0',\n",
       " '0',\n",
       " '0',\n",
       " '0',\n",
       " '0',\n",
       " '0',\n",
       " '0',\n",
       " '0',\n",
       " '0',\n",
       " '0',\n",
       " '0',\n",
       " '0',\n",
       " 'False',\n",
       " '0',\n",
       " '0',\n",
       " '0',\n",
       " '0',\n",
       " '0',\n",
       " '0',\n",
       " '0',\n",
       " '0',\n",
       " '0',\n",
       " '0',\n",
       " '0',\n",
       " '0',\n",
       " '0',\n",
       " '0',\n",
       " '0',\n",
       " 'N',\n",
       " 'N',\n",
       " '0',\n",
       " '0',\n",
       " '0',\n",
       " '0',\n",
       " 'N',\n",
       " 'N',\n",
       " '0',\n",
       " '0',\n",
       " 'N',\n",
       " 'N',\n",
       " 'N',\n",
       " '0',\n",
       " '0',\n",
       " 'N',\n",
       " 'N',\n",
       " 'N',\n",
       " 'N',\n",
       " 'N',\n",
       " 'N',\n",
       " 'N',\n",
       " 'N',\n",
       " 'N',\n",
       " 'N',\n",
       " 'N',\n",
       " 'N',\n",
       " 'N',\n",
       " 'N',\n",
       " 'N',\n",
       " 'N',\n",
       " 'N',\n",
       " 'N',\n",
       " 'N',\n",
       " 'N']"
      ]
     },
     "execution_count": 29,
     "metadata": {},
     "output_type": "execute_result"
    }
   ],
   "source": [
    "parcel_text_reader.fieldnames"
   ]
  },
  {
   "cell_type": "code",
   "execution_count": 30,
   "metadata": {},
   "outputs": [],
   "source": [
    "# uhh, that's weird.  gonna start over now just in case the file buffer got messed up"
   ]
  },
  {
   "cell_type": "code",
   "execution_count": 31,
   "metadata": {},
   "outputs": [],
   "source": [
    "from io import BytesIO, TextIOWrapper\n",
    "from zipfile import ZipFile\n",
    "import requests\n",
    "from csv import DictReader"
   ]
  },
  {
   "cell_type": "code",
   "execution_count": 32,
   "metadata": {},
   "outputs": [],
   "source": [
    "PARCEL_URL = \"https://aqua.kingcounty.gov/extranet/assessor/Parcel.zip\"\n",
    "parcel_response = requests.get(PARCEL_URL)"
   ]
  },
  {
   "cell_type": "code",
   "execution_count": 33,
   "metadata": {},
   "outputs": [],
   "source": [
    "parcel_file = BytesIO(parcel_response.content)\n",
    "parcel_zipfile = ZipFile(parcel_file)"
   ]
  },
  {
   "cell_type": "code",
   "execution_count": 34,
   "metadata": {},
   "outputs": [],
   "source": [
    "parcel_csv_bytes = parcel_zipfile.open('EXTR_Parcel.csv')"
   ]
  },
  {
   "cell_type": "code",
   "execution_count": 35,
   "metadata": {},
   "outputs": [],
   "source": [
    "parcel_csv_text = TextIOWrapper(parcel_csv_bytes)"
   ]
  },
  {
   "cell_type": "code",
   "execution_count": 36,
   "metadata": {},
   "outputs": [],
   "source": [
    "parcel_reader = DictReader(parcel_csv_text)"
   ]
  },
  {
   "cell_type": "code",
   "execution_count": 37,
   "metadata": {},
   "outputs": [
    {
     "data": {
      "text/plain": [
       "['Major',\n",
       " 'Minor',\n",
       " 'PropName',\n",
       " 'PlatName',\n",
       " 'PlatLot',\n",
       " 'PlatBlock',\n",
       " 'Range',\n",
       " 'Township',\n",
       " 'Section',\n",
       " 'QuarterSection',\n",
       " 'PropType',\n",
       " 'Area',\n",
       " 'SubArea',\n",
       " 'SpecArea',\n",
       " 'SpecSubArea',\n",
       " 'DistrictName',\n",
       " 'LevyCode',\n",
       " 'CurrentZoning',\n",
       " 'HBUAsIfVacant',\n",
       " 'HBUAsImproved',\n",
       " 'PresentUse',\n",
       " 'SqFtLot',\n",
       " 'WaterSystem',\n",
       " 'SewerSystem',\n",
       " 'Access',\n",
       " 'Topography',\n",
       " 'StreetSurface',\n",
       " 'RestrictiveSzShape',\n",
       " 'InadequateParking',\n",
       " 'PcntUnusable',\n",
       " 'Unbuildable',\n",
       " 'MtRainier',\n",
       " 'Olympics',\n",
       " 'Cascades',\n",
       " 'Territorial',\n",
       " 'SeattleSkyline',\n",
       " 'PugetSound',\n",
       " 'LakeWashington',\n",
       " 'LakeSammamish',\n",
       " 'SmallLakeRiverCreek',\n",
       " 'OtherView',\n",
       " 'WfntLocation',\n",
       " 'WfntFootage',\n",
       " 'WfntBank',\n",
       " 'WfntPoorQuality',\n",
       " 'WfntRestrictedAccess',\n",
       " 'WfntAccessRights',\n",
       " 'WfntProximityInfluence',\n",
       " 'TidelandShoreland',\n",
       " 'LotDepthFactor',\n",
       " 'TrafficNoise',\n",
       " 'AirportNoise',\n",
       " 'PowerLines',\n",
       " 'OtherNuisances',\n",
       " 'NbrBldgSites',\n",
       " 'Contamination',\n",
       " 'DNRLease',\n",
       " 'AdjacentGolfFairway',\n",
       " 'AdjacentGreenbelt',\n",
       " 'HistoricSite',\n",
       " 'CurrentUseDesignation',\n",
       " 'NativeGrowthProtEsmt',\n",
       " 'Easements',\n",
       " 'OtherDesignation',\n",
       " 'DeedRestrictions',\n",
       " 'DevelopmentRightsPurch',\n",
       " 'CoalMineHazard',\n",
       " 'CriticalDrainage',\n",
       " 'ErosionHazard',\n",
       " 'LandfillBuffer',\n",
       " 'HundredYrFloodPlain',\n",
       " 'SeismicHazard',\n",
       " 'LandslideHazard',\n",
       " 'SteepSlopeHazard',\n",
       " 'Stream',\n",
       " 'Wetland',\n",
       " 'SpeciesOfConcern',\n",
       " 'SensitiveAreaTract',\n",
       " 'WaterProblems',\n",
       " 'TranspConcurrency',\n",
       " 'OtherProblems']"
      ]
     },
     "execution_count": 37,
     "metadata": {},
     "output_type": "execute_result"
    }
   ],
   "source": [
    "parcel_reader.fieldnames"
   ]
  },
  {
   "cell_type": "code",
   "execution_count": 38,
   "metadata": {},
   "outputs": [],
   "source": [
    "# okay, it was the file buffer!!"
   ]
  },
  {
   "cell_type": "code",
   "execution_count": 39,
   "metadata": {},
   "outputs": [],
   "source": [
    "# seems like a good time to move this into a .py file"
   ]
  },
  {
   "cell_type": "code",
   "execution_count": 40,
   "metadata": {},
   "outputs": [],
   "source": [
    "parcel_csv_bytes.close()"
   ]
  },
  {
   "cell_type": "code",
   "execution_count": 41,
   "metadata": {},
   "outputs": [
    {
     "data": {
      "text/plain": [
       "'excel'"
      ]
     },
     "execution_count": 41,
     "metadata": {},
     "output_type": "execute_result"
    }
   ],
   "source": [
    "parcel_reader.dialect"
   ]
  },
  {
   "cell_type": "code",
   "execution_count": 42,
   "metadata": {},
   "outputs": [
    {
     "ename": "ValueError",
     "evalue": "I/O operation on closed file.",
     "output_type": "error",
     "traceback": [
      "\u001b[0;31m---------------------------------------------------------------------------\u001b[0m",
      "\u001b[0;31mValueError\u001b[0m                                Traceback (most recent call last)",
      "\u001b[0;32m<ipython-input-42-5cef6f487bb7>\u001b[0m in \u001b[0;36m<module>\u001b[0;34m\u001b[0m\n\u001b[1;32m      1\u001b[0m \u001b[0mcounter\u001b[0m \u001b[0;34m=\u001b[0m \u001b[0;36m0\u001b[0m\u001b[0;34m\u001b[0m\u001b[0;34m\u001b[0m\u001b[0m\n\u001b[0;32m----> 2\u001b[0;31m \u001b[0;32mfor\u001b[0m \u001b[0mrow\u001b[0m \u001b[0;32min\u001b[0m \u001b[0mparcel_reader\u001b[0m\u001b[0;34m:\u001b[0m\u001b[0;34m\u001b[0m\u001b[0;34m\u001b[0m\u001b[0m\n\u001b[0m\u001b[1;32m      3\u001b[0m     \u001b[0mprint\u001b[0m\u001b[0;34m(\u001b[0m\u001b[0mrow\u001b[0m\u001b[0;34m[\u001b[0m\u001b[0;34m'Major'\u001b[0m\u001b[0;34m]\u001b[0m\u001b[0;34m,\u001b[0m \u001b[0mrow\u001b[0m\u001b[0;34m[\u001b[0m\u001b[0;34m'Topography'\u001b[0m\u001b[0;34m]\u001b[0m\u001b[0;34m)\u001b[0m\u001b[0;34m\u001b[0m\u001b[0;34m\u001b[0m\u001b[0m\n\u001b[1;32m      4\u001b[0m     \u001b[0mcounter\u001b[0m \u001b[0;34m+=\u001b[0m \u001b[0;36m1\u001b[0m\u001b[0;34m\u001b[0m\u001b[0;34m\u001b[0m\u001b[0m\n\u001b[1;32m      5\u001b[0m     \u001b[0;32mif\u001b[0m \u001b[0mcounter\u001b[0m \u001b[0;34m>\u001b[0m \u001b[0;36m10\u001b[0m\u001b[0;34m:\u001b[0m\u001b[0;34m\u001b[0m\u001b[0;34m\u001b[0m\u001b[0m\n",
      "\u001b[0;32m//anaconda3/envs/mod2-project-env/lib/python3.8/csv.py\u001b[0m in \u001b[0;36m__next__\u001b[0;34m(self)\u001b[0m\n\u001b[1;32m    109\u001b[0m             \u001b[0;31m# Used only for its side effect.\u001b[0m\u001b[0;34m\u001b[0m\u001b[0;34m\u001b[0m\u001b[0;34m\u001b[0m\u001b[0m\n\u001b[1;32m    110\u001b[0m             \u001b[0mself\u001b[0m\u001b[0;34m.\u001b[0m\u001b[0mfieldnames\u001b[0m\u001b[0;34m\u001b[0m\u001b[0;34m\u001b[0m\u001b[0m\n\u001b[0;32m--> 111\u001b[0;31m         \u001b[0mrow\u001b[0m \u001b[0;34m=\u001b[0m \u001b[0mnext\u001b[0m\u001b[0;34m(\u001b[0m\u001b[0mself\u001b[0m\u001b[0;34m.\u001b[0m\u001b[0mreader\u001b[0m\u001b[0;34m)\u001b[0m\u001b[0;34m\u001b[0m\u001b[0;34m\u001b[0m\u001b[0m\n\u001b[0m\u001b[1;32m    112\u001b[0m         \u001b[0mself\u001b[0m\u001b[0;34m.\u001b[0m\u001b[0mline_num\u001b[0m \u001b[0;34m=\u001b[0m \u001b[0mself\u001b[0m\u001b[0;34m.\u001b[0m\u001b[0mreader\u001b[0m\u001b[0;34m.\u001b[0m\u001b[0mline_num\u001b[0m\u001b[0;34m\u001b[0m\u001b[0;34m\u001b[0m\u001b[0m\n\u001b[1;32m    113\u001b[0m \u001b[0;34m\u001b[0m\u001b[0m\n",
      "\u001b[0;31mValueError\u001b[0m: I/O operation on closed file."
     ]
    }
   ],
   "source": [
    "counter = 0\n",
    "for row in parcel_reader:\n",
    "    print(row['Major'], row['Topography'])\n",
    "    counter += 1\n",
    "    if counter > 10:\n",
    "        break"
   ]
  },
  {
   "cell_type": "code",
   "execution_count": 43,
   "metadata": {},
   "outputs": [],
   "source": [
    "sales_response = requests.get(REAL_PROPERTY_SALES_URL)"
   ]
  },
  {
   "cell_type": "code",
   "execution_count": 44,
   "metadata": {},
   "outputs": [],
   "source": [
    "sales_file = BytesIO(sales_response.content)"
   ]
  },
  {
   "cell_type": "code",
   "execution_count": 45,
   "metadata": {},
   "outputs": [],
   "source": [
    "sales_zipfile = ZipFile(sales_file)"
   ]
  },
  {
   "cell_type": "code",
   "execution_count": 46,
   "metadata": {},
   "outputs": [
    {
     "data": {
      "text/plain": [
       "[<ZipInfo filename='EXTR_RPSale.csv' compress_type=deflate external_attr=0x20 file_size=545190382 compress_size=126235452>]"
      ]
     },
     "execution_count": 46,
     "metadata": {},
     "output_type": "execute_result"
    }
   ],
   "source": [
    "sales_zipfile.filelist"
   ]
  },
  {
   "cell_type": "code",
   "execution_count": 47,
   "metadata": {},
   "outputs": [],
   "source": [
    "buildings_response = requests.get(RESIDENTIAL_BUILDING_URL)"
   ]
  },
  {
   "cell_type": "code",
   "execution_count": 48,
   "metadata": {},
   "outputs": [],
   "source": [
    "buildings_file = BytesIO(buildings_response.content)"
   ]
  },
  {
   "cell_type": "code",
   "execution_count": 51,
   "metadata": {},
   "outputs": [],
   "source": [
    "buildings_zipfile = ZipFile(buildings_file)"
   ]
  },
  {
   "cell_type": "code",
   "execution_count": 52,
   "metadata": {},
   "outputs": [
    {
     "data": {
      "text/plain": [
       "[<ZipInfo filename='EXTR_ResBldg.csv' compress_type=deflate external_attr=0x20 file_size=149110806 compress_size=24643484>]"
      ]
     },
     "execution_count": 52,
     "metadata": {},
     "output_type": "execute_result"
    }
   ],
   "source": [
    "buildings_zipfile.filelist"
   ]
  },
  {
   "cell_type": "code",
   "execution_count": 53,
   "metadata": {},
   "outputs": [],
   "source": [
    "# wrapping up\n",
    "from data_collection import collect_parcels_data, collect_sales_data, collect_building_data"
   ]
  },
  {
   "cell_type": "code",
   "execution_count": 54,
   "metadata": {},
   "outputs": [],
   "source": [
    "parcels_zip_file, parcels_csv_file = collect_parcels_data()\n",
    "sales_zip_file, sales_csv_file = collect_sales_data()\n",
    "buildings_zip_file, buildings_csv_file = collect_building_data()"
   ]
  },
  {
   "cell_type": "code",
   "execution_count": 55,
   "metadata": {},
   "outputs": [
    {
     "name": "stdout",
     "output_type": "stream",
     "text": [
      "052307 0\n",
      "245000 0\n",
      "377920 0\n",
      "277160 0\n",
      "766620 0\n",
      "052613 0\n",
      "014800 0\n",
      "291970 0\n",
      "092613 0\n",
      "092406 0\n",
      "142210 0\n",
      "172613 0\n"
     ]
    }
   ],
   "source": [
    "parcels_reader = DictReader(parcels_csv_file)\n",
    "counter = 0\n",
    "for row in parcels_reader:\n",
    "    print(row[\"Major\"], row[\"Topography\"])\n",
    "    if counter > 10:\n",
    "        break\n",
    "    else:\n",
    "        counter += 1"
   ]
  },
  {
   "cell_type": "code",
   "execution_count": 56,
   "metadata": {},
   "outputs": [
    {
     "ename": "KeyError",
     "evalue": "'Sale Price'",
     "output_type": "error",
     "traceback": [
      "\u001b[0;31m---------------------------------------------------------------------------\u001b[0m",
      "\u001b[0;31mKeyError\u001b[0m                                  Traceback (most recent call last)",
      "\u001b[0;32m<ipython-input-56-d893a94e3585>\u001b[0m in \u001b[0;36m<module>\u001b[0;34m\u001b[0m\n\u001b[1;32m      2\u001b[0m \u001b[0mcounter\u001b[0m \u001b[0;34m=\u001b[0m \u001b[0;36m0\u001b[0m\u001b[0;34m\u001b[0m\u001b[0;34m\u001b[0m\u001b[0m\n\u001b[1;32m      3\u001b[0m \u001b[0;32mfor\u001b[0m \u001b[0mrow\u001b[0m \u001b[0;32min\u001b[0m \u001b[0msales_reader\u001b[0m\u001b[0;34m:\u001b[0m\u001b[0;34m\u001b[0m\u001b[0;34m\u001b[0m\u001b[0m\n\u001b[0;32m----> 4\u001b[0;31m     \u001b[0mprint\u001b[0m\u001b[0;34m(\u001b[0m\u001b[0mrow\u001b[0m\u001b[0;34m[\u001b[0m\u001b[0;34m\"Major\"\u001b[0m\u001b[0;34m]\u001b[0m\u001b[0;34m,\u001b[0m \u001b[0mrow\u001b[0m\u001b[0;34m[\u001b[0m\u001b[0;34m\"Sale Price\"\u001b[0m\u001b[0;34m]\u001b[0m\u001b[0;34m)\u001b[0m\u001b[0;34m\u001b[0m\u001b[0;34m\u001b[0m\u001b[0m\n\u001b[0m\u001b[1;32m      5\u001b[0m     \u001b[0;32mif\u001b[0m \u001b[0mcounter\u001b[0m \u001b[0;34m>\u001b[0m \u001b[0;36m10\u001b[0m\u001b[0;34m:\u001b[0m\u001b[0;34m\u001b[0m\u001b[0;34m\u001b[0m\u001b[0m\n\u001b[1;32m      6\u001b[0m         \u001b[0;32mbreak\u001b[0m\u001b[0;34m\u001b[0m\u001b[0;34m\u001b[0m\u001b[0m\n",
      "\u001b[0;31mKeyError\u001b[0m: 'Sale Price'"
     ]
    }
   ],
   "source": [
    "sales_reader = DictReader(sales_csv_file)\n",
    "counter = 0\n",
    "for row in sales_reader:\n",
    "    print(row[\"Major\"], row[\"Sale Price\"])\n",
    "    if counter > 10:\n",
    "        break\n",
    "    else:\n",
    "        counter += 1"
   ]
  },
  {
   "cell_type": "code",
   "execution_count": 57,
   "metadata": {},
   "outputs": [
    {
     "data": {
      "text/plain": [
       "['ExciseTaxNbr',\n",
       " 'Major',\n",
       " 'Minor',\n",
       " 'DocumentDate',\n",
       " 'SalePrice',\n",
       " 'RecordingNbr',\n",
       " 'Volume',\n",
       " 'Page',\n",
       " 'PlatNbr',\n",
       " 'PlatType',\n",
       " 'PlatLot',\n",
       " 'PlatBlock',\n",
       " 'SellerName',\n",
       " 'BuyerName',\n",
       " 'PropertyType',\n",
       " 'PrincipalUse',\n",
       " 'SaleInstrument',\n",
       " 'AFForestLand',\n",
       " 'AFCurrentUseLand',\n",
       " 'AFNonProfitUse',\n",
       " 'AFHistoricProperty',\n",
       " 'SaleReason',\n",
       " 'PropertyClass',\n",
       " 'SaleWarning']"
      ]
     },
     "execution_count": 57,
     "metadata": {},
     "output_type": "execute_result"
    }
   ],
   "source": [
    "sales_reader.fieldnames"
   ]
  },
  {
   "cell_type": "code",
   "execution_count": 58,
   "metadata": {},
   "outputs": [
    {
     "ename": "KeyError",
     "evalue": "'Major'",
     "output_type": "error",
     "traceback": [
      "\u001b[0;31m---------------------------------------------------------------------------\u001b[0m",
      "\u001b[0;31mKeyError\u001b[0m                                  Traceback (most recent call last)",
      "\u001b[0;32m<ipython-input-58-059587460b62>\u001b[0m in \u001b[0;36m<module>\u001b[0;34m\u001b[0m\n\u001b[1;32m      2\u001b[0m \u001b[0mcounter\u001b[0m \u001b[0;34m=\u001b[0m \u001b[0;36m0\u001b[0m\u001b[0;34m\u001b[0m\u001b[0;34m\u001b[0m\u001b[0m\n\u001b[1;32m      3\u001b[0m \u001b[0;32mfor\u001b[0m \u001b[0mrow\u001b[0m \u001b[0;32min\u001b[0m \u001b[0msales_reader\u001b[0m\u001b[0;34m:\u001b[0m\u001b[0;34m\u001b[0m\u001b[0;34m\u001b[0m\u001b[0m\n\u001b[0;32m----> 4\u001b[0;31m     \u001b[0mprint\u001b[0m\u001b[0;34m(\u001b[0m\u001b[0mrow\u001b[0m\u001b[0;34m[\u001b[0m\u001b[0;34m\"Major\"\u001b[0m\u001b[0;34m]\u001b[0m\u001b[0;34m,\u001b[0m \u001b[0mrow\u001b[0m\u001b[0;34m[\u001b[0m\u001b[0;34m\"SalePrice\"\u001b[0m\u001b[0;34m]\u001b[0m\u001b[0;34m)\u001b[0m\u001b[0;34m\u001b[0m\u001b[0;34m\u001b[0m\u001b[0m\n\u001b[0m\u001b[1;32m      5\u001b[0m     \u001b[0;32mif\u001b[0m \u001b[0mcounter\u001b[0m \u001b[0;34m>\u001b[0m \u001b[0;36m10\u001b[0m\u001b[0;34m:\u001b[0m\u001b[0;34m\u001b[0m\u001b[0;34m\u001b[0m\u001b[0m\n\u001b[1;32m      6\u001b[0m         \u001b[0;32mbreak\u001b[0m\u001b[0;34m\u001b[0m\u001b[0;34m\u001b[0m\u001b[0m\n",
      "\u001b[0;31mKeyError\u001b[0m: 'Major'"
     ]
    }
   ],
   "source": [
    "sales_reader = DictReader(sales_csv_file)\n",
    "counter = 0\n",
    "for row in sales_reader:\n",
    "    print(row[\"Major\"], row[\"SalePrice\"])\n",
    "    if counter > 10:\n",
    "        break\n",
    "    else:\n",
    "        counter += 1"
   ]
  },
  {
   "cell_type": "code",
   "execution_count": 59,
   "metadata": {},
   "outputs": [],
   "source": [
    "sales_zip_file, sales_csv_file = collect_sales_data()"
   ]
  },
  {
   "cell_type": "code",
   "execution_count": 60,
   "metadata": {},
   "outputs": [
    {
     "name": "stdout",
     "output_type": "stream",
     "text": [
      "330405 215000\n",
      "868146 0\n",
      "258190 0\n",
      "919715 192000\n",
      "334330 0\n",
      "663990 690576\n",
      "032103 2340000\n",
      "032103 2340000\n",
      "032103 2340000\n",
      "032103 2340000\n",
      "032103 2340000\n",
      "032103 2340000\n"
     ]
    }
   ],
   "source": [
    "sales_reader = DictReader(sales_csv_file)\n",
    "counter = 0\n",
    "for row in sales_reader:\n",
    "    print(row[\"Major\"], row[\"SalePrice\"])\n",
    "    if counter > 10:\n",
    "        break\n",
    "    else:\n",
    "        counter += 1"
   ]
  },
  {
   "cell_type": "code",
   "execution_count": 61,
   "metadata": {},
   "outputs": [],
   "source": [
    "buildings_reader = DictReader(buildings_csv_file)"
   ]
  },
  {
   "cell_type": "code",
   "execution_count": 62,
   "metadata": {},
   "outputs": [
    {
     "data": {
      "text/plain": [
       "['Major',\n",
       " 'Minor',\n",
       " 'BldgNbr',\n",
       " 'NbrLivingUnits',\n",
       " 'Address',\n",
       " 'BuildingNumber',\n",
       " 'Fraction',\n",
       " 'DirectionPrefix',\n",
       " 'StreetName',\n",
       " 'StreetType',\n",
       " 'DirectionSuffix',\n",
       " 'ZipCode',\n",
       " 'Stories',\n",
       " 'BldgGrade',\n",
       " 'BldgGradeVar',\n",
       " 'SqFt1stFloor',\n",
       " 'SqFtHalfFloor',\n",
       " 'SqFt2ndFloor',\n",
       " 'SqFtUpperFloor',\n",
       " 'SqFtUnfinFull',\n",
       " 'SqFtUnfinHalf',\n",
       " 'SqFtTotLiving',\n",
       " 'SqFtTotBasement',\n",
       " 'SqFtFinBasement',\n",
       " 'FinBasementGrade',\n",
       " 'SqFtGarageBasement',\n",
       " 'SqFtGarageAttached',\n",
       " 'DaylightBasement',\n",
       " 'SqFtOpenPorch',\n",
       " 'SqFtEnclosedPorch',\n",
       " 'SqFtDeck',\n",
       " 'HeatSystem',\n",
       " 'HeatSource',\n",
       " 'BrickStone',\n",
       " 'ViewUtilization',\n",
       " 'Bedrooms',\n",
       " 'BathHalfCount',\n",
       " 'Bath3qtrCount',\n",
       " 'BathFullCount',\n",
       " 'FpSingleStory',\n",
       " 'FpMultiStory',\n",
       " 'FpFreestanding',\n",
       " 'FpAdditional',\n",
       " 'YrBuilt',\n",
       " 'YrRenovated',\n",
       " 'PcntComplete',\n",
       " 'Obsolescence',\n",
       " 'PcntNetCondition',\n",
       " 'Condition',\n",
       " 'AddnlCost']"
      ]
     },
     "execution_count": 62,
     "metadata": {},
     "output_type": "execute_result"
    }
   ],
   "source": [
    "buildings_reader.fieldnames"
   ]
  },
  {
   "cell_type": "code",
   "execution_count": 63,
   "metadata": {},
   "outputs": [
    {
     "name": "stdout",
     "output_type": "stream",
     "text": [
      "012000 98033\n",
      "012000 98033\n",
      "012000 98033\n",
      "012005 98092\n",
      "012006 98022\n",
      "012006 98022\n",
      "012006 98022\n",
      "012006 98022\n",
      "012100 98075\n",
      "012102 98070\n",
      "012103 98023\n",
      "012103 98023\n"
     ]
    }
   ],
   "source": [
    "counter = 0\n",
    "for row in buildings_reader:\n",
    "    print(row[\"Major\"], row[\"ZipCode\"])\n",
    "    if counter > 10:\n",
    "        break\n",
    "    else:\n",
    "        counter += 1"
   ]
  },
  {
   "cell_type": "code",
   "execution_count": null,
   "metadata": {},
   "outputs": [],
   "source": []
  }
 ],
 "metadata": {
  "kernelspec": {
   "display_name": "Python 3",
   "language": "python",
   "name": "python3"
  },
  "language_info": {
   "codemirror_mode": {
    "name": "ipython",
    "version": 3
   },
   "file_extension": ".py",
   "mimetype": "text/x-python",
   "name": "python",
   "nbconvert_exporter": "python",
   "pygments_lexer": "ipython3",
   "version": "3.8.0"
  }
 },
 "nbformat": 4,
 "nbformat_minor": 4
}
