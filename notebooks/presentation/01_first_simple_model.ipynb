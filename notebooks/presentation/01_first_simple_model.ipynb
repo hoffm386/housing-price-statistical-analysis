{
 "cells": [
  {
   "cell_type": "markdown",
   "metadata": {},
   "source": [
    "# First Simple Model\n",
    "\n",
    "This notebooks documents the CRISP-DM steps taken so far, for the first simple linear regression model of King County housing prices in 2018"
   ]
  },
  {
   "cell_type": "code",
   "execution_count": 1,
   "metadata": {},
   "outputs": [],
   "source": [
    "from src.data import data_collection, sql_utils\n",
    "from src.modeling import modeling\n",
    "\n",
    "import psycopg2"
   ]
  },
  {
   "cell_type": "markdown",
   "metadata": {},
   "source": [
    "## Business Understanding\n",
    "\n",
    "To a certain extent, this is an artificial setup, so the business understanding is somewhat secondary to the data understanding.  Based on initial data understanding, this project emphasizes which factors could \"improve\" (increase) a home's sale price, with a target audience of people who are looking to build or renovate a home with the highest possible value.\n",
    "\n",
    "To be able to build a model that will provide those recommendations, first we need a valid linear regression model that does not violate any assumptions.  Of the original claims, these seem most viable to address while also making a valid model:\n",
    "\n",
    "1. Higher square footage increases home sale price\n",
    "3. Having a beachfront or lakefront increases home sale price\n",
    "\n",
    "Then the next steps will be figuring out which third claim to address, as well as any additional relevant questions."
   ]
  },
  {
   "cell_type": "markdown",
   "metadata": {},
   "source": [
    "## Data Understanding\n",
    "\n",
    "The [data](https://info.kingcounty.gov/assessor/DataDownload/default.aspx) used for this project comes from King County, Washington.  I used Python and SQL scripts to download this data and convert each of the following CSV files into SQL tables within a database called `housing_data`:\n",
    "\n",
    "| King County Zip File Name | PostgreSQL Table Name |\n",
    "| ------------------------- | --------------------- |\n",
    "| Real Property Sales       | sales                 |\n",
    "| Residential Building      | buildings             |\n",
    "| Parcel                    | parcels               |"
   ]
  },
  {
   "cell_type": "markdown",
   "metadata": {},
   "source": [
    "<table>\n",
    "    <tr>\n",
    "        <th>Sales Table</th>\n",
    "        <th>Buildings Table</th>\n",
    "        <th>Parcels Table</th>\n",
    "    </tr>\n",
    "    <tr>\n",
    "<td>\n",
    "            \n",
    "|       Column       |     Type      |\n",
    "| ------------------ | ------------- |\n",
    "| excisetaxnbr       | integer       |\n",
    "| major              | character(6)  |\n",
    "| minor              | character(4)  |\n",
    "| documentdate       | date          |\n",
    "| saleprice          | integer       |\n",
    "| recordingnbr       | character(14) |\n",
    "| volume             | character(3)  |\n",
    "| page               | character(3)  |\n",
    "| platnbr            | character(6)  |\n",
    "| plattype           | character(1)  |\n",
    "| platlot            | character(14) |\n",
    "| platblock          | character(7)  |\n",
    "| sellername         | text          |\n",
    "| buyername          | text          |\n",
    "| propertytype       | integer       |\n",
    "| principaluse       | integer       |\n",
    "| saleinstrument     | integer       |\n",
    "| afforestland       | character(1)  |\n",
    "| afcurrentuseland   | character(1)  |\n",
    "| afnonprofituse     | character(1)  |\n",
    "| afhistoricproperty | character(1)  |\n",
    "| salereason         | integer       |\n",
    "| propertyclass      | integer       |\n",
    "| salewarning        | text          |\n",
    "\n",
    "</td>\n",
    "<td>\n",
    "\n",
    "|       Column       |     Type      |\n",
    "| ------------------ | ------------- |\n",
    "| major              | character(6)  |\n",
    "| minor              | character(4)  |\n",
    "| bldgnbr            | integer       |\n",
    "| nbrlivingunits     | integer       |\n",
    "| address            | text          |\n",
    "| buildingnumber     | character(5)  |\n",
    "| fraction           | character(3)  |\n",
    "| directionprefix    | character(2)  |\n",
    "| streetname         | character(25) |\n",
    "| streettype         | character(6)  |\n",
    "| directionsuffix    | character(2)  |\n",
    "| zipcode            | character(10) |\n",
    "| stories            | real          |\n",
    "| bldggrade          | integer       |\n",
    "| bldggradevar       | integer       |\n",
    "| sqft1stfloor       | integer       |\n",
    "| sqfthalffloor      | integer       |\n",
    "| sqft2ndfloor       | integer       |\n",
    "| sqftupperfloor     | integer       |\n",
    "| sqftunfinfull      | integer       |\n",
    "| sqftunfinhalf      | integer       |\n",
    "| sqfttotliving      | integer       |\n",
    "| sqfttotbasement    | integer       |\n",
    "| sqftfinbasement    | integer       |\n",
    "| finbasementgrade   | integer       |\n",
    "| sqftgaragebasement | integer       |\n",
    "| sqftgarageattached | integer       |\n",
    "| daylightbasement   | character(1)  |\n",
    "| sqftopenporch      | integer       |\n",
    "| sqftenclosedporch  | integer       |\n",
    "| sqftdeck           | integer       |\n",
    "| heatsystem         | integer       |\n",
    "| heatsource         | integer       |\n",
    "| brickstone         | integer       |\n",
    "| viewutilization    | character(1)  |\n",
    "| bedrooms           | integer       |\n",
    "| bathhalfcount      | integer       |\n",
    "| bath3qtrcount      | integer       |\n",
    "| bathfullcount      | integer       |\n",
    "| fpsinglestory      | integer       |\n",
    "| fpmultistory       | integer       |\n",
    "| fpfreestanding     | integer       |\n",
    "| fpadditional       | integer       |\n",
    "| yrbuilt            | integer       |\n",
    "| yrrenovated        | integer       |\n",
    "| pcntcomplete       | integer       |\n",
    "| obsolescence       | integer       |\n",
    "| pcntnetcondition   | integer       |\n",
    "| condition          | integer       |\n",
    "| addnlcost          | integer       |\n",
    "\n",
    "</td>\n",
    "<td>\n",
    "\n",
    "|         Column         |     Type      |\n",
    "| ---------------------- | ------------- |\n",
    "| major                  | character(6)  |\n",
    "| minor                  | character(4)  |\n",
    "| propname               | character(80) |\n",
    "| platname               | character(50) |\n",
    "| platlot                | character(14) |\n",
    "| platblock              | character(7)  |\n",
    "| range                  | integer       |\n",
    "| township               | integer       |\n",
    "| section                | integer       |\n",
    "| quartersection         | character(2)  |\n",
    "| proptype               | character(1)  |\n",
    "| area                   | character(3)  |\n",
    "| subarea                | character(3)  |\n",
    "| specarea               | character(3)  |\n",
    "| specsubarea            | character(3)  |\n",
    "| districtname           | character(80) |\n",
    "| levycode               | character(4)  |\n",
    "| currentzoning          | character(50) |\n",
    "| hbuasifvacant          | integer       |\n",
    "| hbuasimproved          | integer       |\n",
    "| presentuse             | integer       |\n",
    "| sqftlot                | integer       |\n",
    "| watersystem            | integer       |\n",
    "| sewersystem            | integer       |\n",
    "| access                 | integer       |\n",
    "| topography             | integer       |\n",
    "| streetsurface          | integer       |\n",
    "| restrictiveszshape     | integer       |\n",
    "| inadequateparking      | integer       |\n",
    "| pcntunusable           | integer       |\n",
    "| unbuildable            | character(5)  |\n",
    "| mtrainier              | integer       |\n",
    "| olympics               | integer       |\n",
    "| cascades               | integer       |\n",
    "| territorial            | integer       |\n",
    "| seattleskyline         | integer       |\n",
    "| pugetsound             | integer       |\n",
    "| lakewashington         | integer       |\n",
    "| lakesammamish          | integer       |\n",
    "| smalllakerivercreek    | integer       |\n",
    "| otherview              | integer       |\n",
    "| wfntlocation           | integer       |\n",
    "| wfntfootage            | integer       |\n",
    "| wfntbank               | integer       |\n",
    "| wfntpoorquality        | integer       |\n",
    "| wfntrestrictedaccess   | integer       |\n",
    "| wfntaccessrights       | character(1)  |\n",
    "| wfntproximityinfluence | character(1)  |\n",
    "| tidelandshoreland      | integer       |\n",
    "| lotdepthfactor         | integer       |\n",
    "| trafficnoise           | integer       |\n",
    "| airportnoise           | integer       |\n",
    "| powerlines             | character(1)  |\n",
    "| othernuisances         | character(1)  |\n",
    "| nbrbldgsites           | integer       |\n",
    "| contamination          | integer       |\n",
    "| dnrlease               | character(1)  |\n",
    "| adjacentgolffairway    | character(1)  |\n",
    "| adjacentgreenbelt      | character(1)  |\n",
    "| historicsite           | integer       |\n",
    "| currentusedesignation  | integer       |\n",
    "| nativegrowthprotesmt   | character(1)  |\n",
    "| easements              | character(1)  |\n",
    "| otherdesignation       | character(1)  |\n",
    "| deedrestrictions       | character(1)  |\n",
    "| developmentrightspurch | character(1)  |\n",
    "| coalminehazard         | character(1)  |\n",
    "| criticaldrainage       | character(1)  |\n",
    "| erosionhazard          | character(1)  |\n",
    "| landfillbuffer         | character(1)  |\n",
    "| hundredyrfloodplain    | character(1)  |\n",
    "| seismichazard          | character(1)  |\n",
    "| landslidehazard        | character(1)  |\n",
    "| steepslopehazard       | character(1)  |\n",
    "| stream                 | character(1)  |\n",
    "| wetland                | character(1)  |\n",
    "| speciesofconcern       | character(1)  |\n",
    "| sensitiveareatract     | character(1)  |\n",
    "| waterproblems          | character(1)  |\n",
    "| transpconcurrency      | character(1)  |\n",
    "| otherproblems          | character(1)  |\n",
    "\n",
    "</td>\n",
    "    </tr>\n",
    "</table>"
   ]
  },
  {
   "cell_type": "markdown",
   "metadata": {},
   "source": [
    "To download all data and load it into PostgreSQL, run:"
   ]
  },
  {
   "cell_type": "code",
   "execution_count": 2,
   "metadata": {},
   "outputs": [],
   "source": [
    "data_collection.download_data_and_load_into_sql()"
   ]
  },
  {
   "cell_type": "markdown",
   "metadata": {},
   "source": [
    "The raw count of home sales is:"
   ]
  },
  {
   "cell_type": "code",
   "execution_count": 3,
   "metadata": {},
   "outputs": [],
   "source": [
    "conn = psycopg2.connect(dbname=\"housing_data\")"
   ]
  },
  {
   "cell_type": "code",
   "execution_count": 4,
   "metadata": {},
   "outputs": [
    {
     "data": {
      "text/html": [
       "<div>\n",
       "<style scoped>\n",
       "    .dataframe tbody tr th:only-of-type {\n",
       "        vertical-align: middle;\n",
       "    }\n",
       "\n",
       "    .dataframe tbody tr th {\n",
       "        vertical-align: top;\n",
       "    }\n",
       "\n",
       "    .dataframe thead th {\n",
       "        text-align: right;\n",
       "    }\n",
       "</style>\n",
       "<table border=\"1\" class=\"dataframe\">\n",
       "  <thead>\n",
       "    <tr style=\"text-align: right;\">\n",
       "      <th></th>\n",
       "      <th>count</th>\n",
       "    </tr>\n",
       "  </thead>\n",
       "  <tbody>\n",
       "    <tr>\n",
       "      <th>0</th>\n",
       "      <td>61053</td>\n",
       "    </tr>\n",
       "  </tbody>\n",
       "</table>\n",
       "</div>"
      ],
      "text/plain": [
       "   count\n",
       "0  61053"
      ]
     },
     "execution_count": 4,
     "metadata": {},
     "output_type": "execute_result"
    }
   ],
   "source": [
    "sql_utils.return_result_of_sql_script(conn, \"10_sales_in_2018.sql\")"
   ]
  },
  {
   "cell_type": "markdown",
   "metadata": {},
   "source": [
    "If all home sales with a price of 0 are removed, the count becomes:"
   ]
  },
  {
   "cell_type": "code",
   "execution_count": 5,
   "metadata": {},
   "outputs": [
    {
     "data": {
      "text/html": [
       "<div>\n",
       "<style scoped>\n",
       "    .dataframe tbody tr th:only-of-type {\n",
       "        vertical-align: middle;\n",
       "    }\n",
       "\n",
       "    .dataframe tbody tr th {\n",
       "        vertical-align: top;\n",
       "    }\n",
       "\n",
       "    .dataframe thead th {\n",
       "        text-align: right;\n",
       "    }\n",
       "</style>\n",
       "<table border=\"1\" class=\"dataframe\">\n",
       "  <thead>\n",
       "    <tr style=\"text-align: right;\">\n",
       "      <th></th>\n",
       "      <th>count</th>\n",
       "    </tr>\n",
       "  </thead>\n",
       "  <tbody>\n",
       "    <tr>\n",
       "      <th>0</th>\n",
       "      <td>42524</td>\n",
       "    </tr>\n",
       "  </tbody>\n",
       "</table>\n",
       "</div>"
      ],
      "text/plain": [
       "   count\n",
       "0  42524"
      ]
     },
     "execution_count": 5,
     "metadata": {},
     "output_type": "execute_result"
    }
   ],
   "source": [
    "sql_utils.return_result_of_sql_script(conn, \"11_sales_price_above_zero.sql\")"
   ]
  },
  {
   "cell_type": "markdown",
   "metadata": {},
   "source": [
    "Finally, ensuring that the city also has building and parcel data for each of the sales, the final count is:"
   ]
  },
  {
   "cell_type": "code",
   "execution_count": 6,
   "metadata": {},
   "outputs": [
    {
     "data": {
      "text/html": [
       "<div>\n",
       "<style scoped>\n",
       "    .dataframe tbody tr th:only-of-type {\n",
       "        vertical-align: middle;\n",
       "    }\n",
       "\n",
       "    .dataframe tbody tr th {\n",
       "        vertical-align: top;\n",
       "    }\n",
       "\n",
       "    .dataframe thead th {\n",
       "        text-align: right;\n",
       "    }\n",
       "</style>\n",
       "<table border=\"1\" class=\"dataframe\">\n",
       "  <thead>\n",
       "    <tr style=\"text-align: right;\">\n",
       "      <th></th>\n",
       "      <th>count</th>\n",
       "    </tr>\n",
       "  </thead>\n",
       "  <tbody>\n",
       "    <tr>\n",
       "      <th>0</th>\n",
       "      <td>30272</td>\n",
       "    </tr>\n",
       "  </tbody>\n",
       "</table>\n",
       "</div>"
      ],
      "text/plain": [
       "   count\n",
       "0  30272"
      ]
     },
     "execution_count": 6,
     "metadata": {},
     "output_type": "execute_result"
    }
   ],
   "source": [
    "sql_utils.return_result_of_sql_script(conn, \"12_sales_with_building_and_parcel.sql\")"
   ]
  },
  {
   "cell_type": "markdown",
   "metadata": {},
   "source": [
    "It appears that about half of the data from 2018 is invalid in some way.  A potential future task would be determining whether any of that data is recoverable, or whether there are systematic ways that data is missing, but for now let's assume that these 30,272 home sales are the best data we're going to get."
   ]
  },
  {
   "cell_type": "code",
   "execution_count": 7,
   "metadata": {},
   "outputs": [],
   "source": [
    "conn.close()"
   ]
  },
  {
   "cell_type": "markdown",
   "metadata": {},
   "source": [
    "## Data Preparation\n",
    "\n",
    "No steps were taken to clean the data before inserting it into PostgreSQL, so data preparation must come in the form of SQL queries, followed by Pandas DataFrame manipulation"
   ]
  },
  {
   "cell_type": "markdown",
   "metadata": {},
   "source": [
    "The following function creates a DataFrame representing the sales data with only five columns (to be expanded upon later):"
   ]
  },
  {
   "cell_type": "code",
   "execution_count": 8,
   "metadata": {},
   "outputs": [
    {
     "data": {
      "text/html": [
       "<div>\n",
       "<style scoped>\n",
       "    .dataframe tbody tr th:only-of-type {\n",
       "        vertical-align: middle;\n",
       "    }\n",
       "\n",
       "    .dataframe tbody tr th {\n",
       "        vertical-align: top;\n",
       "    }\n",
       "\n",
       "    .dataframe thead th {\n",
       "        text-align: right;\n",
       "    }\n",
       "</style>\n",
       "<table border=\"1\" class=\"dataframe\">\n",
       "  <thead>\n",
       "    <tr style=\"text-align: right;\">\n",
       "      <th></th>\n",
       "      <th>pin</th>\n",
       "      <th>saleprice</th>\n",
       "      <th>documentdate</th>\n",
       "      <th>wfntlocation</th>\n",
       "      <th>sqfttotliving</th>\n",
       "    </tr>\n",
       "  </thead>\n",
       "  <tbody>\n",
       "    <tr>\n",
       "      <th>0</th>\n",
       "      <td>2287300010</td>\n",
       "      <td>298633</td>\n",
       "      <td>2018-01-01</td>\n",
       "      <td>False</td>\n",
       "      <td>1810</td>\n",
       "    </tr>\n",
       "    <tr>\n",
       "      <th>1</th>\n",
       "      <td>8732160190</td>\n",
       "      <td>355000</td>\n",
       "      <td>2018-01-01</td>\n",
       "      <td>False</td>\n",
       "      <td>1580</td>\n",
       "    </tr>\n",
       "    <tr>\n",
       "      <th>2</th>\n",
       "      <td>8695200067</td>\n",
       "      <td>275000</td>\n",
       "      <td>2018-01-01</td>\n",
       "      <td>False</td>\n",
       "      <td>1250</td>\n",
       "    </tr>\n",
       "    <tr>\n",
       "      <th>3</th>\n",
       "      <td>8005100850</td>\n",
       "      <td>177000</td>\n",
       "      <td>2018-01-02</td>\n",
       "      <td>False</td>\n",
       "      <td>800</td>\n",
       "    </tr>\n",
       "    <tr>\n",
       "      <th>4</th>\n",
       "      <td>0255370370</td>\n",
       "      <td>453999</td>\n",
       "      <td>2018-01-02</td>\n",
       "      <td>False</td>\n",
       "      <td>2580</td>\n",
       "    </tr>\n",
       "    <tr>\n",
       "      <th>...</th>\n",
       "      <td>...</td>\n",
       "      <td>...</td>\n",
       "      <td>...</td>\n",
       "      <td>...</td>\n",
       "      <td>...</td>\n",
       "    </tr>\n",
       "    <tr>\n",
       "      <th>30267</th>\n",
       "      <td>8946720180</td>\n",
       "      <td>385000</td>\n",
       "      <td>2018-12-31</td>\n",
       "      <td>False</td>\n",
       "      <td>2130</td>\n",
       "    </tr>\n",
       "    <tr>\n",
       "      <th>30268</th>\n",
       "      <td>2126079096</td>\n",
       "      <td>549950</td>\n",
       "      <td>2018-12-31</td>\n",
       "      <td>False</td>\n",
       "      <td>2110</td>\n",
       "    </tr>\n",
       "    <tr>\n",
       "      <th>30269</th>\n",
       "      <td>8946760070</td>\n",
       "      <td>949995</td>\n",
       "      <td>2018-12-31</td>\n",
       "      <td>False</td>\n",
       "      <td>3310</td>\n",
       "    </tr>\n",
       "    <tr>\n",
       "      <th>30270</th>\n",
       "      <td>0626059283</td>\n",
       "      <td>490000</td>\n",
       "      <td>2018-12-31</td>\n",
       "      <td>False</td>\n",
       "      <td>1910</td>\n",
       "    </tr>\n",
       "    <tr>\n",
       "      <th>30271</th>\n",
       "      <td>2408800410</td>\n",
       "      <td>525000</td>\n",
       "      <td>2018-12-31</td>\n",
       "      <td>False</td>\n",
       "      <td>2150</td>\n",
       "    </tr>\n",
       "  </tbody>\n",
       "</table>\n",
       "<p>30272 rows × 5 columns</p>\n",
       "</div>"
      ],
      "text/plain": [
       "              pin  saleprice documentdate  wfntlocation  sqfttotliving\n",
       "0      2287300010     298633   2018-01-01         False           1810\n",
       "1      8732160190     355000   2018-01-01         False           1580\n",
       "2      8695200067     275000   2018-01-01         False           1250\n",
       "3      8005100850     177000   2018-01-02         False            800\n",
       "4      0255370370     453999   2018-01-02         False           2580\n",
       "...           ...        ...          ...           ...            ...\n",
       "30267  8946720180     385000   2018-12-31         False           2130\n",
       "30268  2126079096     549950   2018-12-31         False           2110\n",
       "30269  8946760070     949995   2018-12-31         False           3310\n",
       "30270  0626059283     490000   2018-12-31         False           1910\n",
       "30271  2408800410     525000   2018-12-31         False           2150\n",
       "\n",
       "[30272 rows x 5 columns]"
      ]
     },
     "execution_count": 8,
     "metadata": {},
     "output_type": "execute_result"
    }
   ],
   "source": [
    "sales_df = sql_utils.create_sales_df()\n",
    "sales_df"
   ]
  },
  {
   "cell_type": "markdown",
   "metadata": {},
   "source": [
    "Three of these columns represent data for modeling (`saleprice`, `wfntlocation`, `sqfttotliving`), and `pin` and `documentdate` are just descriptive labels for now"
   ]
  },
  {
   "cell_type": "code",
   "execution_count": 9,
   "metadata": {},
   "outputs": [
    {
     "name": "stdout",
     "output_type": "stream",
     "text": [
      "<class 'pandas.core.frame.DataFrame'>\n",
      "RangeIndex: 30272 entries, 0 to 30271\n",
      "Data columns (total 5 columns):\n",
      "pin              30272 non-null object\n",
      "saleprice        30272 non-null int64\n",
      "documentdate     30272 non-null object\n",
      "wfntlocation     30272 non-null bool\n",
      "sqfttotliving    30272 non-null int64\n",
      "dtypes: bool(1), int64(2), object(2)\n",
      "memory usage: 975.7+ KB\n"
     ]
    }
   ],
   "source": [
    "sales_df.info()"
   ]
  },
  {
   "cell_type": "code",
   "execution_count": 10,
   "metadata": {},
   "outputs": [
    {
     "data": {
      "text/html": [
       "<div>\n",
       "<style scoped>\n",
       "    .dataframe tbody tr th:only-of-type {\n",
       "        vertical-align: middle;\n",
       "    }\n",
       "\n",
       "    .dataframe tbody tr th {\n",
       "        vertical-align: top;\n",
       "    }\n",
       "\n",
       "    .dataframe thead th {\n",
       "        text-align: right;\n",
       "    }\n",
       "</style>\n",
       "<table border=\"1\" class=\"dataframe\">\n",
       "  <thead>\n",
       "    <tr style=\"text-align: right;\">\n",
       "      <th></th>\n",
       "      <th>saleprice</th>\n",
       "      <th>sqfttotliving</th>\n",
       "    </tr>\n",
       "  </thead>\n",
       "  <tbody>\n",
       "    <tr>\n",
       "      <th>count</th>\n",
       "      <td>3.027200e+04</td>\n",
       "      <td>30272.000000</td>\n",
       "    </tr>\n",
       "    <tr>\n",
       "      <th>mean</th>\n",
       "      <td>8.241142e+05</td>\n",
       "      <td>2176.689383</td>\n",
       "    </tr>\n",
       "    <tr>\n",
       "      <th>std</th>\n",
       "      <td>7.799482e+05</td>\n",
       "      <td>1007.660493</td>\n",
       "    </tr>\n",
       "    <tr>\n",
       "      <th>min</th>\n",
       "      <td>1.000000e+00</td>\n",
       "      <td>3.000000</td>\n",
       "    </tr>\n",
       "    <tr>\n",
       "      <th>25%</th>\n",
       "      <td>4.408750e+05</td>\n",
       "      <td>1450.000000</td>\n",
       "    </tr>\n",
       "    <tr>\n",
       "      <th>50%</th>\n",
       "      <td>6.600000e+05</td>\n",
       "      <td>1980.000000</td>\n",
       "    </tr>\n",
       "    <tr>\n",
       "      <th>75%</th>\n",
       "      <td>9.361250e+05</td>\n",
       "      <td>2720.000000</td>\n",
       "    </tr>\n",
       "    <tr>\n",
       "      <th>max</th>\n",
       "      <td>2.675000e+07</td>\n",
       "      <td>14980.000000</td>\n",
       "    </tr>\n",
       "  </tbody>\n",
       "</table>\n",
       "</div>"
      ],
      "text/plain": [
       "          saleprice  sqfttotliving\n",
       "count  3.027200e+04   30272.000000\n",
       "mean   8.241142e+05    2176.689383\n",
       "std    7.799482e+05    1007.660493\n",
       "min    1.000000e+00       3.000000\n",
       "25%    4.408750e+05    1450.000000\n",
       "50%    6.600000e+05    1980.000000\n",
       "75%    9.361250e+05    2720.000000\n",
       "max    2.675000e+07   14980.000000"
      ]
     },
     "execution_count": 10,
     "metadata": {},
     "output_type": "execute_result"
    }
   ],
   "source": [
    "sales_df.describe()"
   ]
  },
  {
   "cell_type": "code",
   "execution_count": 11,
   "metadata": {},
   "outputs": [
    {
     "data": {
      "text/plain": [
       "False    29727\n",
       "True       545\n",
       "Name: wfntlocation, dtype: int64"
      ]
     },
     "execution_count": 11,
     "metadata": {},
     "output_type": "execute_result"
    }
   ],
   "source": [
    "sales_df[\"wfntlocation\"].value_counts()"
   ]
  },
  {
   "cell_type": "markdown",
   "metadata": {},
   "source": [
    "Code within the `modeling` module extracts the relevant features, and converts them from human-readable (e.g. True or False) into the numeric data types required for linear regression (e.g. 1 or 0)"
   ]
  },
  {
   "cell_type": "markdown",
   "metadata": {},
   "source": [
    "## Modeling\n",
    "\n",
    "Thus far the linear regression model is just an OLS model with `saleprice` as the target and `wfntlocation` and `sqfttotliving` as the features, without any scaling or elimination of outliers."
   ]
  },
  {
   "cell_type": "markdown",
   "metadata": {},
   "source": [
    "## Evaluation\n",
    "\n",
    "The current model has an R<sup>2</sup> of 0.281, meaning the features explain 28.1% of the variance in the target.\n",
    "\n",
    "To summarize the findings related to the stakeholder claims:\n",
    "\n",
    "1. Higher **square footage** increases home sale price\n",
    "    - Square footage is statistically significant (p < 0.001)\n",
    "    - Our model indicates that home prices increase by about \\\\$382 for each additional square foot of total living space\n",
    "\n",
    "3. Having a **beachfront or lakefront** increases home sale price\n",
    "    - Waterfront property is statistically significant (p < 0.001)\n",
    "    - Our model indicates that home prices increase by about \\\\$924,900 when they have waterfront property compared to homes that do not have waterfront property\n",
    "\n",
    "To summarize the tests of linear regression assumptions:\n",
    "\n",
    " - **Linearity:** Violates the assumption\n",
    " - **Independence:** Does not violate the assumption\n",
    " - **Homoscedasticity:** Violates the assumption\n",
    " - **Normality:** Violates the assumption\n",
    "\n",
    "A full print-out of the model evaluation is as follows:"
   ]
  },
  {
   "cell_type": "code",
   "execution_count": 12,
   "metadata": {},
   "outputs": [
    {
     "name": "stderr",
     "output_type": "stream",
     "text": [
      "//anaconda3/envs/mod2-project-env/lib/python3.8/site-packages/numpy/core/fromnumeric.py:2495: FutureWarning: Method .ptp is deprecated and will be removed in a future version. Use numpy.ptp instead.\n",
      "  return ptp(axis=axis, out=out, **kwargs)\n"
     ]
    },
    {
     "name": "stdout",
     "output_type": "stream",
     "text": [
      "                            OLS Regression Results                            \n",
      "==============================================================================\n",
      "Dep. Variable:              saleprice   R-squared:                       0.281\n",
      "Model:                            OLS   Adj. R-squared:                  0.281\n",
      "Method:                 Least Squares   F-statistic:                     5928.\n",
      "Date:                Sat, 30 Nov 2019   Prob (F-statistic):               0.00\n",
      "Time:                        13:30:19   Log-Likelihood:            -4.4865e+05\n",
      "No. Observations:               30272   AIC:                         8.973e+05\n",
      "Df Residuals:                   30269   BIC:                         8.973e+05\n",
      "Df Model:                           2                                         \n",
      "Covariance Type:            nonrobust                                         \n",
      "=================================================================================\n",
      "                    coef    std err          t      P>|t|      [0.025      0.975]\n",
      "---------------------------------------------------------------------------------\n",
      "const         -2.468e+04   9047.027     -2.728      0.006   -4.24e+04   -6945.847\n",
      "wfntlocation   9.249e+05   2.87e+04     32.255      0.000    8.69e+05    9.81e+05\n",
      "sqfttotliving   382.2969      3.784    101.038      0.000     374.881     389.713\n",
      "==============================================================================\n",
      "Omnibus:                    39616.685   Durbin-Watson:                   1.778\n",
      "Prob(Omnibus):                  0.000   Jarque-Bera (JB):         18828423.161\n",
      "Skew:                           7.037   Prob(JB):                         0.00\n",
      "Kurtosis:                     124.365   Cond. No.                     1.81e+04\n",
      "==============================================================================\n",
      "\n",
      "Warnings:\n",
      "[1] Standard Errors assume that the covariance matrix of the errors is correctly specified.\n",
      "[2] The condition number is large, 1.81e+04. This might indicate that there are\n",
      "strong multicollinearity or other numerical problems.\n",
      "\n",
      "Performing Linearity Checks\n",
      "\n"
     ]
    },
    {
     "data": {
      "image/png": "[encoded data removed]",
      "text/plain": [
       "<Figure size 432x288 with 2 Axes>"
      ]
     },
     "metadata": {
      "needs_background": "light"
     },
     "output_type": "display_data"
    },
    {
     "data": {
      "image/png": "[encoded data removed]",
      "text/plain": [
       "<Figure size 432x288 with 1 Axes>"
      ]
     },
     "metadata": {
      "needs_background": "light"
     },
     "output_type": "display_data"
    },
    {
     "name": "stdout",
     "output_type": "stream",
     "text": [
      "('Violates the linearity assumption according to the rainbow test', 7.380805200946193e-29)\n",
      "\n",
      "Performing Independence Checks\n",
      "\n",
      "   VIF Factor       features\n",
      "0    5.667952          const\n",
      "1    1.006614   wfntlocation\n",
      "2    1.006614  sqfttotliving\n",
      "('No features violate the independence assumption', {})\n",
      "\n",
      "Performing Homoscedasticity Checks\n",
      "\n"
     ]
    },
    {
     "data": {
      "image/png": "[encoded data removed]",
      "text/plain": [
       "<Figure size 432x288 with 1 Axes>"
      ]
     },
     "metadata": {
      "needs_background": "light"
     },
     "output_type": "display_data"
    },
    {
     "name": "stdout",
     "output_type": "stream",
     "text": [
      "('Violates the homoscedasticity assumption according to the Breusch-Pagan test', 3.915532290240294e-236)\n",
      "\n",
      "Performing Normality Checks\n",
      "\n"
     ]
    },
    {
     "data": {
      "image/png": "[encoded data removed]",
      "text/plain": [
       "<Figure size 432x288 with 1 Axes>"
      ]
     },
     "metadata": {
      "needs_background": "light"
     },
     "output_type": "display_data"
    },
    {
     "name": "stdout",
     "output_type": "stream",
     "text": [
      "('Violates the normality assumption according to the Kolmogorov-Smirnov test', 0.0)\n"
     ]
    }
   ],
   "source": [
    "modeling.build_and_evaluate_model()"
   ]
  },
  {
   "cell_type": "markdown",
   "metadata": {},
   "source": [
    "## Next Steps\n",
    "\n",
    "The current model is not meeting the MVP requirements, because it only addresses two of the stakeholder claims, and violates 3 of the 4 assumptions of linear regression models.\n",
    "\n",
    "Some next steps to improve the model are:\n",
    "\n",
    " - Add more features (while ensuring they are independent)\n",
    " - Try transforming target and/or features\n",
    " - Systematically remove outliers"
   ]
  },
  {
   "cell_type": "code",
   "execution_count": null,
   "metadata": {},
   "outputs": [],
   "source": []
  }
 ],
 "metadata": {
  "kernelspec": {
   "display_name": "Python 3",
   "language": "python",
   "name": "python3"
  },
  "language_info": {
   "codemirror_mode": {
    "name": "ipython",
    "version": 3
   },
   "file_extension": ".py",
   "mimetype": "text/x-python",
   "name": "python",
   "nbconvert_exporter": "python",
   "pygments_lexer": "ipython3",
   "version": "3.8.0"
  }
 },
 "nbformat": 4,
 "nbformat_minor": 4
}
