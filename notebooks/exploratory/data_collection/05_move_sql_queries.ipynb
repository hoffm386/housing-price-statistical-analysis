{
 "cells": [
  {
   "cell_type": "markdown",
   "metadata": {},
   "source": [
    "# Moving SQL Queries\n",
    "At this point, I have a lot of SQL queries just as string literals in a Python script.  That seems like it isn't modular enough -- it means that someone can't work on the SQL while someone else works on the Python, and it also means that you have to execute Python code in order to run the SQL scripts, which is silly"
   ]
  },
  {
   "cell_type": "markdown",
   "metadata": {},
   "source": [
    "The goal here is a refactor, not adding any new features, but improving the separation of concerns"
   ]
  },
  {
   "cell_type": "markdown",
   "metadata": {},
   "source": [
    "First I'm just copying (not moving) the SQL to new files under `src/data/sql/`"
   ]
  },
  {
   "cell_type": "markdown",
   "metadata": {},
   "source": [
    "Now I'm starting with an example from [StackOverflow](https://stackoverflow.com/questions/19472922/reading-external-sql-script-in-python)"
   ]
  },
  {
   "cell_type": "code",
   "execution_count": 2,
   "metadata": {},
   "outputs": [],
   "source": [
    "def executeScriptsFromFile(filename):\n",
    "    # Open and read the file as a single buffer\n",
    "    fd = open(filename, 'r')\n",
    "    sqlFile = fd.read()\n",
    "    fd.close()\n",
    "\n",
    "    # all SQL commands (split on ';')\n",
    "    sqlCommands = sqlFile.split(';')\n",
    "\n",
    "    # Execute every command from the input file\n",
    "    for command in sqlCommands:\n",
    "        # This will skip and report errors\n",
    "        # For example, if the tables do not yet exist, this will skip over\n",
    "        # the DROP TABLE commands\n",
    "        try:\n",
    "            c.execute(command)\n",
    "        except Exception as msg:\n",
    "            print(\"Command skipped: \", msg)"
   ]
  },
  {
   "cell_type": "code",
   "execution_count": 3,
   "metadata": {},
   "outputs": [],
   "source": [
    "import psycopg2\n",
    "import pandas as pd"
   ]
  },
  {
   "cell_type": "code",
   "execution_count": 4,
   "metadata": {},
   "outputs": [
    {
     "data": {
      "text/html": [
       "<div>\n",
       "<style scoped>\n",
       "    .dataframe tbody tr th:only-of-type {\n",
       "        vertical-align: middle;\n",
       "    }\n",
       "\n",
       "    .dataframe tbody tr th {\n",
       "        vertical-align: top;\n",
       "    }\n",
       "\n",
       "    .dataframe thead th {\n",
       "        text-align: right;\n",
       "    }\n",
       "</style>\n",
       "<table border=\"1\" class=\"dataframe\">\n",
       "  <thead>\n",
       "    <tr style=\"text-align: right;\">\n",
       "      <th></th>\n",
       "      <th>excisetaxnbr</th>\n",
       "      <th>major</th>\n",
       "      <th>minor</th>\n",
       "      <th>documentdate</th>\n",
       "      <th>saleprice</th>\n",
       "      <th>recordingnbr</th>\n",
       "      <th>volume</th>\n",
       "      <th>page</th>\n",
       "      <th>platnbr</th>\n",
       "      <th>plattype</th>\n",
       "      <th>...</th>\n",
       "      <th>propertytype</th>\n",
       "      <th>principaluse</th>\n",
       "      <th>saleinstrument</th>\n",
       "      <th>afforestland</th>\n",
       "      <th>afcurrentuseland</th>\n",
       "      <th>afnonprofituse</th>\n",
       "      <th>afhistoricproperty</th>\n",
       "      <th>salereason</th>\n",
       "      <th>propertyclass</th>\n",
       "      <th>salewarning</th>\n",
       "    </tr>\n",
       "  </thead>\n",
       "  <tbody>\n",
       "    <tr>\n",
       "      <th>0</th>\n",
       "      <td>1923256</td>\n",
       "      <td>403720</td>\n",
       "      <td>0880</td>\n",
       "      <td>2002-11-09</td>\n",
       "      <td>0</td>\n",
       "      <td>20021122000102</td>\n",
       "      <td></td>\n",
       "      <td></td>\n",
       "      <td></td>\n",
       "      <td></td>\n",
       "      <td>...</td>\n",
       "      <td>3</td>\n",
       "      <td>6</td>\n",
       "      <td>15</td>\n",
       "      <td>N</td>\n",
       "      <td>N</td>\n",
       "      <td>N</td>\n",
       "      <td>N</td>\n",
       "      <td>14</td>\n",
       "      <td>8</td>\n",
       "      <td>31 51 52</td>\n",
       "    </tr>\n",
       "    <tr>\n",
       "      <th>1</th>\n",
       "      <td>1443998</td>\n",
       "      <td>937230</td>\n",
       "      <td>0060</td>\n",
       "      <td>1995-08-17</td>\n",
       "      <td>110000</td>\n",
       "      <td>199508230865</td>\n",
       "      <td>043</td>\n",
       "      <td>021</td>\n",
       "      <td>937230</td>\n",
       "      <td>P</td>\n",
       "      <td>...</td>\n",
       "      <td>3</td>\n",
       "      <td>6</td>\n",
       "      <td>2</td>\n",
       "      <td>N</td>\n",
       "      <td>N</td>\n",
       "      <td>N</td>\n",
       "      <td>N</td>\n",
       "      <td>0</td>\n",
       "      <td>8</td>\n",
       "      <td></td>\n",
       "    </tr>\n",
       "    <tr>\n",
       "      <th>2</th>\n",
       "      <td>2737898</td>\n",
       "      <td>228520</td>\n",
       "      <td>0320</td>\n",
       "      <td>2015-06-17</td>\n",
       "      <td>288700</td>\n",
       "      <td>20150619001358</td>\n",
       "      <td></td>\n",
       "      <td></td>\n",
       "      <td></td>\n",
       "      <td></td>\n",
       "      <td>...</td>\n",
       "      <td>3</td>\n",
       "      <td>2</td>\n",
       "      <td>3</td>\n",
       "      <td>N</td>\n",
       "      <td>N</td>\n",
       "      <td>N</td>\n",
       "      <td>N</td>\n",
       "      <td>1</td>\n",
       "      <td>3</td>\n",
       "      <td></td>\n",
       "    </tr>\n",
       "    <tr>\n",
       "      <th>3</th>\n",
       "      <td>2501378</td>\n",
       "      <td>148930</td>\n",
       "      <td>0126</td>\n",
       "      <td>2011-07-15</td>\n",
       "      <td>0</td>\n",
       "      <td>20110720000809</td>\n",
       "      <td></td>\n",
       "      <td></td>\n",
       "      <td></td>\n",
       "      <td></td>\n",
       "      <td>...</td>\n",
       "      <td>3</td>\n",
       "      <td>6</td>\n",
       "      <td>15</td>\n",
       "      <td>N</td>\n",
       "      <td>N</td>\n",
       "      <td>N</td>\n",
       "      <td>N</td>\n",
       "      <td>5</td>\n",
       "      <td>8</td>\n",
       "      <td>18 31 51</td>\n",
       "    </tr>\n",
       "    <tr>\n",
       "      <th>4</th>\n",
       "      <td>2838251</td>\n",
       "      <td>073150</td>\n",
       "      <td>0180</td>\n",
       "      <td>2016-11-22</td>\n",
       "      <td>425000</td>\n",
       "      <td>20161207002286</td>\n",
       "      <td></td>\n",
       "      <td></td>\n",
       "      <td></td>\n",
       "      <td></td>\n",
       "      <td>...</td>\n",
       "      <td>11</td>\n",
       "      <td>6</td>\n",
       "      <td>3</td>\n",
       "      <td></td>\n",
       "      <td></td>\n",
       "      <td></td>\n",
       "      <td></td>\n",
       "      <td>1</td>\n",
       "      <td>8</td>\n",
       "      <td></td>\n",
       "    </tr>\n",
       "  </tbody>\n",
       "</table>\n",
       "<p>5 rows × 24 columns</p>\n",
       "</div>"
      ],
      "text/plain": [
       "   excisetaxnbr   major minor documentdate  saleprice    recordingnbr volume  \\\n",
       "0       1923256  403720  0880   2002-11-09          0  20021122000102          \n",
       "1       1443998  937230  0060   1995-08-17     110000  199508230865      043   \n",
       "2       2737898  228520  0320   2015-06-17     288700  20150619001358          \n",
       "3       2501378  148930  0126   2011-07-15          0  20110720000809          \n",
       "4       2838251  073150  0180   2016-11-22     425000  20161207002286          \n",
       "\n",
       "  page platnbr plattype  ... propertytype principaluse saleinstrument  \\\n",
       "0                        ...            3            6             15   \n",
       "1  021  937230        P  ...            3            6              2   \n",
       "2                        ...            3            2              3   \n",
       "3                        ...            3            6             15   \n",
       "4                        ...           11            6              3   \n",
       "\n",
       "  afforestland  afcurrentuseland  afnonprofituse  afhistoricproperty  \\\n",
       "0            N                 N               N                   N   \n",
       "1            N                 N               N                   N   \n",
       "2            N                 N               N                   N   \n",
       "3            N                 N               N                   N   \n",
       "4                                                                      \n",
       "\n",
       "  salereason propertyclass salewarning  \n",
       "0         14             8    31 51 52  \n",
       "1          0             8              \n",
       "2          1             3              \n",
       "3          5             8    18 31 51  \n",
       "4          1             8              \n",
       "\n",
       "[5 rows x 24 columns]"
      ]
     },
     "execution_count": 4,
     "metadata": {},
     "output_type": "execute_result"
    }
   ],
   "source": [
    "conn = psycopg2.connect(dbname=\"housing_data\")\n",
    "pd.read_sql_query(\"SELECT * FROM sales LIMIT 5;\", conn)"
   ]
  },
  {
   "cell_type": "code",
   "execution_count": 5,
   "metadata": {},
   "outputs": [],
   "source": [
    "def open_sql_script(script_filename):\n",
    "    file_obj = open(script_filename, 'r')\n",
    "    file_contents = file_obj.read()\n",
    "    file_obj.close()\n",
    "    \n",
    "    return file_contents"
   ]
  },
  {
   "cell_type": "code",
   "execution_count": 6,
   "metadata": {},
   "outputs": [
    {
     "ename": "FileNotFoundError",
     "evalue": "[Errno 2] No such file or directory: '../../src/data/sql/09_sales_df_query.sql'",
     "output_type": "error",
     "traceback": [
      "\u001b[0;31m---------------------------------------------------------------------------\u001b[0m",
      "\u001b[0;31mFileNotFoundError\u001b[0m                         Traceback (most recent call last)",
      "\u001b[0;32m<ipython-input-6-0cb023af42e8>\u001b[0m in \u001b[0;36m<module>\u001b[0;34m\u001b[0m\n\u001b[0;32m----> 1\u001b[0;31m \u001b[0mopen_sql_script\u001b[0m\u001b[0;34m(\u001b[0m\u001b[0;34m\"../../src/data/sql/09_sales_df_query.sql\"\u001b[0m\u001b[0;34m)\u001b[0m\u001b[0;34m\u001b[0m\u001b[0;34m\u001b[0m\u001b[0m\n\u001b[0m",
      "\u001b[0;32m<ipython-input-5-65bbaee5913f>\u001b[0m in \u001b[0;36mopen_sql_script\u001b[0;34m(script_filename)\u001b[0m\n\u001b[1;32m      1\u001b[0m \u001b[0;32mdef\u001b[0m \u001b[0mopen_sql_script\u001b[0m\u001b[0;34m(\u001b[0m\u001b[0mscript_filename\u001b[0m\u001b[0;34m)\u001b[0m\u001b[0;34m:\u001b[0m\u001b[0;34m\u001b[0m\u001b[0;34m\u001b[0m\u001b[0m\n\u001b[0;32m----> 2\u001b[0;31m     \u001b[0mfile_obj\u001b[0m \u001b[0;34m=\u001b[0m \u001b[0mopen\u001b[0m\u001b[0;34m(\u001b[0m\u001b[0mscript_filename\u001b[0m\u001b[0;34m,\u001b[0m \u001b[0;34m'r'\u001b[0m\u001b[0;34m)\u001b[0m\u001b[0;34m\u001b[0m\u001b[0;34m\u001b[0m\u001b[0m\n\u001b[0m\u001b[1;32m      3\u001b[0m     \u001b[0mfile_contents\u001b[0m \u001b[0;34m=\u001b[0m \u001b[0mfile_obj\u001b[0m\u001b[0;34m.\u001b[0m\u001b[0mread\u001b[0m\u001b[0;34m(\u001b[0m\u001b[0;34m)\u001b[0m\u001b[0;34m\u001b[0m\u001b[0;34m\u001b[0m\u001b[0m\n\u001b[1;32m      4\u001b[0m     \u001b[0mfile_obj\u001b[0m\u001b[0;34m.\u001b[0m\u001b[0mclose\u001b[0m\u001b[0;34m(\u001b[0m\u001b[0;34m)\u001b[0m\u001b[0;34m\u001b[0m\u001b[0;34m\u001b[0m\u001b[0m\n\u001b[1;32m      5\u001b[0m \u001b[0;34m\u001b[0m\u001b[0m\n",
      "\u001b[0;31mFileNotFoundError\u001b[0m: [Errno 2] No such file or directory: '../../src/data/sql/09_sales_df_query.sql'"
     ]
    }
   ],
   "source": [
    "open_sql_script(\"../../src/data/sql/09_sales_df_query.sql\")"
   ]
  },
  {
   "cell_type": "code",
   "execution_count": 7,
   "metadata": {},
   "outputs": [
    {
     "name": "stdout",
     "output_type": "stream",
     "text": [
      "/Users/ehoffman/Development/DS/housing-price-statistical-analysis/notebooks/exploratory/data_collection\n"
     ]
    }
   ],
   "source": [
    "! pwd"
   ]
  },
  {
   "cell_type": "code",
   "execution_count": 8,
   "metadata": {},
   "outputs": [
    {
     "ename": "FileNotFoundError",
     "evalue": "[Errno 2] No such file or directory: '../../../src/data/sql/09_sales_df_query.sql'",
     "output_type": "error",
     "traceback": [
      "\u001b[0;31m---------------------------------------------------------------------------\u001b[0m",
      "\u001b[0;31mFileNotFoundError\u001b[0m                         Traceback (most recent call last)",
      "\u001b[0;32m<ipython-input-8-bf2d779d4d3c>\u001b[0m in \u001b[0;36m<module>\u001b[0;34m\u001b[0m\n\u001b[0;32m----> 1\u001b[0;31m \u001b[0mopen_sql_script\u001b[0m\u001b[0;34m(\u001b[0m\u001b[0;34m\"../../../src/data/sql/09_sales_df_query.sql\"\u001b[0m\u001b[0;34m)\u001b[0m\u001b[0;34m\u001b[0m\u001b[0;34m\u001b[0m\u001b[0m\n\u001b[0m",
      "\u001b[0;32m<ipython-input-5-65bbaee5913f>\u001b[0m in \u001b[0;36mopen_sql_script\u001b[0;34m(script_filename)\u001b[0m\n\u001b[1;32m      1\u001b[0m \u001b[0;32mdef\u001b[0m \u001b[0mopen_sql_script\u001b[0m\u001b[0;34m(\u001b[0m\u001b[0mscript_filename\u001b[0m\u001b[0;34m)\u001b[0m\u001b[0;34m:\u001b[0m\u001b[0;34m\u001b[0m\u001b[0;34m\u001b[0m\u001b[0m\n\u001b[0;32m----> 2\u001b[0;31m     \u001b[0mfile_obj\u001b[0m \u001b[0;34m=\u001b[0m \u001b[0mopen\u001b[0m\u001b[0;34m(\u001b[0m\u001b[0mscript_filename\u001b[0m\u001b[0;34m,\u001b[0m \u001b[0;34m'r'\u001b[0m\u001b[0;34m)\u001b[0m\u001b[0;34m\u001b[0m\u001b[0;34m\u001b[0m\u001b[0m\n\u001b[0m\u001b[1;32m      3\u001b[0m     \u001b[0mfile_contents\u001b[0m \u001b[0;34m=\u001b[0m \u001b[0mfile_obj\u001b[0m\u001b[0;34m.\u001b[0m\u001b[0mread\u001b[0m\u001b[0;34m(\u001b[0m\u001b[0;34m)\u001b[0m\u001b[0;34m\u001b[0m\u001b[0;34m\u001b[0m\u001b[0m\n\u001b[1;32m      4\u001b[0m     \u001b[0mfile_obj\u001b[0m\u001b[0;34m.\u001b[0m\u001b[0mclose\u001b[0m\u001b[0;34m(\u001b[0m\u001b[0;34m)\u001b[0m\u001b[0;34m\u001b[0m\u001b[0;34m\u001b[0m\u001b[0m\n\u001b[1;32m      5\u001b[0m \u001b[0;34m\u001b[0m\u001b[0m\n",
      "\u001b[0;31mFileNotFoundError\u001b[0m: [Errno 2] No such file or directory: '../../../src/data/sql/09_sales_df_query.sql'"
     ]
    }
   ],
   "source": [
    "open_sql_script(\"../../../src/data/sql/09_sales_df_query.sql\")"
   ]
  },
  {
   "cell_type": "code",
   "execution_count": 9,
   "metadata": {},
   "outputs": [
    {
     "name": "stdout",
     "output_type": "stream",
     "text": [
      "cat: ../../../src/data/sql/09_sales_df_query.sql: No such file or directory\n"
     ]
    }
   ],
   "source": [
    "! cat ../../../src/data/sql/09_sales_df_query.sql"
   ]
  },
  {
   "cell_type": "markdown",
   "metadata": {},
   "source": [
    "I accidentally had this one under `data/` instead of `data/sql`"
   ]
  },
  {
   "cell_type": "code",
   "execution_count": 10,
   "metadata": {},
   "outputs": [
    {
     "name": "stdout",
     "output_type": "stream",
     "text": [
      "SELECT\n",
      "    CONCAT(sales.Major, sales.Minor) AS PIN,        -- parcel id number\n",
      "    sales.SalePrice,\n",
      "    sales.DocumentDate,\n",
      "    CASE\n",
      "        WHEN parcels.WfntLocation > 0                -- 1-9 indicate particular bodies of water\n",
      "            THEN TRUE\n",
      "        ELSE                                         -- I infer that 0 means no waterfront\n",
      "            FALSE\n",
      "    END as WfntLocation,\n",
      "    buildings.SqFtTotLiving\n",
      "FROM sales                                           -- start the join with sales bc sale price is target\n",
      "    INNER JOIN parcels ON (                          -- parcel major + minor is the unique identifier\n",
      "            parcels.Major = sales.Major              -- (parcels are the things being sold in the sales)\n",
      "        AND parcels.Minor = sales.Minor\n",
      "    )\n",
      "    INNER JOIN buildings ON (                        -- building belongs to one parcel\n",
      "            buildings.Major = parcels.Major          -- parcel can have many buildings (unclear how often)\n",
      "        AND buildings.Minor = parcels.Minor\n",
      "    )\n",
      "WHERE (\n",
      "        date_part('year', sales.DocumentDate) = 2018 -- 2018 is the specified year\n",
      "    AND sales.SalePrice > 0                          -- assume that sale price of 0 is bad data\n",
      ")\n",
      "ORDER BY sales.DocumentDate;\n"
     ]
    }
   ],
   "source": [
    "! cat ../../../src/data/sql/09_sales_df_query.sql "
   ]
  },
  {
   "cell_type": "code",
   "execution_count": 11,
   "metadata": {},
   "outputs": [
    {
     "ename": "FileNotFoundError",
     "evalue": "[Errno 2] No such file or directory: '../../../src/data/sql/09_sales_df_query.sql '",
     "output_type": "error",
     "traceback": [
      "\u001b[0;31m---------------------------------------------------------------------------\u001b[0m",
      "\u001b[0;31mFileNotFoundError\u001b[0m                         Traceback (most recent call last)",
      "\u001b[0;32m<ipython-input-11-1d04362612af>\u001b[0m in \u001b[0;36m<module>\u001b[0;34m\u001b[0m\n\u001b[0;32m----> 1\u001b[0;31m \u001b[0mopen_sql_script\u001b[0m\u001b[0;34m(\u001b[0m\u001b[0;34m\"../../../src/data/sql/09_sales_df_query.sql \"\u001b[0m\u001b[0;34m)\u001b[0m\u001b[0;34m\u001b[0m\u001b[0;34m\u001b[0m\u001b[0m\n\u001b[0m",
      "\u001b[0;32m<ipython-input-5-65bbaee5913f>\u001b[0m in \u001b[0;36mopen_sql_script\u001b[0;34m(script_filename)\u001b[0m\n\u001b[1;32m      1\u001b[0m \u001b[0;32mdef\u001b[0m \u001b[0mopen_sql_script\u001b[0m\u001b[0;34m(\u001b[0m\u001b[0mscript_filename\u001b[0m\u001b[0;34m)\u001b[0m\u001b[0;34m:\u001b[0m\u001b[0;34m\u001b[0m\u001b[0;34m\u001b[0m\u001b[0m\n\u001b[0;32m----> 2\u001b[0;31m     \u001b[0mfile_obj\u001b[0m \u001b[0;34m=\u001b[0m \u001b[0mopen\u001b[0m\u001b[0;34m(\u001b[0m\u001b[0mscript_filename\u001b[0m\u001b[0;34m,\u001b[0m \u001b[0;34m'r'\u001b[0m\u001b[0;34m)\u001b[0m\u001b[0;34m\u001b[0m\u001b[0;34m\u001b[0m\u001b[0m\n\u001b[0m\u001b[1;32m      3\u001b[0m     \u001b[0mfile_contents\u001b[0m \u001b[0;34m=\u001b[0m \u001b[0mfile_obj\u001b[0m\u001b[0;34m.\u001b[0m\u001b[0mread\u001b[0m\u001b[0;34m(\u001b[0m\u001b[0;34m)\u001b[0m\u001b[0;34m\u001b[0m\u001b[0;34m\u001b[0m\u001b[0m\n\u001b[1;32m      4\u001b[0m     \u001b[0mfile_obj\u001b[0m\u001b[0;34m.\u001b[0m\u001b[0mclose\u001b[0m\u001b[0;34m(\u001b[0m\u001b[0;34m)\u001b[0m\u001b[0;34m\u001b[0m\u001b[0;34m\u001b[0m\u001b[0m\n\u001b[1;32m      5\u001b[0m \u001b[0;34m\u001b[0m\u001b[0m\n",
      "\u001b[0;31mFileNotFoundError\u001b[0m: [Errno 2] No such file or directory: '../../../src/data/sql/09_sales_df_query.sql '"
     ]
    }
   ],
   "source": [
    "open_sql_script(\"../../../src/data/sql/09_sales_df_query.sql \")"
   ]
  },
  {
   "cell_type": "markdown",
   "metadata": {},
   "source": [
    "Ok, looks like relative import isn't gonna work, sad"
   ]
  },
  {
   "cell_type": "code",
   "execution_count": 12,
   "metadata": {},
   "outputs": [
    {
     "ename": "NameError",
     "evalue": "name '__file__' is not defined",
     "output_type": "error",
     "traceback": [
      "\u001b[0;31m---------------------------------------------------------------------------\u001b[0m",
      "\u001b[0;31mNameError\u001b[0m                                 Traceback (most recent call last)",
      "\u001b[0;32m<ipython-input-12-358d5687b810>\u001b[0m in \u001b[0;36m<module>\u001b[0;34m\u001b[0m\n\u001b[0;32m----> 1\u001b[0;31m \u001b[0m__file__\u001b[0m\u001b[0;34m\u001b[0m\u001b[0;34m\u001b[0m\u001b[0m\n\u001b[0m",
      "\u001b[0;31mNameError\u001b[0m: name '__file__' is not defined"
     ]
    }
   ],
   "source": [
    "__file__"
   ]
  },
  {
   "cell_type": "code",
   "execution_count": 13,
   "metadata": {},
   "outputs": [],
   "source": [
    "import os"
   ]
  },
  {
   "cell_type": "code",
   "execution_count": 14,
   "metadata": {},
   "outputs": [
    {
     "ename": "NameError",
     "evalue": "name '__file__' is not defined",
     "output_type": "error",
     "traceback": [
      "\u001b[0;31m---------------------------------------------------------------------------\u001b[0m",
      "\u001b[0;31mNameError\u001b[0m                                 Traceback (most recent call last)",
      "\u001b[0;32m<ipython-input-14-358d5687b810>\u001b[0m in \u001b[0;36m<module>\u001b[0;34m\u001b[0m\n\u001b[0;32m----> 1\u001b[0;31m \u001b[0m__file__\u001b[0m\u001b[0;34m\u001b[0m\u001b[0;34m\u001b[0m\u001b[0m\n\u001b[0m",
      "\u001b[0;31mNameError\u001b[0m: name '__file__' is not defined"
     ]
    }
   ],
   "source": [
    "__file__"
   ]
  },
  {
   "cell_type": "code",
   "execution_count": 15,
   "metadata": {},
   "outputs": [
    {
     "ename": "NameError",
     "evalue": "name '__file__' is not defined",
     "output_type": "error",
     "traceback": [
      "\u001b[0;31m---------------------------------------------------------------------------\u001b[0m",
      "\u001b[0;31mNameError\u001b[0m                                 Traceback (most recent call last)",
      "\u001b[0;32m<ipython-input-15-52929499cad9>\u001b[0m in \u001b[0;36m<module>\u001b[0;34m\u001b[0m\n\u001b[0;32m----> 1\u001b[0;31m \u001b[0mscript_dir\u001b[0m \u001b[0;34m=\u001b[0m \u001b[0mos\u001b[0m\u001b[0;34m.\u001b[0m\u001b[0mpath\u001b[0m\u001b[0;34m.\u001b[0m\u001b[0mdirname\u001b[0m\u001b[0;34m(\u001b[0m\u001b[0m__file__\u001b[0m\u001b[0;34m)\u001b[0m\u001b[0;34m\u001b[0m\u001b[0;34m\u001b[0m\u001b[0m\n\u001b[0m",
      "\u001b[0;31mNameError\u001b[0m: name '__file__' is not defined"
     ]
    }
   ],
   "source": [
    "script_dir = os.path.dirname(__file__)"
   ]
  },
  {
   "cell_type": "markdown",
   "metadata": {},
   "source": [
    "Wait a second, I see an extra trailing space, trying relative import again"
   ]
  },
  {
   "cell_type": "code",
   "execution_count": 16,
   "metadata": {},
   "outputs": [
    {
     "data": {
      "text/plain": [
       "\"SELECT\\n    CONCAT(sales.Major, sales.Minor) AS PIN,        -- parcel id number\\n    sales.SalePrice,\\n    sales.DocumentDate,\\n    CASE\\n        WHEN parcels.WfntLocation > 0                -- 1-9 indicate particular bodies of water\\n            THEN TRUE\\n        ELSE                                         -- I infer that 0 means no waterfront\\n            FALSE\\n    END as WfntLocation,\\n    buildings.SqFtTotLiving\\nFROM sales                                           -- start the join with sales bc sale price is target\\n    INNER JOIN parcels ON (                          -- parcel major + minor is the unique identifier\\n            parcels.Major = sales.Major              -- (parcels are the things being sold in the sales)\\n        AND parcels.Minor = sales.Minor\\n    )\\n    INNER JOIN buildings ON (                        -- building belongs to one parcel\\n            buildings.Major = parcels.Major          -- parcel can have many buildings (unclear how often)\\n        AND buildings.Minor = parcels.Minor\\n    )\\nWHERE (\\n        date_part('year', sales.DocumentDate) = 2018 -- 2018 is the specified year\\n    AND sales.SalePrice > 0                          -- assume that sale price of 0 is bad data\\n)\\nORDER BY sales.DocumentDate;\\n\""
      ]
     },
     "execution_count": 16,
     "metadata": {},
     "output_type": "execute_result"
    }
   ],
   "source": [
    "open_sql_script(\"../../../src/data/sql/09_sales_df_query.sql\")"
   ]
  },
  {
   "cell_type": "code",
   "execution_count": 17,
   "metadata": {},
   "outputs": [],
   "source": [
    "def execute_sql_script(conn, script_filename):\n",
    "    file_contents = open_sql_script(script_filename)\n",
    "    cursor = conn.cursor()\n",
    "    cursor.execute(file_contents)\n",
    "    conn.commit()"
   ]
  },
  {
   "cell_type": "code",
   "execution_count": 18,
   "metadata": {},
   "outputs": [],
   "source": [
    "execute_sql_script(conn, \"../../../src/data/sql/09_sales_df_query.sql\")"
   ]
  },
  {
   "cell_type": "code",
   "execution_count": 19,
   "metadata": {},
   "outputs": [],
   "source": [
    "def return_result_of_sql_script(conn, script_filename):\n",
    "    file_contents = open_sql_script(script_filename)\n",
    "    result = pd.read_sql_query(file_contents, conn)\n",
    "    return result"
   ]
  },
  {
   "cell_type": "code",
   "execution_count": 21,
   "metadata": {},
   "outputs": [
    {
     "data": {
      "text/html": [
       "<div>\n",
       "<style scoped>\n",
       "    .dataframe tbody tr th:only-of-type {\n",
       "        vertical-align: middle;\n",
       "    }\n",
       "\n",
       "    .dataframe tbody tr th {\n",
       "        vertical-align: top;\n",
       "    }\n",
       "\n",
       "    .dataframe thead th {\n",
       "        text-align: right;\n",
       "    }\n",
       "</style>\n",
       "<table border=\"1\" class=\"dataframe\">\n",
       "  <thead>\n",
       "    <tr style=\"text-align: right;\">\n",
       "      <th></th>\n",
       "      <th>pin</th>\n",
       "      <th>saleprice</th>\n",
       "      <th>documentdate</th>\n",
       "      <th>wfntlocation</th>\n",
       "      <th>sqfttotliving</th>\n",
       "    </tr>\n",
       "  </thead>\n",
       "  <tbody>\n",
       "    <tr>\n",
       "      <th>0</th>\n",
       "      <td>2287300010</td>\n",
       "      <td>298633</td>\n",
       "      <td>2018-01-01</td>\n",
       "      <td>False</td>\n",
       "      <td>1810</td>\n",
       "    </tr>\n",
       "    <tr>\n",
       "      <th>1</th>\n",
       "      <td>8695200067</td>\n",
       "      <td>275000</td>\n",
       "      <td>2018-01-01</td>\n",
       "      <td>False</td>\n",
       "      <td>1250</td>\n",
       "    </tr>\n",
       "    <tr>\n",
       "      <th>2</th>\n",
       "      <td>8732160190</td>\n",
       "      <td>355000</td>\n",
       "      <td>2018-01-01</td>\n",
       "      <td>False</td>\n",
       "      <td>1580</td>\n",
       "    </tr>\n",
       "    <tr>\n",
       "      <th>3</th>\n",
       "      <td>1432401055</td>\n",
       "      <td>82886</td>\n",
       "      <td>2018-01-02</td>\n",
       "      <td>False</td>\n",
       "      <td>1170</td>\n",
       "    </tr>\n",
       "    <tr>\n",
       "      <th>4</th>\n",
       "      <td>5007500030</td>\n",
       "      <td>450000</td>\n",
       "      <td>2018-01-02</td>\n",
       "      <td>False</td>\n",
       "      <td>2540</td>\n",
       "    </tr>\n",
       "    <tr>\n",
       "      <th>...</th>\n",
       "      <td>...</td>\n",
       "      <td>...</td>\n",
       "      <td>...</td>\n",
       "      <td>...</td>\n",
       "      <td>...</td>\n",
       "    </tr>\n",
       "    <tr>\n",
       "      <th>30267</th>\n",
       "      <td>7202290630</td>\n",
       "      <td>705000</td>\n",
       "      <td>2018-12-31</td>\n",
       "      <td>False</td>\n",
       "      <td>1600</td>\n",
       "    </tr>\n",
       "    <tr>\n",
       "      <th>30268</th>\n",
       "      <td>8946720180</td>\n",
       "      <td>385000</td>\n",
       "      <td>2018-12-31</td>\n",
       "      <td>False</td>\n",
       "      <td>2130</td>\n",
       "    </tr>\n",
       "    <tr>\n",
       "      <th>30269</th>\n",
       "      <td>1796360480</td>\n",
       "      <td>47895</td>\n",
       "      <td>2018-12-31</td>\n",
       "      <td>False</td>\n",
       "      <td>1460</td>\n",
       "    </tr>\n",
       "    <tr>\n",
       "      <th>30270</th>\n",
       "      <td>9406520090</td>\n",
       "      <td>395000</td>\n",
       "      <td>2018-12-31</td>\n",
       "      <td>False</td>\n",
       "      <td>1654</td>\n",
       "    </tr>\n",
       "    <tr>\n",
       "      <th>30271</th>\n",
       "      <td>1513800030</td>\n",
       "      <td>570000</td>\n",
       "      <td>2018-12-31</td>\n",
       "      <td>False</td>\n",
       "      <td>1090</td>\n",
       "    </tr>\n",
       "  </tbody>\n",
       "</table>\n",
       "<p>30272 rows × 5 columns</p>\n",
       "</div>"
      ],
      "text/plain": [
       "              pin  saleprice documentdate  wfntlocation  sqfttotliving\n",
       "0      2287300010     298633   2018-01-01         False           1810\n",
       "1      8695200067     275000   2018-01-01         False           1250\n",
       "2      8732160190     355000   2018-01-01         False           1580\n",
       "3      1432401055      82886   2018-01-02         False           1170\n",
       "4      5007500030     450000   2018-01-02         False           2540\n",
       "...           ...        ...          ...           ...            ...\n",
       "30267  7202290630     705000   2018-12-31         False           1600\n",
       "30268  8946720180     385000   2018-12-31         False           2130\n",
       "30269  1796360480      47895   2018-12-31         False           1460\n",
       "30270  9406520090     395000   2018-12-31         False           1654\n",
       "30271  1513800030     570000   2018-12-31         False           1090\n",
       "\n",
       "[30272 rows x 5 columns]"
      ]
     },
     "execution_count": 21,
     "metadata": {},
     "output_type": "execute_result"
    }
   ],
   "source": [
    "return_result_of_sql_script(conn, \"../../../src/data/sql/09_sales_df_query.sql\")"
   ]
  },
  {
   "cell_type": "code",
   "execution_count": 22,
   "metadata": {},
   "outputs": [],
   "source": [
    "from src.data import sql_utils"
   ]
  },
  {
   "cell_type": "code",
   "execution_count": 23,
   "metadata": {},
   "outputs": [
    {
     "ename": "FileNotFoundError",
     "evalue": "[Errno 2] No such file or directory: 'sql/01_drop_old_database.sql'",
     "output_type": "error",
     "traceback": [
      "\u001b[0;31m---------------------------------------------------------------------------\u001b[0m",
      "\u001b[0;31mFileNotFoundError\u001b[0m                         Traceback (most recent call last)",
      "\u001b[0;32m<ipython-input-23-8e285fb75aca>\u001b[0m in \u001b[0;36m<module>\u001b[0;34m\u001b[0m\n\u001b[0;32m----> 1\u001b[0;31m \u001b[0msql_utils\u001b[0m\u001b[0;34m.\u001b[0m\u001b[0mcreate_database\u001b[0m\u001b[0;34m(\u001b[0m\u001b[0;34m)\u001b[0m\u001b[0;34m\u001b[0m\u001b[0;34m\u001b[0m\u001b[0m\n\u001b[0m",
      "\u001b[0;32m~/Development/DS/housing-price-statistical-analysis/src/data/sql_utils.py\u001b[0m in \u001b[0;36mcreate_database\u001b[0;34m()\u001b[0m\n\u001b[1;32m     12\u001b[0m     \u001b[0mconn\u001b[0m\u001b[0;34m.\u001b[0m\u001b[0mset_isolation_level\u001b[0m\u001b[0;34m(\u001b[0m\u001b[0;36m0\u001b[0m\u001b[0;34m)\u001b[0m \u001b[0;31m# also this for dropping db\u001b[0m\u001b[0;34m\u001b[0m\u001b[0;34m\u001b[0m\u001b[0m\n\u001b[1;32m     13\u001b[0m \u001b[0;34m\u001b[0m\u001b[0m\n\u001b[0;32m---> 14\u001b[0;31m     \u001b[0mexecute_sql_script\u001b[0m\u001b[0;34m(\u001b[0m\u001b[0mconn\u001b[0m\u001b[0;34m,\u001b[0m \u001b[0;34m\"sql/01_drop_old_database.sql\"\u001b[0m\u001b[0;34m)\u001b[0m\u001b[0;34m\u001b[0m\u001b[0;34m\u001b[0m\u001b[0m\n\u001b[0m\u001b[1;32m     15\u001b[0m     \u001b[0mexecute_sql_script\u001b[0m\u001b[0;34m(\u001b[0m\u001b[0mconn\u001b[0m\u001b[0;34m,\u001b[0m \u001b[0;34m\"sql/02_create_new_database.sql\"\u001b[0m\u001b[0;34m)\u001b[0m\u001b[0;34m\u001b[0m\u001b[0;34m\u001b[0m\u001b[0m\n\u001b[1;32m     16\u001b[0m \u001b[0;34m\u001b[0m\u001b[0m\n",
      "\u001b[0;32m~/Development/DS/housing-price-statistical-analysis/src/data/sql_utils.py\u001b[0m in \u001b[0;36mexecute_sql_script\u001b[0;34m(conn, script_filename)\u001b[0m\n\u001b[1;32m    306\u001b[0m     \u001b[0mscript\u001b[0m \u001b[0;32mand\u001b[0m \u001b[0mexecute\u001b[0m \u001b[0mit\u001b[0m\u001b[0;34m\u001b[0m\u001b[0;34m\u001b[0m\u001b[0m\n\u001b[1;32m    307\u001b[0m     \"\"\"\n\u001b[0;32m--> 308\u001b[0;31m     \u001b[0mfile_contents\u001b[0m \u001b[0;34m=\u001b[0m \u001b[0mopen_sql_script\u001b[0m\u001b[0;34m(\u001b[0m\u001b[0mscript_filename\u001b[0m\u001b[0;34m)\u001b[0m\u001b[0;34m\u001b[0m\u001b[0;34m\u001b[0m\u001b[0m\n\u001b[0m\u001b[1;32m    309\u001b[0m     \u001b[0mcursor\u001b[0m \u001b[0;34m=\u001b[0m \u001b[0mconn\u001b[0m\u001b[0;34m.\u001b[0m\u001b[0mcursor\u001b[0m\u001b[0;34m(\u001b[0m\u001b[0;34m)\u001b[0m\u001b[0;34m\u001b[0m\u001b[0;34m\u001b[0m\u001b[0m\n\u001b[1;32m    310\u001b[0m     \u001b[0mcursor\u001b[0m\u001b[0;34m.\u001b[0m\u001b[0mexecute\u001b[0m\u001b[0;34m(\u001b[0m\u001b[0mfile_contents\u001b[0m\u001b[0;34m)\u001b[0m\u001b[0;34m\u001b[0m\u001b[0;34m\u001b[0m\u001b[0m\n",
      "\u001b[0;32m~/Development/DS/housing-price-statistical-analysis/src/data/sql_utils.py\u001b[0m in \u001b[0;36mopen_sql_script\u001b[0;34m(script_filename)\u001b[0m\n\u001b[1;32m    295\u001b[0m     \u001b[0mGiven\u001b[0m \u001b[0ma\u001b[0m \u001b[0mfile\u001b[0m \u001b[0mpath\u001b[0m\u001b[0;34m,\u001b[0m \u001b[0mopen\u001b[0m \u001b[0mthe\u001b[0m \u001b[0mfile\u001b[0m \u001b[0;32mand\u001b[0m \u001b[0;32mreturn\u001b[0m \u001b[0mits\u001b[0m \u001b[0mcontents\u001b[0m\u001b[0;34m\u001b[0m\u001b[0;34m\u001b[0m\u001b[0m\n\u001b[1;32m    296\u001b[0m     \"\"\"\n\u001b[0;32m--> 297\u001b[0;31m     \u001b[0mfile_obj\u001b[0m \u001b[0;34m=\u001b[0m \u001b[0mopen\u001b[0m\u001b[0;34m(\u001b[0m\u001b[0mscript_filename\u001b[0m\u001b[0;34m,\u001b[0m \u001b[0;34m'r'\u001b[0m\u001b[0;34m)\u001b[0m\u001b[0;34m\u001b[0m\u001b[0;34m\u001b[0m\u001b[0m\n\u001b[0m\u001b[1;32m    298\u001b[0m     \u001b[0mfile_contents\u001b[0m \u001b[0;34m=\u001b[0m \u001b[0mfile_obj\u001b[0m\u001b[0;34m.\u001b[0m\u001b[0mread\u001b[0m\u001b[0;34m(\u001b[0m\u001b[0;34m)\u001b[0m\u001b[0;34m\u001b[0m\u001b[0;34m\u001b[0m\u001b[0m\n\u001b[1;32m    299\u001b[0m     \u001b[0mfile_obj\u001b[0m\u001b[0;34m.\u001b[0m\u001b[0mclose\u001b[0m\u001b[0;34m(\u001b[0m\u001b[0;34m)\u001b[0m\u001b[0;34m\u001b[0m\u001b[0;34m\u001b[0m\u001b[0m\n",
      "\u001b[0;31mFileNotFoundError\u001b[0m: [Errno 2] No such file or directory: 'sql/01_drop_old_database.sql'"
     ]
    }
   ],
   "source": [
    "sql_utils.create_database()"
   ]
  },
  {
   "cell_type": "code",
   "execution_count": 24,
   "metadata": {},
   "outputs": [],
   "source": [
    "%load_ext autoreload"
   ]
  },
  {
   "cell_type": "code",
   "execution_count": 25,
   "metadata": {},
   "outputs": [],
   "source": [
    "%autoreload 2"
   ]
  },
  {
   "cell_type": "code",
   "execution_count": 26,
   "metadata": {},
   "outputs": [
    {
     "ename": "ObjectInUse",
     "evalue": "database \"housing_data\" is being accessed by other users\nDETAIL:  There is 1 other session using the database.\n",
     "output_type": "error",
     "traceback": [
      "\u001b[0;31m---------------------------------------------------------------------------\u001b[0m",
      "\u001b[0;31mObjectInUse\u001b[0m                               Traceback (most recent call last)",
      "\u001b[0;32m<ipython-input-26-8e285fb75aca>\u001b[0m in \u001b[0;36m<module>\u001b[0;34m\u001b[0m\n\u001b[0;32m----> 1\u001b[0;31m \u001b[0msql_utils\u001b[0m\u001b[0;34m.\u001b[0m\u001b[0mcreate_database\u001b[0m\u001b[0;34m(\u001b[0m\u001b[0;34m)\u001b[0m\u001b[0;34m\u001b[0m\u001b[0;34m\u001b[0m\u001b[0m\n\u001b[0m",
      "\u001b[0;32m~/Development/DS/housing-price-statistical-analysis/src/data/sql_utils.py\u001b[0m in \u001b[0;36mcreate_database\u001b[0;34m()\u001b[0m\n\u001b[1;32m     13\u001b[0m     \u001b[0mconn\u001b[0m\u001b[0;34m.\u001b[0m\u001b[0mset_isolation_level\u001b[0m\u001b[0;34m(\u001b[0m\u001b[0;36m0\u001b[0m\u001b[0;34m)\u001b[0m \u001b[0;31m# also this for dropping db\u001b[0m\u001b[0;34m\u001b[0m\u001b[0;34m\u001b[0m\u001b[0m\n\u001b[1;32m     14\u001b[0m \u001b[0;34m\u001b[0m\u001b[0m\n\u001b[0;32m---> 15\u001b[0;31m     \u001b[0mexecute_sql_script\u001b[0m\u001b[0;34m(\u001b[0m\u001b[0mconn\u001b[0m\u001b[0;34m,\u001b[0m \u001b[0;34m\"01_drop_old_database.sql\"\u001b[0m\u001b[0;34m)\u001b[0m\u001b[0;34m\u001b[0m\u001b[0;34m\u001b[0m\u001b[0m\n\u001b[0m\u001b[1;32m     16\u001b[0m     \u001b[0mexecute_sql_script\u001b[0m\u001b[0;34m(\u001b[0m\u001b[0mconn\u001b[0m\u001b[0;34m,\u001b[0m \u001b[0;34m\"02_create_new_database.sql\"\u001b[0m\u001b[0;34m)\u001b[0m\u001b[0;34m\u001b[0m\u001b[0;34m\u001b[0m\u001b[0m\n\u001b[1;32m     17\u001b[0m \u001b[0;34m\u001b[0m\u001b[0m\n",
      "\u001b[0;32m~/Development/DS/housing-price-statistical-analysis/src/data/sql_utils.py\u001b[0m in \u001b[0;36mexecute_sql_script\u001b[0;34m(conn, script_filename)\u001b[0m\n\u001b[1;32m    313\u001b[0m     \u001b[0mfile_contents\u001b[0m \u001b[0;34m=\u001b[0m \u001b[0mopen_sql_script\u001b[0m\u001b[0;34m(\u001b[0m\u001b[0mscript_filename\u001b[0m\u001b[0;34m)\u001b[0m\u001b[0;34m\u001b[0m\u001b[0;34m\u001b[0m\u001b[0m\n\u001b[1;32m    314\u001b[0m     \u001b[0mcursor\u001b[0m \u001b[0;34m=\u001b[0m \u001b[0mconn\u001b[0m\u001b[0;34m.\u001b[0m\u001b[0mcursor\u001b[0m\u001b[0;34m(\u001b[0m\u001b[0;34m)\u001b[0m\u001b[0;34m\u001b[0m\u001b[0;34m\u001b[0m\u001b[0m\n\u001b[0;32m--> 315\u001b[0;31m     \u001b[0mcursor\u001b[0m\u001b[0;34m.\u001b[0m\u001b[0mexecute\u001b[0m\u001b[0;34m(\u001b[0m\u001b[0mfile_contents\u001b[0m\u001b[0;34m)\u001b[0m\u001b[0;34m\u001b[0m\u001b[0;34m\u001b[0m\u001b[0m\n\u001b[0m\u001b[1;32m    316\u001b[0m     \u001b[0mconn\u001b[0m\u001b[0;34m.\u001b[0m\u001b[0mcommit\u001b[0m\u001b[0;34m(\u001b[0m\u001b[0;34m)\u001b[0m\u001b[0;34m\u001b[0m\u001b[0;34m\u001b[0m\u001b[0m\n\u001b[1;32m    317\u001b[0m \u001b[0;34m\u001b[0m\u001b[0m\n",
      "\u001b[0;31mObjectInUse\u001b[0m: database \"housing_data\" is being accessed by other users\nDETAIL:  There is 1 other session using the database.\n"
     ]
    }
   ],
   "source": [
    "sql_utils.create_database()"
   ]
  },
  {
   "cell_type": "code",
   "execution_count": 27,
   "metadata": {},
   "outputs": [],
   "source": [
    "conn.close()"
   ]
  },
  {
   "cell_type": "code",
   "execution_count": 28,
   "metadata": {},
   "outputs": [],
   "source": [
    "sql_utils.create_database()"
   ]
  },
  {
   "cell_type": "code",
   "execution_count": 29,
   "metadata": {},
   "outputs": [],
   "source": [
    "conn = psycopg2.connect(dbname=\"housing_data\")"
   ]
  },
  {
   "cell_type": "code",
   "execution_count": 30,
   "metadata": {},
   "outputs": [],
   "source": [
    "sql_utils.create_sales_table(conn)"
   ]
  },
  {
   "cell_type": "code",
   "execution_count": 31,
   "metadata": {},
   "outputs": [],
   "source": [
    "sql_utils.create_buildings_table(conn)"
   ]
  },
  {
   "cell_type": "code",
   "execution_count": 32,
   "metadata": {},
   "outputs": [],
   "source": [
    "from src.data import data_collection\n",
    "sales_files, buildings_files, parcels_files = data_collection.collect_all_data_files()"
   ]
  },
  {
   "cell_type": "code",
   "execution_count": 33,
   "metadata": {},
   "outputs": [],
   "source": [
    "sales_zip_file, sales_csv_file = sales_files"
   ]
  },
  {
   "cell_type": "code",
   "execution_count": 34,
   "metadata": {},
   "outputs": [],
   "source": [
    "sql_utils.copy_csv_to_sales_table(conn, sales_csv_file)"
   ]
  },
  {
   "cell_type": "code",
   "execution_count": 35,
   "metadata": {},
   "outputs": [
    {
     "data": {
      "text/html": [
       "<div>\n",
       "<style scoped>\n",
       "    .dataframe tbody tr th:only-of-type {\n",
       "        vertical-align: middle;\n",
       "    }\n",
       "\n",
       "    .dataframe tbody tr th {\n",
       "        vertical-align: top;\n",
       "    }\n",
       "\n",
       "    .dataframe thead th {\n",
       "        text-align: right;\n",
       "    }\n",
       "</style>\n",
       "<table border=\"1\" class=\"dataframe\">\n",
       "  <thead>\n",
       "    <tr style=\"text-align: right;\">\n",
       "      <th></th>\n",
       "      <th>excisetaxnbr</th>\n",
       "      <th>major</th>\n",
       "      <th>minor</th>\n",
       "      <th>documentdate</th>\n",
       "      <th>saleprice</th>\n",
       "      <th>recordingnbr</th>\n",
       "      <th>volume</th>\n",
       "      <th>page</th>\n",
       "      <th>platnbr</th>\n",
       "      <th>plattype</th>\n",
       "      <th>...</th>\n",
       "      <th>propertytype</th>\n",
       "      <th>principaluse</th>\n",
       "      <th>saleinstrument</th>\n",
       "      <th>afforestland</th>\n",
       "      <th>afcurrentuseland</th>\n",
       "      <th>afnonprofituse</th>\n",
       "      <th>afhistoricproperty</th>\n",
       "      <th>salereason</th>\n",
       "      <th>propertyclass</th>\n",
       "      <th>salewarning</th>\n",
       "    </tr>\n",
       "  </thead>\n",
       "  <tbody>\n",
       "    <tr>\n",
       "      <th>0</th>\n",
       "      <td>1923256</td>\n",
       "      <td>403720</td>\n",
       "      <td>0880</td>\n",
       "      <td>2002-11-09</td>\n",
       "      <td>0</td>\n",
       "      <td>20021122000102</td>\n",
       "      <td></td>\n",
       "      <td></td>\n",
       "      <td></td>\n",
       "      <td></td>\n",
       "      <td>...</td>\n",
       "      <td>3</td>\n",
       "      <td>6</td>\n",
       "      <td>15</td>\n",
       "      <td>N</td>\n",
       "      <td>N</td>\n",
       "      <td>N</td>\n",
       "      <td>N</td>\n",
       "      <td>14</td>\n",
       "      <td>8</td>\n",
       "      <td>31 51 52</td>\n",
       "    </tr>\n",
       "    <tr>\n",
       "      <th>1</th>\n",
       "      <td>1443998</td>\n",
       "      <td>937230</td>\n",
       "      <td>0060</td>\n",
       "      <td>1995-08-17</td>\n",
       "      <td>110000</td>\n",
       "      <td>199508230865</td>\n",
       "      <td>043</td>\n",
       "      <td>021</td>\n",
       "      <td>937230</td>\n",
       "      <td>P</td>\n",
       "      <td>...</td>\n",
       "      <td>3</td>\n",
       "      <td>6</td>\n",
       "      <td>2</td>\n",
       "      <td>N</td>\n",
       "      <td>N</td>\n",
       "      <td>N</td>\n",
       "      <td>N</td>\n",
       "      <td>0</td>\n",
       "      <td>8</td>\n",
       "      <td></td>\n",
       "    </tr>\n",
       "    <tr>\n",
       "      <th>2</th>\n",
       "      <td>2737898</td>\n",
       "      <td>228520</td>\n",
       "      <td>0320</td>\n",
       "      <td>2015-06-17</td>\n",
       "      <td>288700</td>\n",
       "      <td>20150619001358</td>\n",
       "      <td></td>\n",
       "      <td></td>\n",
       "      <td></td>\n",
       "      <td></td>\n",
       "      <td>...</td>\n",
       "      <td>3</td>\n",
       "      <td>2</td>\n",
       "      <td>3</td>\n",
       "      <td>N</td>\n",
       "      <td>N</td>\n",
       "      <td>N</td>\n",
       "      <td>N</td>\n",
       "      <td>1</td>\n",
       "      <td>3</td>\n",
       "      <td></td>\n",
       "    </tr>\n",
       "    <tr>\n",
       "      <th>3</th>\n",
       "      <td>2501378</td>\n",
       "      <td>148930</td>\n",
       "      <td>0126</td>\n",
       "      <td>2011-07-15</td>\n",
       "      <td>0</td>\n",
       "      <td>20110720000809</td>\n",
       "      <td></td>\n",
       "      <td></td>\n",
       "      <td></td>\n",
       "      <td></td>\n",
       "      <td>...</td>\n",
       "      <td>3</td>\n",
       "      <td>6</td>\n",
       "      <td>15</td>\n",
       "      <td>N</td>\n",
       "      <td>N</td>\n",
       "      <td>N</td>\n",
       "      <td>N</td>\n",
       "      <td>5</td>\n",
       "      <td>8</td>\n",
       "      <td>18 31 51</td>\n",
       "    </tr>\n",
       "    <tr>\n",
       "      <th>4</th>\n",
       "      <td>2838251</td>\n",
       "      <td>073150</td>\n",
       "      <td>0180</td>\n",
       "      <td>2016-11-22</td>\n",
       "      <td>425000</td>\n",
       "      <td>20161207002286</td>\n",
       "      <td></td>\n",
       "      <td></td>\n",
       "      <td></td>\n",
       "      <td></td>\n",
       "      <td>...</td>\n",
       "      <td>11</td>\n",
       "      <td>6</td>\n",
       "      <td>3</td>\n",
       "      <td></td>\n",
       "      <td></td>\n",
       "      <td></td>\n",
       "      <td></td>\n",
       "      <td>1</td>\n",
       "      <td>8</td>\n",
       "      <td></td>\n",
       "    </tr>\n",
       "  </tbody>\n",
       "</table>\n",
       "<p>5 rows × 24 columns</p>\n",
       "</div>"
      ],
      "text/plain": [
       "   excisetaxnbr   major minor documentdate  saleprice    recordingnbr volume  \\\n",
       "0       1923256  403720  0880   2002-11-09          0  20021122000102          \n",
       "1       1443998  937230  0060   1995-08-17     110000  199508230865      043   \n",
       "2       2737898  228520  0320   2015-06-17     288700  20150619001358          \n",
       "3       2501378  148930  0126   2011-07-15          0  20110720000809          \n",
       "4       2838251  073150  0180   2016-11-22     425000  20161207002286          \n",
       "\n",
       "  page platnbr plattype  ... propertytype principaluse saleinstrument  \\\n",
       "0                        ...            3            6             15   \n",
       "1  021  937230        P  ...            3            6              2   \n",
       "2                        ...            3            2              3   \n",
       "3                        ...            3            6             15   \n",
       "4                        ...           11            6              3   \n",
       "\n",
       "  afforestland  afcurrentuseland  afnonprofituse  afhistoricproperty  \\\n",
       "0            N                 N               N                   N   \n",
       "1            N                 N               N                   N   \n",
       "2            N                 N               N                   N   \n",
       "3            N                 N               N                   N   \n",
       "4                                                                      \n",
       "\n",
       "  salereason propertyclass salewarning  \n",
       "0         14             8    31 51 52  \n",
       "1          0             8              \n",
       "2          1             3              \n",
       "3          5             8    18 31 51  \n",
       "4          1             8              \n",
       "\n",
       "[5 rows x 24 columns]"
      ]
     },
     "execution_count": 35,
     "metadata": {},
     "output_type": "execute_result"
    }
   ],
   "source": [
    "pd.read_sql_query(\"SELECT * FROM sales LIMIT 5;\", conn)"
   ]
  },
  {
   "cell_type": "code",
   "execution_count": 36,
   "metadata": {},
   "outputs": [],
   "source": [
    "buildings_zip_file, buildings_csv_file = buildings_files\n",
    "parcels_zip_file, parcels_csv_file = parcels_files"
   ]
  },
  {
   "cell_type": "code",
   "execution_count": 37,
   "metadata": {},
   "outputs": [],
   "source": [
    "sql_utils.copy_csv_to_buildings_table(conn, buildings_csv_file)"
   ]
  },
  {
   "cell_type": "code",
   "execution_count": 38,
   "metadata": {},
   "outputs": [
    {
     "ename": "UndefinedTable",
     "evalue": "relation \"parcels\" does not exist\n",
     "output_type": "error",
     "traceback": [
      "\u001b[0;31m---------------------------------------------------------------------------\u001b[0m",
      "\u001b[0;31mUndefinedTable\u001b[0m                            Traceback (most recent call last)",
      "\u001b[0;32m<ipython-input-38-425498ae2645>\u001b[0m in \u001b[0;36m<module>\u001b[0;34m\u001b[0m\n\u001b[0;32m----> 1\u001b[0;31m \u001b[0msql_utils\u001b[0m\u001b[0;34m.\u001b[0m\u001b[0mcopy_csv_to_parcels_table\u001b[0m\u001b[0;34m(\u001b[0m\u001b[0mconn\u001b[0m\u001b[0;34m,\u001b[0m \u001b[0mparcels_csv_file\u001b[0m\u001b[0;34m)\u001b[0m\u001b[0;34m\u001b[0m\u001b[0;34m\u001b[0m\u001b[0m\n\u001b[0m",
      "\u001b[0;32m~/Development/DS/housing-price-statistical-analysis/src/data/sql_utils.py\u001b[0m in \u001b[0;36mcopy_csv_to_parcels_table\u001b[0;34m(conn, parcels_csv_file)\u001b[0m\n\u001b[1;32m     40\u001b[0m     \u001b[0;31m# skip the header row\u001b[0m\u001b[0;34m\u001b[0m\u001b[0;34m\u001b[0m\u001b[0;34m\u001b[0m\u001b[0m\n\u001b[1;32m     41\u001b[0m     \u001b[0mnext\u001b[0m\u001b[0;34m(\u001b[0m\u001b[0mparcels_csv_file\u001b[0m\u001b[0;34m)\u001b[0m\u001b[0;34m\u001b[0m\u001b[0;34m\u001b[0m\u001b[0m\n\u001b[0;32m---> 42\u001b[0;31m     \u001b[0mcopy_expert_psql_script\u001b[0m\u001b[0;34m(\u001b[0m\u001b[0mconn\u001b[0m\u001b[0;34m,\u001b[0m \u001b[0;34m\"08_copy_parcels_csv_to_table.psql\"\u001b[0m\u001b[0;34m,\u001b[0m \u001b[0mparcels_csv_file\u001b[0m\u001b[0;34m)\u001b[0m\u001b[0;34m\u001b[0m\u001b[0;34m\u001b[0m\u001b[0m\n\u001b[0m\u001b[1;32m     43\u001b[0m \u001b[0;34m\u001b[0m\u001b[0m\n\u001b[1;32m     44\u001b[0m \u001b[0;32mdef\u001b[0m \u001b[0mcreate_tables\u001b[0m\u001b[0;34m(\u001b[0m\u001b[0;34m)\u001b[0m\u001b[0;34m:\u001b[0m\u001b[0;34m\u001b[0m\u001b[0;34m\u001b[0m\u001b[0m\n",
      "\u001b[0;32m~/Development/DS/housing-price-statistical-analysis/src/data/sql_utils.py\u001b[0m in \u001b[0;36mcopy_expert_psql_script\u001b[0;34m(conn, script_filename, csv_file)\u001b[0m\n\u001b[1;32m    129\u001b[0m     \u001b[0mfile_contents\u001b[0m \u001b[0;34m=\u001b[0m \u001b[0mopen_sql_script\u001b[0m\u001b[0;34m(\u001b[0m\u001b[0mscript_filename\u001b[0m\u001b[0;34m)\u001b[0m\u001b[0;34m\u001b[0m\u001b[0;34m\u001b[0m\u001b[0m\n\u001b[1;32m    130\u001b[0m     \u001b[0mcursor\u001b[0m \u001b[0;34m=\u001b[0m \u001b[0mconn\u001b[0m\u001b[0;34m.\u001b[0m\u001b[0mcursor\u001b[0m\u001b[0;34m(\u001b[0m\u001b[0;34m)\u001b[0m\u001b[0;34m\u001b[0m\u001b[0;34m\u001b[0m\u001b[0m\n\u001b[0;32m--> 131\u001b[0;31m     \u001b[0mcursor\u001b[0m\u001b[0;34m.\u001b[0m\u001b[0mcopy_expert\u001b[0m\u001b[0;34m(\u001b[0m\u001b[0mfile_contents\u001b[0m\u001b[0;34m,\u001b[0m \u001b[0mcsv_file\u001b[0m\u001b[0;34m)\u001b[0m\u001b[0;34m\u001b[0m\u001b[0;34m\u001b[0m\u001b[0m\n\u001b[0m\u001b[1;32m    132\u001b[0m     \u001b[0mconn\u001b[0m\u001b[0;34m.\u001b[0m\u001b[0mcommit\u001b[0m\u001b[0;34m(\u001b[0m\u001b[0;34m)\u001b[0m\u001b[0;34m\u001b[0m\u001b[0;34m\u001b[0m\u001b[0m\n\u001b[1;32m    133\u001b[0m \u001b[0;34m\u001b[0m\u001b[0m\n",
      "\u001b[0;31mUndefinedTable\u001b[0m: relation \"parcels\" does not exist\n"
     ]
    }
   ],
   "source": [
    "sql_utils.copy_csv_to_parcels_table(conn, parcels_csv_file)"
   ]
  },
  {
   "cell_type": "code",
   "execution_count": 39,
   "metadata": {},
   "outputs": [],
   "source": [
    "conn.close()"
   ]
  },
  {
   "cell_type": "code",
   "execution_count": 40,
   "metadata": {},
   "outputs": [],
   "source": [
    "conn = psycopg2.connect(dbname=\"housing_data\")"
   ]
  },
  {
   "cell_type": "code",
   "execution_count": 41,
   "metadata": {},
   "outputs": [],
   "source": [
    "sql_utils.create_parcels_table(conn)"
   ]
  },
  {
   "cell_type": "code",
   "execution_count": 42,
   "metadata": {},
   "outputs": [],
   "source": [
    "parcels_zip_file, parcels_csv_file = data_collection.collect_parcels_data()"
   ]
  },
  {
   "cell_type": "code",
   "execution_count": 43,
   "metadata": {},
   "outputs": [],
   "source": [
    "sql_utils.copy_csv_to_parcels_table(conn, parcels_csv_file)"
   ]
  },
  {
   "cell_type": "code",
   "execution_count": 44,
   "metadata": {},
   "outputs": [],
   "source": [
    "sales_zip_file.close()\n",
    "sales_csv_file.close()\n",
    "buildings_zip_file.close()\n",
    "buildings_csv_file.close()\n",
    "parcels_zip_file.close()\n",
    "parcels_csv_file.close()"
   ]
  },
  {
   "cell_type": "code",
   "execution_count": 45,
   "metadata": {},
   "outputs": [],
   "source": [
    "conn.close()"
   ]
  },
  {
   "cell_type": "code",
   "execution_count": 46,
   "metadata": {},
   "outputs": [],
   "source": [
    "conn = psycopg2.connect(dbname=\"housing_data\")"
   ]
  },
  {
   "cell_type": "code",
   "execution_count": 47,
   "metadata": {},
   "outputs": [
    {
     "data": {
      "text/html": [
       "<div>\n",
       "<style scoped>\n",
       "    .dataframe tbody tr th:only-of-type {\n",
       "        vertical-align: middle;\n",
       "    }\n",
       "\n",
       "    .dataframe tbody tr th {\n",
       "        vertical-align: top;\n",
       "    }\n",
       "\n",
       "    .dataframe thead th {\n",
       "        text-align: right;\n",
       "    }\n",
       "</style>\n",
       "<table border=\"1\" class=\"dataframe\">\n",
       "  <thead>\n",
       "    <tr style=\"text-align: right;\">\n",
       "      <th></th>\n",
       "      <th>major</th>\n",
       "      <th>minor</th>\n",
       "      <th>bldgnbr</th>\n",
       "      <th>nbrlivingunits</th>\n",
       "      <th>address</th>\n",
       "      <th>buildingnumber</th>\n",
       "      <th>fraction</th>\n",
       "      <th>directionprefix</th>\n",
       "      <th>streetname</th>\n",
       "      <th>streettype</th>\n",
       "      <th>...</th>\n",
       "      <th>fpmultistory</th>\n",
       "      <th>fpfreestanding</th>\n",
       "      <th>fpadditional</th>\n",
       "      <th>yrbuilt</th>\n",
       "      <th>yrrenovated</th>\n",
       "      <th>pcntcomplete</th>\n",
       "      <th>obsolescence</th>\n",
       "      <th>pcntnetcondition</th>\n",
       "      <th>condition</th>\n",
       "      <th>addnlcost</th>\n",
       "    </tr>\n",
       "  </thead>\n",
       "  <tbody>\n",
       "    <tr>\n",
       "      <th>0</th>\n",
       "      <td>000180</td>\n",
       "      <td>0010</td>\n",
       "      <td>1</td>\n",
       "      <td>1</td>\n",
       "      <td>1525  S SNOQUALMIE ST   98108</td>\n",
       "      <td>1525</td>\n",
       "      <td></td>\n",
       "      <td>S</td>\n",
       "      <td>SNOQUALMIE</td>\n",
       "      <td>ST</td>\n",
       "      <td>...</td>\n",
       "      <td>0</td>\n",
       "      <td>0</td>\n",
       "      <td>0</td>\n",
       "      <td>1915</td>\n",
       "      <td>2007</td>\n",
       "      <td>0</td>\n",
       "      <td>0</td>\n",
       "      <td>0</td>\n",
       "      <td>3</td>\n",
       "      <td>8000</td>\n",
       "    </tr>\n",
       "    <tr>\n",
       "      <th>1</th>\n",
       "      <td>000180</td>\n",
       "      <td>0143</td>\n",
       "      <td>1</td>\n",
       "      <td>1</td>\n",
       "      <td>1518  S ANGELINE ST   98108</td>\n",
       "      <td>1518</td>\n",
       "      <td></td>\n",
       "      <td>S</td>\n",
       "      <td>ANGELINE</td>\n",
       "      <td>ST</td>\n",
       "      <td>...</td>\n",
       "      <td>0</td>\n",
       "      <td>0</td>\n",
       "      <td>0</td>\n",
       "      <td>1988</td>\n",
       "      <td>0</td>\n",
       "      <td>0</td>\n",
       "      <td>0</td>\n",
       "      <td>0</td>\n",
       "      <td>3</td>\n",
       "      <td>0</td>\n",
       "    </tr>\n",
       "    <tr>\n",
       "      <th>2</th>\n",
       "      <td>000180</td>\n",
       "      <td>0154</td>\n",
       "      <td>1</td>\n",
       "      <td>1</td>\n",
       "      <td>1711  S COLUMBIAN WAY   98108</td>\n",
       "      <td>1711</td>\n",
       "      <td></td>\n",
       "      <td>S</td>\n",
       "      <td>COLUMBIAN</td>\n",
       "      <td>WAY</td>\n",
       "      <td>...</td>\n",
       "      <td>0</td>\n",
       "      <td>0</td>\n",
       "      <td>0</td>\n",
       "      <td>1958</td>\n",
       "      <td>0</td>\n",
       "      <td>0</td>\n",
       "      <td>0</td>\n",
       "      <td>0</td>\n",
       "      <td>3</td>\n",
       "      <td>0</td>\n",
       "    </tr>\n",
       "    <tr>\n",
       "      <th>3</th>\n",
       "      <td>000280</td>\n",
       "      <td>0017</td>\n",
       "      <td>1</td>\n",
       "      <td>1</td>\n",
       "      <td>13955   56TH PL S  98168</td>\n",
       "      <td>13955</td>\n",
       "      <td></td>\n",
       "      <td></td>\n",
       "      <td>56TH</td>\n",
       "      <td>PL</td>\n",
       "      <td>...</td>\n",
       "      <td>0</td>\n",
       "      <td>0</td>\n",
       "      <td>0</td>\n",
       "      <td>1943</td>\n",
       "      <td>1990</td>\n",
       "      <td>0</td>\n",
       "      <td>0</td>\n",
       "      <td>0</td>\n",
       "      <td>3</td>\n",
       "      <td>0</td>\n",
       "    </tr>\n",
       "    <tr>\n",
       "      <th>4</th>\n",
       "      <td>000280</td>\n",
       "      <td>0025</td>\n",
       "      <td>1</td>\n",
       "      <td>1</td>\n",
       "      <td>13925   56TH PL S  98168</td>\n",
       "      <td>13925</td>\n",
       "      <td></td>\n",
       "      <td></td>\n",
       "      <td>56TH</td>\n",
       "      <td>PL</td>\n",
       "      <td>...</td>\n",
       "      <td>0</td>\n",
       "      <td>0</td>\n",
       "      <td>0</td>\n",
       "      <td>1930</td>\n",
       "      <td>0</td>\n",
       "      <td>0</td>\n",
       "      <td>0</td>\n",
       "      <td>0</td>\n",
       "      <td>5</td>\n",
       "      <td>0</td>\n",
       "    </tr>\n",
       "  </tbody>\n",
       "</table>\n",
       "<p>5 rows × 50 columns</p>\n",
       "</div>"
      ],
      "text/plain": [
       "    major minor  bldgnbr  nbrlivingunits                        address  \\\n",
       "0  000180  0010        1               1  1525  S SNOQUALMIE ST   98108   \n",
       "1  000180  0143        1               1    1518  S ANGELINE ST   98108   \n",
       "2  000180  0154        1               1  1711  S COLUMBIAN WAY   98108   \n",
       "3  000280  0017        1               1       13955   56TH PL S  98168   \n",
       "4  000280  0025        1               1       13925   56TH PL S  98168   \n",
       "\n",
       "  buildingnumber fraction directionprefix                 streetname  \\\n",
       "0          1525                        S   SNOQUALMIE                  \n",
       "1          1518                        S   ANGELINE                    \n",
       "2          1711                        S   COLUMBIAN                   \n",
       "3          13955                           56TH                        \n",
       "4          13925                           56TH                        \n",
       "\n",
       "  streettype  ... fpmultistory fpfreestanding  fpadditional  yrbuilt  \\\n",
       "0     ST      ...            0              0             0     1915   \n",
       "1     ST      ...            0              0             0     1988   \n",
       "2     WAY     ...            0              0             0     1958   \n",
       "3     PL      ...            0              0             0     1943   \n",
       "4     PL      ...            0              0             0     1930   \n",
       "\n",
       "   yrrenovated  pcntcomplete  obsolescence  pcntnetcondition  condition  \\\n",
       "0         2007             0             0                 0          3   \n",
       "1            0             0             0                 0          3   \n",
       "2            0             0             0                 0          3   \n",
       "3         1990             0             0                 0          3   \n",
       "4            0             0             0                 0          5   \n",
       "\n",
       "   addnlcost  \n",
       "0       8000  \n",
       "1          0  \n",
       "2          0  \n",
       "3          0  \n",
       "4          0  \n",
       "\n",
       "[5 rows x 50 columns]"
      ]
     },
     "execution_count": 47,
     "metadata": {},
     "output_type": "execute_result"
    }
   ],
   "source": [
    "pd.read_sql_query(\"SELECT * FROM buildings LIMIT 5;\", conn)"
   ]
  },
  {
   "cell_type": "code",
   "execution_count": 48,
   "metadata": {},
   "outputs": [
    {
     "data": {
      "text/html": [
       "<div>\n",
       "<style scoped>\n",
       "    .dataframe tbody tr th:only-of-type {\n",
       "        vertical-align: middle;\n",
       "    }\n",
       "\n",
       "    .dataframe tbody tr th {\n",
       "        vertical-align: top;\n",
       "    }\n",
       "\n",
       "    .dataframe thead th {\n",
       "        text-align: right;\n",
       "    }\n",
       "</style>\n",
       "<table border=\"1\" class=\"dataframe\">\n",
       "  <thead>\n",
       "    <tr style=\"text-align: right;\">\n",
       "      <th></th>\n",
       "      <th>major</th>\n",
       "      <th>minor</th>\n",
       "      <th>propname</th>\n",
       "      <th>platname</th>\n",
       "      <th>platlot</th>\n",
       "      <th>platblock</th>\n",
       "      <th>range</th>\n",
       "      <th>township</th>\n",
       "      <th>section</th>\n",
       "      <th>quartersection</th>\n",
       "      <th>...</th>\n",
       "      <th>seismichazard</th>\n",
       "      <th>landslidehazard</th>\n",
       "      <th>steepslopehazard</th>\n",
       "      <th>stream</th>\n",
       "      <th>wetland</th>\n",
       "      <th>speciesofconcern</th>\n",
       "      <th>sensitiveareatract</th>\n",
       "      <th>waterproblems</th>\n",
       "      <th>transpconcurrency</th>\n",
       "      <th>otherproblems</th>\n",
       "    </tr>\n",
       "  </thead>\n",
       "  <tbody>\n",
       "    <tr>\n",
       "      <th>0</th>\n",
       "      <td>889250</td>\n",
       "      <td>0080</td>\n",
       "      <td>...</td>\n",
       "      <td>VELKOFF JOHN ADD                              ...</td>\n",
       "      <td>8</td>\n",
       "      <td></td>\n",
       "      <td>5</td>\n",
       "      <td>22</td>\n",
       "      <td>8</td>\n",
       "      <td>SE</td>\n",
       "      <td>...</td>\n",
       "      <td>N</td>\n",
       "      <td>N</td>\n",
       "      <td>N</td>\n",
       "      <td>N</td>\n",
       "      <td>N</td>\n",
       "      <td>N</td>\n",
       "      <td>N</td>\n",
       "      <td>N</td>\n",
       "      <td>N</td>\n",
       "      <td>N</td>\n",
       "    </tr>\n",
       "    <tr>\n",
       "      <th>1</th>\n",
       "      <td>736360</td>\n",
       "      <td>0275</td>\n",
       "      <td>...</td>\n",
       "      <td>ROBERTS JAY COUNTRY CLUB ESTATES              ...</td>\n",
       "      <td>8</td>\n",
       "      <td>2</td>\n",
       "      <td>4</td>\n",
       "      <td>26</td>\n",
       "      <td>34</td>\n",
       "      <td>SE</td>\n",
       "      <td>...</td>\n",
       "      <td>N</td>\n",
       "      <td>N</td>\n",
       "      <td>N</td>\n",
       "      <td>N</td>\n",
       "      <td>N</td>\n",
       "      <td>N</td>\n",
       "      <td>N</td>\n",
       "      <td>N</td>\n",
       "      <td>N</td>\n",
       "      <td>N</td>\n",
       "    </tr>\n",
       "    <tr>\n",
       "      <th>2</th>\n",
       "      <td>600350</td>\n",
       "      <td>0635</td>\n",
       "      <td>...</td>\n",
       "      <td>NAGLES 2ND ADD                                ...</td>\n",
       "      <td>6</td>\n",
       "      <td>28</td>\n",
       "      <td>4</td>\n",
       "      <td>25</td>\n",
       "      <td>32</td>\n",
       "      <td>NE</td>\n",
       "      <td>...</td>\n",
       "      <td>N</td>\n",
       "      <td>N</td>\n",
       "      <td>N</td>\n",
       "      <td>N</td>\n",
       "      <td>N</td>\n",
       "      <td>N</td>\n",
       "      <td>N</td>\n",
       "      <td>N</td>\n",
       "      <td>N</td>\n",
       "      <td>N</td>\n",
       "    </tr>\n",
       "    <tr>\n",
       "      <th>3</th>\n",
       "      <td>635260</td>\n",
       "      <td>0760</td>\n",
       "      <td>...</td>\n",
       "      <td>OLD MILL POINT                                ...</td>\n",
       "      <td>TRACT I</td>\n",
       "      <td></td>\n",
       "      <td>6</td>\n",
       "      <td>25</td>\n",
       "      <td>18</td>\n",
       "      <td>SE</td>\n",
       "      <td>...</td>\n",
       "      <td>N</td>\n",
       "      <td>N</td>\n",
       "      <td>N</td>\n",
       "      <td>N</td>\n",
       "      <td>N</td>\n",
       "      <td>N</td>\n",
       "      <td>N</td>\n",
       "      <td>N</td>\n",
       "      <td>N</td>\n",
       "      <td>N</td>\n",
       "    </tr>\n",
       "    <tr>\n",
       "      <th>4</th>\n",
       "      <td>333250</td>\n",
       "      <td>0015</td>\n",
       "      <td>...</td>\n",
       "      <td>HILLMAN CITY DIV NO. 05                       ...</td>\n",
       "      <td>3-4</td>\n",
       "      <td>1</td>\n",
       "      <td>4</td>\n",
       "      <td>24</td>\n",
       "      <td>22</td>\n",
       "      <td>SE</td>\n",
       "      <td>...</td>\n",
       "      <td>N</td>\n",
       "      <td>N</td>\n",
       "      <td>N</td>\n",
       "      <td>N</td>\n",
       "      <td>N</td>\n",
       "      <td>N</td>\n",
       "      <td>N</td>\n",
       "      <td>N</td>\n",
       "      <td>N</td>\n",
       "      <td>N</td>\n",
       "    </tr>\n",
       "  </tbody>\n",
       "</table>\n",
       "<p>5 rows × 81 columns</p>\n",
       "</div>"
      ],
      "text/plain": [
       "    major minor                                           propname  \\\n",
       "0  889250  0080                                                ...   \n",
       "1  736360  0275                                                ...   \n",
       "2  600350  0635                                                ...   \n",
       "3  635260  0760                                                ...   \n",
       "4  333250  0015                                                ...   \n",
       "\n",
       "                                            platname         platlot  \\\n",
       "0  VELKOFF JOHN ADD                              ...  8                \n",
       "1  ROBERTS JAY COUNTRY CLUB ESTATES              ...  8                \n",
       "2  NAGLES 2ND ADD                                ...  6                \n",
       "3  OLD MILL POINT                                ...  TRACT I          \n",
       "4  HILLMAN CITY DIV NO. 05                       ...  3-4              \n",
       "\n",
       "  platblock  range  township  section quartersection  ... seismichazard  \\\n",
       "0                5        22        8             SE  ...             N   \n",
       "1   2            4        26       34             SE  ...             N   \n",
       "2   28           4        25       32             NE  ...             N   \n",
       "3                6        25       18             SE  ...             N   \n",
       "4   1            4        24       22             SE  ...             N   \n",
       "\n",
       "  landslidehazard steepslopehazard stream wetland speciesofconcern  \\\n",
       "0               N                N      N       N                N   \n",
       "1               N                N      N       N                N   \n",
       "2               N                N      N       N                N   \n",
       "3               N                N      N       N                N   \n",
       "4               N                N      N       N                N   \n",
       "\n",
       "  sensitiveareatract waterproblems  transpconcurrency  otherproblems  \n",
       "0                  N             N                  N              N  \n",
       "1                  N             N                  N              N  \n",
       "2                  N             N                  N              N  \n",
       "3                  N             N                  N              N  \n",
       "4                  N             N                  N              N  \n",
       "\n",
       "[5 rows x 81 columns]"
      ]
     },
     "execution_count": 48,
     "metadata": {},
     "output_type": "execute_result"
    }
   ],
   "source": [
    "pd.read_sql_query(\"SELECT * FROM parcels LIMIT 5;\", conn)"
   ]
  },
  {
   "cell_type": "code",
   "execution_count": 49,
   "metadata": {},
   "outputs": [
    {
     "data": {
      "text/html": [
       "<div>\n",
       "<style scoped>\n",
       "    .dataframe tbody tr th:only-of-type {\n",
       "        vertical-align: middle;\n",
       "    }\n",
       "\n",
       "    .dataframe tbody tr th {\n",
       "        vertical-align: top;\n",
       "    }\n",
       "\n",
       "    .dataframe thead th {\n",
       "        text-align: right;\n",
       "    }\n",
       "</style>\n",
       "<table border=\"1\" class=\"dataframe\">\n",
       "  <thead>\n",
       "    <tr style=\"text-align: right;\">\n",
       "      <th></th>\n",
       "      <th>pin</th>\n",
       "      <th>saleprice</th>\n",
       "      <th>documentdate</th>\n",
       "      <th>wfntlocation</th>\n",
       "      <th>sqfttotliving</th>\n",
       "    </tr>\n",
       "  </thead>\n",
       "  <tbody>\n",
       "    <tr>\n",
       "      <th>0</th>\n",
       "      <td>8732160190</td>\n",
       "      <td>355000</td>\n",
       "      <td>2018-01-01</td>\n",
       "      <td>False</td>\n",
       "      <td>1580</td>\n",
       "    </tr>\n",
       "    <tr>\n",
       "      <th>1</th>\n",
       "      <td>2287300010</td>\n",
       "      <td>298633</td>\n",
       "      <td>2018-01-01</td>\n",
       "      <td>False</td>\n",
       "      <td>1810</td>\n",
       "    </tr>\n",
       "    <tr>\n",
       "      <th>2</th>\n",
       "      <td>8695200067</td>\n",
       "      <td>275000</td>\n",
       "      <td>2018-01-01</td>\n",
       "      <td>False</td>\n",
       "      <td>1250</td>\n",
       "    </tr>\n",
       "    <tr>\n",
       "      <th>3</th>\n",
       "      <td>3672000080</td>\n",
       "      <td>1029884</td>\n",
       "      <td>2018-01-02</td>\n",
       "      <td>False</td>\n",
       "      <td>3030</td>\n",
       "    </tr>\n",
       "    <tr>\n",
       "      <th>4</th>\n",
       "      <td>7228501490</td>\n",
       "      <td>860000</td>\n",
       "      <td>2018-01-02</td>\n",
       "      <td>False</td>\n",
       "      <td>2200</td>\n",
       "    </tr>\n",
       "    <tr>\n",
       "      <th>...</th>\n",
       "      <td>...</td>\n",
       "      <td>...</td>\n",
       "      <td>...</td>\n",
       "      <td>...</td>\n",
       "      <td>...</td>\n",
       "    </tr>\n",
       "    <tr>\n",
       "      <th>30267</th>\n",
       "      <td>3750606594</td>\n",
       "      <td>394000</td>\n",
       "      <td>2018-12-31</td>\n",
       "      <td>False</td>\n",
       "      <td>1920</td>\n",
       "    </tr>\n",
       "    <tr>\n",
       "      <th>30268</th>\n",
       "      <td>3395070110</td>\n",
       "      <td>520000</td>\n",
       "      <td>2018-12-31</td>\n",
       "      <td>False</td>\n",
       "      <td>1720</td>\n",
       "    </tr>\n",
       "    <tr>\n",
       "      <th>30269</th>\n",
       "      <td>1895450110</td>\n",
       "      <td>415000</td>\n",
       "      <td>2018-12-31</td>\n",
       "      <td>False</td>\n",
       "      <td>2060</td>\n",
       "    </tr>\n",
       "    <tr>\n",
       "      <th>30270</th>\n",
       "      <td>2025049183</td>\n",
       "      <td>1085000</td>\n",
       "      <td>2018-12-31</td>\n",
       "      <td>False</td>\n",
       "      <td>1870</td>\n",
       "    </tr>\n",
       "    <tr>\n",
       "      <th>30271</th>\n",
       "      <td>8101900290</td>\n",
       "      <td>525000</td>\n",
       "      <td>2018-12-31</td>\n",
       "      <td>False</td>\n",
       "      <td>2020</td>\n",
       "    </tr>\n",
       "  </tbody>\n",
       "</table>\n",
       "<p>30272 rows × 5 columns</p>\n",
       "</div>"
      ],
      "text/plain": [
       "              pin  saleprice documentdate  wfntlocation  sqfttotliving\n",
       "0      8732160190     355000   2018-01-01         False           1580\n",
       "1      2287300010     298633   2018-01-01         False           1810\n",
       "2      8695200067     275000   2018-01-01         False           1250\n",
       "3      3672000080    1029884   2018-01-02         False           3030\n",
       "4      7228501490     860000   2018-01-02         False           2200\n",
       "...           ...        ...          ...           ...            ...\n",
       "30267  3750606594     394000   2018-12-31         False           1920\n",
       "30268  3395070110     520000   2018-12-31         False           1720\n",
       "30269  1895450110     415000   2018-12-31         False           2060\n",
       "30270  2025049183    1085000   2018-12-31         False           1870\n",
       "30271  8101900290     525000   2018-12-31         False           2020\n",
       "\n",
       "[30272 rows x 5 columns]"
      ]
     },
     "execution_count": 49,
     "metadata": {},
     "output_type": "execute_result"
    }
   ],
   "source": [
    "sql_utils.create_sales_df()"
   ]
  },
  {
   "cell_type": "code",
   "execution_count": 50,
   "metadata": {},
   "outputs": [],
   "source": [
    "conn.close()"
   ]
  },
  {
   "cell_type": "markdown",
   "metadata": {},
   "source": [
    "Ok, everything seems to be refactored"
   ]
  },
  {
   "cell_type": "code",
   "execution_count": 51,
   "metadata": {},
   "outputs": [],
   "source": [
    "# This bit makes more sense in the modeling branch so I'm gonna remove it for now\n",
    "def return_result_of_sql_script(conn, script_filename):\n",
    "    \"\"\"\n",
    "    Given a DB connection and a file path to a SQL script, run the query and\n",
    "    return the results as a pandas dataframe\n",
    "    \"\"\"\n",
    "    file_contents = open_sql_script(script_filename)\n",
    "    result = pd.read_sql_query(file_contents, conn)\n",
    "    return result"
   ]
  },
  {
   "cell_type": "markdown",
   "metadata": {},
   "source": [
    "Run the whole data collection pipeline to make sure everything is working"
   ]
  },
  {
   "cell_type": "code",
   "execution_count": 52,
   "metadata": {},
   "outputs": [],
   "source": [
    "data_collection.download_data_and_load_into_sql()"
   ]
  },
  {
   "cell_type": "markdown",
   "metadata": {},
   "source": [
    "And then the recently un-improved sales df query"
   ]
  },
  {
   "cell_type": "code",
   "execution_count": 53,
   "metadata": {},
   "outputs": [
    {
     "data": {
      "text/html": [
       "<div>\n",
       "<style scoped>\n",
       "    .dataframe tbody tr th:only-of-type {\n",
       "        vertical-align: middle;\n",
       "    }\n",
       "\n",
       "    .dataframe tbody tr th {\n",
       "        vertical-align: top;\n",
       "    }\n",
       "\n",
       "    .dataframe thead th {\n",
       "        text-align: right;\n",
       "    }\n",
       "</style>\n",
       "<table border=\"1\" class=\"dataframe\">\n",
       "  <thead>\n",
       "    <tr style=\"text-align: right;\">\n",
       "      <th></th>\n",
       "      <th>pin</th>\n",
       "      <th>saleprice</th>\n",
       "      <th>documentdate</th>\n",
       "      <th>wfntlocation</th>\n",
       "      <th>sqfttotliving</th>\n",
       "    </tr>\n",
       "  </thead>\n",
       "  <tbody>\n",
       "    <tr>\n",
       "      <th>0</th>\n",
       "      <td>8732160190</td>\n",
       "      <td>355000</td>\n",
       "      <td>2018-01-01</td>\n",
       "      <td>False</td>\n",
       "      <td>1580</td>\n",
       "    </tr>\n",
       "    <tr>\n",
       "      <th>1</th>\n",
       "      <td>2287300010</td>\n",
       "      <td>298633</td>\n",
       "      <td>2018-01-01</td>\n",
       "      <td>False</td>\n",
       "      <td>1810</td>\n",
       "    </tr>\n",
       "    <tr>\n",
       "      <th>2</th>\n",
       "      <td>8695200067</td>\n",
       "      <td>275000</td>\n",
       "      <td>2018-01-01</td>\n",
       "      <td>False</td>\n",
       "      <td>1250</td>\n",
       "    </tr>\n",
       "    <tr>\n",
       "      <th>3</th>\n",
       "      <td>9414610310</td>\n",
       "      <td>525000</td>\n",
       "      <td>2018-01-02</td>\n",
       "      <td>False</td>\n",
       "      <td>1340</td>\n",
       "    </tr>\n",
       "    <tr>\n",
       "      <th>4</th>\n",
       "      <td>6884800015</td>\n",
       "      <td>660000</td>\n",
       "      <td>2018-01-02</td>\n",
       "      <td>False</td>\n",
       "      <td>1660</td>\n",
       "    </tr>\n",
       "    <tr>\n",
       "      <th>...</th>\n",
       "      <td>...</td>\n",
       "      <td>...</td>\n",
       "      <td>...</td>\n",
       "      <td>...</td>\n",
       "      <td>...</td>\n",
       "    </tr>\n",
       "    <tr>\n",
       "      <th>30267</th>\n",
       "      <td>7889500340</td>\n",
       "      <td>764950</td>\n",
       "      <td>2018-12-31</td>\n",
       "      <td>False</td>\n",
       "      <td>1960</td>\n",
       "    </tr>\n",
       "    <tr>\n",
       "      <th>30268</th>\n",
       "      <td>9347900210</td>\n",
       "      <td>305594</td>\n",
       "      <td>2018-12-31</td>\n",
       "      <td>False</td>\n",
       "      <td>880</td>\n",
       "    </tr>\n",
       "    <tr>\n",
       "      <th>30269</th>\n",
       "      <td>6852700555</td>\n",
       "      <td>1099950</td>\n",
       "      <td>2018-12-31</td>\n",
       "      <td>False</td>\n",
       "      <td>1470</td>\n",
       "    </tr>\n",
       "    <tr>\n",
       "      <th>30270</th>\n",
       "      <td>5028600460</td>\n",
       "      <td>363500</td>\n",
       "      <td>2018-12-31</td>\n",
       "      <td>False</td>\n",
       "      <td>1340</td>\n",
       "    </tr>\n",
       "    <tr>\n",
       "      <th>30271</th>\n",
       "      <td>1246700354</td>\n",
       "      <td>1058000</td>\n",
       "      <td>2018-12-31</td>\n",
       "      <td>False</td>\n",
       "      <td>3030</td>\n",
       "    </tr>\n",
       "  </tbody>\n",
       "</table>\n",
       "<p>30272 rows × 5 columns</p>\n",
       "</div>"
      ],
      "text/plain": [
       "              pin  saleprice documentdate  wfntlocation  sqfttotliving\n",
       "0      8732160190     355000   2018-01-01         False           1580\n",
       "1      2287300010     298633   2018-01-01         False           1810\n",
       "2      8695200067     275000   2018-01-01         False           1250\n",
       "3      9414610310     525000   2018-01-02         False           1340\n",
       "4      6884800015     660000   2018-01-02         False           1660\n",
       "...           ...        ...          ...           ...            ...\n",
       "30267  7889500340     764950   2018-12-31         False           1960\n",
       "30268  9347900210     305594   2018-12-31         False            880\n",
       "30269  6852700555    1099950   2018-12-31         False           1470\n",
       "30270  5028600460     363500   2018-12-31         False           1340\n",
       "30271  1246700354    1058000   2018-12-31         False           3030\n",
       "\n",
       "[30272 rows x 5 columns]"
      ]
     },
     "execution_count": 53,
     "metadata": {},
     "output_type": "execute_result"
    }
   ],
   "source": [
    "sql_utils.create_sales_df()"
   ]
  },
  {
   "cell_type": "markdown",
   "metadata": {},
   "source": [
    "Looks refactored to me!"
   ]
  },
  {
   "cell_type": "code",
   "execution_count": null,
   "metadata": {},
   "outputs": [],
   "source": []
  }
 ],
 "metadata": {
  "kernelspec": {
   "display_name": "Python 3",
   "language": "python",
   "name": "python3"
  },
  "language_info": {
   "codemirror_mode": {
    "name": "ipython",
    "version": 3
   },
   "file_extension": ".py",
   "mimetype": "text/x-python",
   "name": "python",
   "nbconvert_exporter": "python",
   "pygments_lexer": "ipython3",
   "version": "3.8.0"
  }
 },
 "nbformat": 4,
 "nbformat_minor": 4
}
